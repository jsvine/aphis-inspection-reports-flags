{
 "cells": [
  {
   "cell_type": "code",
   "execution_count": null,
   "id": "8862db99",
   "metadata": {},
   "outputs": [],
   "source": [
    "import pandas as pd\n",
    "import numpy as np"
   ]
  },
  {
   "cell_type": "markdown",
   "id": "be4e0254",
   "metadata": {},
   "source": [
    "# Skeleton Code for Narrative Flag Creation"
   ]
  },
  {
   "cell_type": "code",
   "execution_count": null,
   "id": "1293dc36",
   "metadata": {},
   "outputs": [],
   "source": [
    "combined_dir = './aphis-inspection-reports/data/combined/'"
   ]
  },
  {
   "cell_type": "code",
   "execution_count": null,
   "id": "4f9f58a7",
   "metadata": {},
   "outputs": [],
   "source": [
    "# Upload most recent aphis inspection-ctiations.csv\n",
    "citations = pd.read_csv(combined_dir + 'inspections-citations.csv')\n",
    "citations.shape"
   ]
  },
  {
   "cell_type": "code",
   "execution_count": null,
   "id": "84b8d88d",
   "metadata": {},
   "outputs": [],
   "source": [
    "# Dataframe check\n",
    "citations.head()"
   ]
  },
  {
   "cell_type": "code",
   "execution_count": null,
   "id": "b673eb6c",
   "metadata": {},
   "outputs": [],
   "source": [
    "# Insert flag keywords\n",
    "flag_keywords = [\n",
    "    'marmoset' \n",
    "]"
   ]
  },
  {
   "cell_type": "code",
   "execution_count": null,
   "id": "8064c2c6",
   "metadata": {},
   "outputs": [],
   "source": [
    "# Create flag column\n",
    "citations['x_flag'] = citations['narrative'].apply(lambda x: any(word in x.lower() for word in flag_keywords))"
   ]
  },
  {
   "cell_type": "code",
   "execution_count": null,
   "id": "4c2c811e",
   "metadata": {},
   "outputs": [],
   "source": [
    "# Spot-check\n",
    "citations['x_flag'].value_counts()"
   ]
  },
  {
   "cell_type": "code",
   "execution_count": null,
   "id": "2eb5c633",
   "metadata": {},
   "outputs": [],
   "source": [
    "# Spot-check\n",
    "citations[citations['x_flag'] == True]['narrative'].tolist()"
   ]
  },
  {
   "cell_type": "code",
   "execution_count": null,
   "id": "e42f71ee",
   "metadata": {},
   "outputs": [],
   "source": [
    "# Save citations with new flag column \n",
    "# citations.to_csv('inspections-citations-with-x-flag.csv')"
   ]
  }
 ],
 "metadata": {
  "kernelspec": {
   "display_name": "Python 3 (ipykernel)",
   "language": "python",
   "name": "python3"
  },
  "language_info": {
   "codemirror_mode": {
    "name": "ipython",
    "version": 3
   },
   "file_extension": ".py",
   "mimetype": "text/x-python",
   "name": "python",
   "nbconvert_exporter": "python",
   "pygments_lexer": "ipython3",
   "version": "3.11.5"
  }
 },
 "nbformat": 4,
 "nbformat_minor": 5
}
