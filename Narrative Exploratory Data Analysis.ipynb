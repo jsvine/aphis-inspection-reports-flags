{
 "cells": [
  {
   "cell_type": "code",
   "execution_count": 1,
   "id": "cc6fca9f",
   "metadata": {},
   "outputs": [],
   "source": [
    "import pandas as pd\n",
    "import numpy as np\n",
    "import matplotlib.pyplot as plt\n",
    "from collections import Counter\n",
    "\n",
    "import sklearn\n",
    "from sklearn.cluster import KMeans\n",
    "from sklearn.decomposition import LatentDirichletAllocation\n",
    "from sklearn.pipeline import Pipeline\n",
    "from sklearn.preprocessing import LabelEncoder\n",
    "from sklearn.feature_extraction.text import CountVectorizer, TfidfVectorizer\n",
    "\n",
    "import nltk\n",
    "from nltk.stem import PorterStemmer, WordNetLemmatizer\n",
    "from nltk.tokenize import word_tokenize\n",
    "from nltk.corpus import stopwords\n",
    "\n",
    "import gensim\n",
    "from gensim.models import Word2Vec"
   ]
  },
  {
   "cell_type": "markdown",
   "id": "f5d4151e",
   "metadata": {},
   "source": [
    "# Narrative - Exploratory Data Analysis"
   ]
  },
  {
   "cell_type": "markdown",
   "id": "93f5fb86",
   "metadata": {},
   "source": [
    "Exploratory data analysis of APHIS inspection reports data's \"narrative\" column. "
   ]
  },
  {
   "cell_type": "code",
   "execution_count": 2,
   "id": "e6d600c1",
   "metadata": {},
   "outputs": [],
   "source": [
    "combined_dir = './aphis-inspection-reports/data/combined/'"
   ]
  },
  {
   "cell_type": "code",
   "execution_count": 3,
   "id": "8a84e6db",
   "metadata": {},
   "outputs": [
    {
     "name": "stdout",
     "output_type": "stream",
     "text": [
      "(94883, 2)\n"
     ]
    },
    {
     "data": {
      "text/plain": [
       "['hash_id', 'narrative']"
      ]
     },
     "execution_count": 3,
     "metadata": {},
     "output_type": "execute_result"
    }
   ],
   "source": [
    "narratives = pd.read_csv(combined_dir + 'inspections-narratives.csv')\n",
    "print(narratives.shape)\n",
    "narratives.columns.tolist()"
   ]
  },
  {
   "cell_type": "code",
   "execution_count": 4,
   "id": "512a3a61",
   "metadata": {},
   "outputs": [
    {
     "name": "stdout",
     "output_type": "stream",
     "text": [
      "(398528, 4)\n"
     ]
    },
    {
     "data": {
      "text/plain": [
       "['hash_id', 'count', 'scientific', 'common']"
      ]
     },
     "execution_count": 4,
     "metadata": {},
     "output_type": "execute_result"
    }
   ],
   "source": [
    "species = pd.read_csv(combined_dir + 'inspections-species.csv')\n",
    "print(species.shape)\n",
    "species.columns.tolist()"
   ]
  },
  {
   "cell_type": "code",
   "execution_count": 5,
   "id": "315e00a2",
   "metadata": {},
   "outputs": [
    {
     "name": "stdout",
     "output_type": "stream",
     "text": [
      "(38749, 6)\n"
     ]
    },
    {
     "data": {
      "text/plain": [
       "['hash_id', 'code', 'kind', 'repeat', 'desc', 'narrative']"
      ]
     },
     "execution_count": 5,
     "metadata": {},
     "output_type": "execute_result"
    }
   ],
   "source": [
    "citations = pd.read_csv(combined_dir + 'inspections-citations.csv')\n",
    "print(citations.shape)\n",
    "citations.columns.tolist()"
   ]
  },
  {
   "cell_type": "code",
   "execution_count": 6,
   "id": "22a8a6e7",
   "metadata": {
    "scrolled": true
   },
   "outputs": [
    {
     "name": "stdout",
     "output_type": "stream",
     "text": [
      "(95459, 31)\n"
     ]
    },
    {
     "name": "stderr",
     "output_type": "stream",
     "text": [
      "/var/folders/7b/llw41rn55vn8yn15rg03bjxh0000gn/T/ipykernel_86254/2060818130.py:1: DtypeWarning: Columns (13) have mixed types. Specify dtype option on import or set low_memory=False.\n",
      "  inspections = pd.read_csv(combined_dir + 'inspections.csv')\n"
     ]
    },
    {
     "data": {
      "text/plain": [
       "['web_certNumber',\n",
       " 'web_certType',\n",
       " 'web_city',\n",
       " 'web_critical',\n",
       " 'web_customerNumber',\n",
       " 'web_direct',\n",
       " 'web_inspectionDate',\n",
       " 'web_legalName',\n",
       " 'web_nonCritical',\n",
       " 'web_reportLink',\n",
       " 'web_siteName',\n",
       " 'web_state',\n",
       " 'web_teachableMoments',\n",
       " 'web_zip',\n",
       " 'hash_id',\n",
       " 'discovered',\n",
       " 'pdf_insp_id',\n",
       " 'pdf_layout',\n",
       " 'pdf_customer_id',\n",
       " 'pdf_customer_name',\n",
       " 'pdf_customer_addr',\n",
       " 'pdf_certificate',\n",
       " 'pdf_site_id',\n",
       " 'pdf_site_name',\n",
       " 'pdf_insp_type',\n",
       " 'pdf_date',\n",
       " 'pdf_report_date',\n",
       " 'pdf_animals_total',\n",
       " 'doccloud_url',\n",
       " 'licenseType',\n",
       " 'customer_state']"
      ]
     },
     "execution_count": 6,
     "metadata": {},
     "output_type": "execute_result"
    }
   ],
   "source": [
    "inspections = pd.read_csv(combined_dir + 'inspections.csv')\n",
    "print(inspections.shape)\n",
    "inspections.columns.tolist()"
   ]
  },
  {
   "cell_type": "code",
   "execution_count": 7,
   "id": "4de0f971",
   "metadata": {},
   "outputs": [
    {
     "data": {
      "text/plain": [
       "(94855, 36)"
      ]
     },
     "execution_count": 7,
     "metadata": {},
     "output_type": "execute_result"
    }
   ],
   "source": [
    "# Joining inspections and citations \n",
    "inspections_citations = inspections.merge(citations, how='left', on='hash_id')\n",
    "inspections_citations = inspections_citations.drop_duplicates(subset=['hash_id'])\n",
    "inspections_citations.shape"
   ]
  },
  {
   "cell_type": "code",
   "execution_count": 8,
   "id": "f973663c",
   "metadata": {},
   "outputs": [],
   "source": [
    "# Overview of all column values\n",
    "#for i in inspections_citations.columns.tolist(): \n",
    "#   print(inspections_citations[i].value_counts())\n",
    "#   print('------------------------')\n",
    "#   print()"
   ]
  },
  {
   "cell_type": "code",
   "execution_count": 9,
   "id": "564f4f12",
   "metadata": {},
   "outputs": [
    {
     "data": {
      "text/plain": [
       "21082"
      ]
     },
     "execution_count": 9,
     "metadata": {},
     "output_type": "execute_result"
    }
   ],
   "source": [
    "inspections_citations['narrative'].notnull().sum()"
   ]
  },
  {
   "cell_type": "code",
   "execution_count": 10,
   "id": "49ae70f7",
   "metadata": {},
   "outputs": [
    {
     "data": {
      "text/plain": [
       "pdf_insp_type\n",
       "ROUTINE INSPECTION       13229\n",
       "ATTEMPTED INSPECTION      6727\n",
       "FOCUSED INSPECTION         668\n",
       "RE-LICENSE INSPECTION      417\n",
       "NEW SITE INSPECTION         41\n",
       "Name: count, dtype: int64"
      ]
     },
     "execution_count": 10,
     "metadata": {},
     "output_type": "execute_result"
    }
   ],
   "source": [
    "inspections_citations[inspections_citations['narrative'].notnull()]['pdf_insp_type'].value_counts()"
   ]
  },
  {
   "cell_type": "code",
   "execution_count": 11,
   "id": "add2e078",
   "metadata": {},
   "outputs": [
    {
     "data": {
      "text/plain": [
       "web_critical\n",
       "0    19711\n",
       "1     1145\n",
       "2      162\n",
       "3       44\n",
       "4       14\n",
       "5        4\n",
       "6        1\n",
       "8        1\n",
       "Name: count, dtype: int64"
      ]
     },
     "execution_count": 11,
     "metadata": {},
     "output_type": "execute_result"
    }
   ],
   "source": [
    "# web_critical = Number of \"critical\" noncompliant items\n",
    "inspections_citations[inspections_citations['narrative'].notnull()]['web_critical'].value_counts()"
   ]
  },
  {
   "cell_type": "code",
   "execution_count": 12,
   "id": "cce3de58",
   "metadata": {},
   "outputs": [
    {
     "data": {
      "text/plain": [
       "web_direct\n",
       "0     19705\n",
       "1      1039\n",
       "2       218\n",
       "3        61\n",
       "4        30\n",
       "5        16\n",
       "7         4\n",
       "6         4\n",
       "8         3\n",
       "9         1\n",
       "14        1\n",
       "Name: count, dtype: int64"
      ]
     },
     "execution_count": 12,
     "metadata": {},
     "output_type": "execute_result"
    }
   ],
   "source": [
    "# web_direct = Number of \"direct\" noncompliant items\n",
    "inspections_citations[inspections_citations['narrative'].notnull()]['web_direct'].value_counts()"
   ]
  },
  {
   "cell_type": "code",
   "execution_count": 13,
   "id": "50079546",
   "metadata": {},
   "outputs": [
    {
     "data": {
      "text/plain": [
       "['At the south farm, a goat was observed to jump up onto the ledge of the concrete foundation and move from pen 4\\nover to pen 5 and then back to pen 4 again. There was a panel up on the ledge in place to prevent this, however\\nthe goat could pass between the vertical supports of the panel. Also, the panel had some free ends of wire that if\\nbent out could become sharp points exposed to any goat that climbs up on the concrete ledge. Lack of proper\\ncontainment and exposure to sharp points could lead to injury or other adverse events. The facility must ensure\\nthat enclosures are structurally sound and maintained in good repair to contain the animals and protect them from\\ninjury.\\nCorrect by October 5, 2016.\\nThis inspection and exit interview were conducted with facility representatives on 9/26 thru 9/27/2016.',\n",
       " 'Two bottles of Heparin (one partially used, one unopened) and one partially used tube of Puralube eye lubrication\\nointment were found in room 140 at ATRC building that were expired (06/2017 and 05/2016 respectively). In the\\nrefrigerator in the Stallion Barn lab area, a syringe containing a white liquid was unlabeled and undated. Liquids in\\nunlabeled syringes are not identifiable and may be incorrectly administrated or improperly used. Expired\\nmedications may have compromised efficacy and potency. Use of unlabeled medication or expired drugs may be\\nharmful or lead to untowards effects or inadequate treatment. The facility needs to ensure that medications are\\nstored and labeled properly and are not being used past their expiration date. Corrected at time of inspection.\\nThis inspection and exit interview were conducted with facility representatives.\\nAdditional Inspectors\\nSecor Thomas, Veterinary Medical Officer',\n",
       " 'One expired bottle of Isoflourane (expiration date 20 Aug 2014) was found on a shelf in the procedure room. The\\nprocedure utilizing this anesthetic agent had been removed from the protocol in May 2017. Expired medications\\nmay have compromised efficacy and potency and use of such does not constitute adequate veterinary care. The\\ninstitution needs to ensure that medications are not being used past their expiration date. Expired bottle was\\ndisposed of at the end of the inspection.\\nThis inspection and exit interview were conducted with facility representative.',\n",
       " 'According to facility observational and/or health records, three adult woodrats escaped their primary enclosures. Facility\\nrepresentatives confirmed the animals escaped by chewing through the plastic. Animals #1325, #1302 and #1201 each\\nescaped from their primary enclosures and into the holding room: #1201 escaped on 11/26/2022 and again on\\n12/02/2022; #1325 escaped on 03/11/2022, 04/24/2023, 06/04/2023 and 07/27/2023; #1302 escaped on 09/11/2022,\\n10/14/2022 and 01/14/2023. Although all animals were recovered following escape, the woodrat health record states that,\\non 09/11/2022, a woodrat (#1302 \"Maddie,\" a desert woodrat) “injured feet during escape.” The inspector witnessed\\neleven woodrat enclosures in active use that were patched by tape and/or plastic at the time of inspection.\\nEnclosures that are damaged and have weak points or holes, and/or rough or sharp edges (including such as are\\nproduced from chewing) could continue to result in animal escapes and injuries. The registrant must ensure that housing\\nis constructed of such material and of such strength as appropriate for the animals involved, and that it is structurally\\nsound and maintained in good repair to protect the animals from injury and contain the animals.\\nTO BE CORRECTED BY 10/27/2023\\nThis inspection and exit interview were conducted with facility representatives.\\nn',\n",
       " \"In August 2015, a cynomolgus macaque placed under anesthesia for a study procedure was observed to have a\\nlow body temperature. In order to normalize the animal's core temperature during the procedure, a staff member\\nwas directed by a veterinarian to use a hot air source; however, the nozzle of this hot air source was inappropriately\\nplaced in a location which subsequently led to thermal injuries and later, euthanasia.\\nIt is the responsibility of the research facility to ensure that all scientists, research technicians, animal technicians,\\nand other personnel involved in animal care, treatment, and use are qualified to perform necessary or directed\\nduties. This responsibility shall be fulfilled in part through the provision of training and appropriate instruction to\\nthose personnel.\\nCorrective measures were taken, including but not limited to, retraining of all involved staff and observation of\\ntechniques by veterinary staff.\\nThis item has been corrected by the facility.\"]"
      ]
     },
     "execution_count": 13,
     "metadata": {},
     "output_type": "execute_result"
    }
   ],
   "source": [
    "inspections_citations[(inspections_citations['narrative'].notnull()) & (inspections_citations['web_direct']== 0)]['narrative'].head(5).tolist()"
   ]
  },
  {
   "cell_type": "markdown",
   "id": "0f6d5df8",
   "metadata": {},
   "source": [
    "## Word Frequencies"
   ]
  },
  {
   "cell_type": "markdown",
   "id": "46a7bbab",
   "metadata": {},
   "source": [
    "Looking at most frequently occuring words in \"narrative\" column. "
   ]
  },
  {
   "cell_type": "code",
   "execution_count": 14,
   "id": "baf769dc",
   "metadata": {},
   "outputs": [],
   "source": [
    "inspections_citations_notnull = inspections_citations[inspections_citations['narrative'].notnull()]"
   ]
  },
  {
   "cell_type": "code",
   "execution_count": 15,
   "id": "021f2725",
   "metadata": {},
   "outputs": [
    {
     "name": "stdout",
     "output_type": "stream",
     "text": [
      "Most Frequent Words:\n",
      ".: 124860\n",
      ",: 75804\n",
      "inspection: 26216\n",
      "animals: 20077\n",
      "facility: 19007\n",
      "licensee: 16390\n",
      "must: 15031\n",
      "*: 14139\n",
      "animal: 13597\n",
      "): 13000\n",
      "(: 12694\n",
      "available: 11959\n",
      "care: 11353\n",
      "veterinarian: 11149\n",
      "adult: 10349\n",
      "aphis: 9443\n",
      "veterinary: 9017\n",
      "conducted: 8474\n",
      "enclosure: 8157\n",
      "officials: 8110\n",
      "responsible: 8087\n",
      "correct: 7931\n",
      "accompany: 7794\n",
      ":: 7784\n",
      "process: 7739\n",
      "exit: 7294\n",
      "ensure: 6680\n",
      "attending: 6433\n",
      "dogs: 6346\n",
      "records: 5987\n",
      "one: 5590\n",
      "health: 5544\n",
      "dog: 5526\n",
      "program: 5466\n",
      "inspector: 5439\n",
      "interview: 5212\n",
      "enclosures: 5206\n",
      "section: 5139\n",
      "time: 5118\n",
      "shall: 4918\n",
      "left: 4873\n",
      "treatment: 4714\n",
      "corrected: 4685\n",
      "may: 4492\n",
      "two: 4045\n",
      "could: 3985\n",
      "'s: 3904\n",
      "representative: 3782\n",
      "area: 3703\n",
      "#: 3696\n"
     ]
    }
   ],
   "source": [
    "# Load NLTK stopwords\n",
    "stop_words = set(stopwords.words(\"english\"))\n",
    "\n",
    "# Combine all text from the 'text_column' into a single string\n",
    "all_text = ' '.join(inspections_citations_notnull['narrative'].apply(lambda x: x.lower()))\n",
    "\n",
    "# Tokenize the combined text\n",
    "tokens = word_tokenize(all_text)\n",
    "\n",
    "# Remove stopwords\n",
    "filtered_tokens = [word for word in tokens if word.lower() not in stop_words]\n",
    "\n",
    "# Count the frequency of each word\n",
    "word_counts = Counter(filtered_tokens)\n",
    "\n",
    "# Get the most common words\n",
    "most_common_words = word_counts.most_common()\n",
    "\n",
    "print(\"Most Frequent Words:\")\n",
    "for word, count in most_common_words[0:50]:\n",
    "    print(f\"{word}: {count}\")"
   ]
  },
  {
   "cell_type": "markdown",
   "id": "d566f815",
   "metadata": {},
   "source": [
    "## TFIDF"
   ]
  },
  {
   "cell_type": "markdown",
   "id": "72a1780d",
   "metadata": {},
   "source": [
    "Looking at most important words in \"narrative\" column based on term frequency–inverse document frequency (a measure of importance of a word to a collection of documents, adjusted for the fact that some words appear more frequently in general).  "
   ]
  },
  {
   "cell_type": "code",
   "execution_count": 16,
   "id": "d939f8a4",
   "metadata": {},
   "outputs": [],
   "source": [
    "# Function to get the most frequent words and their TF-IDF scores\n",
    "def get_top_words_tfidf(text_column, max_features=10):\n",
    "    # Count Vectorizer\n",
    "    count_vectorizer = CountVectorizer(stop_words='english')\n",
    "    count_matrix = count_vectorizer.fit_transform(text_column)\n",
    "\n",
    "    # TF-IDF Vectorizer\n",
    "    tfidf_vectorizer = TfidfVectorizer(stop_words='english')\n",
    "    tfidf_matrix = tfidf_vectorizer.fit_transform(text_column)\n",
    "\n",
    "    # Get feature names\n",
    "    feature_names = count_vectorizer.get_feature_names_out()\n",
    "\n",
    "    # Calculate TF-IDF scores\n",
    "    tfidf_scores = tfidf_matrix.sum(axis=0).A1\n",
    "\n",
    "    # Create a DataFrame with words and their TF-IDF scores\n",
    "    tfidf_df = pd.DataFrame({'Word': feature_names, 'TFIDF Score': tfidf_scores})\n",
    "\n",
    "    # Sort DataFrame by TF-IDF Score in descending order\n",
    "    tfidf_df = tfidf_df.sort_values(by='TFIDF Score', ascending=False)\n",
    "\n",
    "    # Get the top words\n",
    "    top_words = tfidf_df#.head(max_features)\n",
    "\n",
    "    return top_words"
   ]
  },
  {
   "cell_type": "code",
   "execution_count": 17,
   "id": "3836babb",
   "metadata": {},
   "outputs": [],
   "source": [
    "# Get the top words and their TF-IDF scores\n",
    "top_words_tfidf = get_top_words_tfidf(inspections_citations_notnull['narrative'])\n",
    "top_words_tfidf['rank'] = np.arange(1, top_words_tfidf.shape[0]+1, 1)"
   ]
  },
  {
   "cell_type": "code",
   "execution_count": 18,
   "id": "7264139d",
   "metadata": {},
   "outputs": [
    {
     "data": {
      "text/html": [
       "<div>\n",
       "<style scoped>\n",
       "    .dataframe tbody tr th:only-of-type {\n",
       "        vertical-align: middle;\n",
       "    }\n",
       "\n",
       "    .dataframe tbody tr th {\n",
       "        vertical-align: top;\n",
       "    }\n",
       "\n",
       "    .dataframe thead th {\n",
       "        text-align: right;\n",
       "    }\n",
       "</style>\n",
       "<table border=\"1\" class=\"dataframe\">\n",
       "  <thead>\n",
       "    <tr style=\"text-align: right;\">\n",
       "      <th></th>\n",
       "      <th>Word</th>\n",
       "      <th>TFIDF Score</th>\n",
       "      <th>rank</th>\n",
       "    </tr>\n",
       "  </thead>\n",
       "  <tbody>\n",
       "    <tr>\n",
       "      <th>12840</th>\n",
       "      <td>inspection</td>\n",
       "      <td>1147.404349</td>\n",
       "      <td>1</td>\n",
       "    </tr>\n",
       "    <tr>\n",
       "      <th>5663</th>\n",
       "      <td>available</td>\n",
       "      <td>1044.477902</td>\n",
       "      <td>2</td>\n",
       "    </tr>\n",
       "    <tr>\n",
       "      <th>4591</th>\n",
       "      <td>accompany</td>\n",
       "      <td>895.672947</td>\n",
       "      <td>3</td>\n",
       "    </tr>\n",
       "    <tr>\n",
       "      <th>18383</th>\n",
       "      <td>responsible</td>\n",
       "      <td>895.547622</td>\n",
       "      <td>4</td>\n",
       "    </tr>\n",
       "    <tr>\n",
       "      <th>5274</th>\n",
       "      <td>aphis</td>\n",
       "      <td>876.360232</td>\n",
       "      <td>5</td>\n",
       "    </tr>\n",
       "    <tr>\n",
       "      <th>4796</th>\n",
       "      <td>adult</td>\n",
       "      <td>868.827971</td>\n",
       "      <td>6</td>\n",
       "    </tr>\n",
       "    <tr>\n",
       "      <th>17263</th>\n",
       "      <td>process</td>\n",
       "      <td>858.121746</td>\n",
       "      <td>7</td>\n",
       "    </tr>\n",
       "    <tr>\n",
       "      <th>15759</th>\n",
       "      <td>officials</td>\n",
       "      <td>855.936079</td>\n",
       "      <td>8</td>\n",
       "    </tr>\n",
       "    <tr>\n",
       "      <th>10531</th>\n",
       "      <td>facility</td>\n",
       "      <td>772.490103</td>\n",
       "      <td>9</td>\n",
       "    </tr>\n",
       "    <tr>\n",
       "      <th>13951</th>\n",
       "      <td>licensee</td>\n",
       "      <td>755.972519</td>\n",
       "      <td>10</td>\n",
       "    </tr>\n",
       "    <tr>\n",
       "      <th>5172</th>\n",
       "      <td>animals</td>\n",
       "      <td>694.510376</td>\n",
       "      <td>11</td>\n",
       "    </tr>\n",
       "    <tr>\n",
       "      <th>6946</th>\n",
       "      <td>care</td>\n",
       "      <td>551.858169</td>\n",
       "      <td>12</td>\n",
       "    </tr>\n",
       "    <tr>\n",
       "      <th>5168</th>\n",
       "      <td>animal</td>\n",
       "      <td>534.438744</td>\n",
       "      <td>13</td>\n",
       "    </tr>\n",
       "    <tr>\n",
       "      <th>22288</th>\n",
       "      <td>veterinarian</td>\n",
       "      <td>492.907611</td>\n",
       "      <td>14</td>\n",
       "    </tr>\n",
       "    <tr>\n",
       "      <th>17907</th>\n",
       "      <td>records</td>\n",
       "      <td>488.912570</td>\n",
       "      <td>15</td>\n",
       "    </tr>\n",
       "    <tr>\n",
       "      <th>19137</th>\n",
       "      <td>section</td>\n",
       "      <td>464.593264</td>\n",
       "      <td>16</td>\n",
       "    </tr>\n",
       "    <tr>\n",
       "      <th>22291</th>\n",
       "      <td>veterinary</td>\n",
       "      <td>464.400409</td>\n",
       "      <td>17</td>\n",
       "    </tr>\n",
       "    <tr>\n",
       "      <th>12842</th>\n",
       "      <td>inspector</td>\n",
       "      <td>462.300627</td>\n",
       "      <td>18</td>\n",
       "    </tr>\n",
       "    <tr>\n",
       "      <th>16855</th>\n",
       "      <td>pm</td>\n",
       "      <td>420.185716</td>\n",
       "      <td>19</td>\n",
       "    </tr>\n",
       "    <tr>\n",
       "      <th>9976</th>\n",
       "      <td>enclosure</td>\n",
       "      <td>402.847940</td>\n",
       "      <td>20</td>\n",
       "    </tr>\n",
       "  </tbody>\n",
       "</table>\n",
       "</div>"
      ],
      "text/plain": [
       "               Word  TFIDF Score  rank\n",
       "12840    inspection  1147.404349     1\n",
       "5663      available  1044.477902     2\n",
       "4591      accompany   895.672947     3\n",
       "18383   responsible   895.547622     4\n",
       "5274          aphis   876.360232     5\n",
       "4796          adult   868.827971     6\n",
       "17263       process   858.121746     7\n",
       "15759     officials   855.936079     8\n",
       "10531      facility   772.490103     9\n",
       "13951      licensee   755.972519    10\n",
       "5172        animals   694.510376    11\n",
       "6946           care   551.858169    12\n",
       "5168         animal   534.438744    13\n",
       "22288  veterinarian   492.907611    14\n",
       "17907       records   488.912570    15\n",
       "19137       section   464.593264    16\n",
       "22291    veterinary   464.400409    17\n",
       "12842     inspector   462.300627    18\n",
       "16855            pm   420.185716    19\n",
       "9976      enclosure   402.847940    20"
      ]
     },
     "execution_count": 18,
     "metadata": {},
     "output_type": "execute_result"
    }
   ],
   "source": [
    "top_words_tfidf.head(20)"
   ]
  },
  {
   "cell_type": "code",
   "execution_count": 19,
   "id": "952075f5",
   "metadata": {},
   "outputs": [
    {
     "name": "stderr",
     "output_type": "stream",
     "text": [
      "/var/folders/7b/llw41rn55vn8yn15rg03bjxh0000gn/T/ipykernel_86254/3917990956.py:10: SettingWithCopyWarning: \n",
      "A value is trying to be set on a copy of a slice from a DataFrame.\n",
      "Try using .loc[row_indexer,col_indexer] = value instead\n",
      "\n",
      "See the caveats in the documentation: https://pandas.pydata.org/pandas-docs/stable/user_guide/indexing.html#returning-a-view-versus-a-copy\n",
      "  inspections_citations_notnull['stemmed_narrative'] = inspections_citations_notnull['narrative'].apply(stem_text)\n"
     ]
    }
   ],
   "source": [
    "porter_stemmer = PorterStemmer()\n",
    "\n",
    "def stem_text(text):\n",
    "    # Tokenize the text and apply stemming to each token\n",
    "    tokens = word_tokenize(text)\n",
    "    stemmed_tokens = [porter_stemmer.stem(token) for token in tokens]\n",
    "    return ' '.join(stemmed_tokens)\n",
    "\n",
    "# Apply stemming to the text column\n",
    "inspections_citations_notnull['stemmed_narrative'] = inspections_citations_notnull['narrative'].apply(stem_text)"
   ]
  },
  {
   "cell_type": "code",
   "execution_count": 20,
   "id": "313c48a4",
   "metadata": {},
   "outputs": [],
   "source": [
    "# Get the top words of stemmed_narrative and their TF-IDF scores\n",
    "top_stemmed_words_tfidf = get_top_words_tfidf(inspections_citations_notnull['stemmed_narrative'])"
   ]
  },
  {
   "cell_type": "code",
   "execution_count": 21,
   "id": "fccf21e6",
   "metadata": {},
   "outputs": [
    {
     "data": {
      "text/html": [
       "<div>\n",
       "<style scoped>\n",
       "    .dataframe tbody tr th:only-of-type {\n",
       "        vertical-align: middle;\n",
       "    }\n",
       "\n",
       "    .dataframe tbody tr th {\n",
       "        vertical-align: top;\n",
       "    }\n",
       "\n",
       "    .dataframe thead th {\n",
       "        text-align: right;\n",
       "    }\n",
       "</style>\n",
       "<table border=\"1\" class=\"dataframe\">\n",
       "  <thead>\n",
       "    <tr style=\"text-align: right;\">\n",
       "      <th></th>\n",
       "      <th>Word</th>\n",
       "      <th>TFIDF Score</th>\n",
       "      <th>rank</th>\n",
       "    </tr>\n",
       "  </thead>\n",
       "  <tbody>\n",
       "    <tr>\n",
       "      <th>17309</th>\n",
       "      <td>wa</td>\n",
       "      <td>1265.387446</td>\n",
       "      <td>1</td>\n",
       "    </tr>\n",
       "    <tr>\n",
       "      <th>10339</th>\n",
       "      <td>inspect</td>\n",
       "      <td>1205.964332</td>\n",
       "      <td>2</td>\n",
       "    </tr>\n",
       "    <tr>\n",
       "      <th>5266</th>\n",
       "      <td>avail</td>\n",
       "      <td>1081.845890</td>\n",
       "      <td>3</td>\n",
       "    </tr>\n",
       "    <tr>\n",
       "      <th>4933</th>\n",
       "      <td>anim</td>\n",
       "      <td>1036.498730</td>\n",
       "      <td>4</td>\n",
       "    </tr>\n",
       "    <tr>\n",
       "      <th>14372</th>\n",
       "      <td>respons</td>\n",
       "      <td>929.089841</td>\n",
       "      <td>5</td>\n",
       "    </tr>\n",
       "    <tr>\n",
       "      <th>4541</th>\n",
       "      <td>accompani</td>\n",
       "      <td>905.256049</td>\n",
       "      <td>6</td>\n",
       "    </tr>\n",
       "    <tr>\n",
       "      <th>12612</th>\n",
       "      <td>offici</td>\n",
       "      <td>890.346428</td>\n",
       "      <td>7</td>\n",
       "    </tr>\n",
       "    <tr>\n",
       "      <th>5024</th>\n",
       "      <td>aphi</td>\n",
       "      <td>889.324585</td>\n",
       "      <td>8</td>\n",
       "    </tr>\n",
       "    <tr>\n",
       "      <th>4665</th>\n",
       "      <td>adult</td>\n",
       "      <td>884.764852</td>\n",
       "      <td>9</td>\n",
       "    </tr>\n",
       "    <tr>\n",
       "      <th>8090</th>\n",
       "      <td>dure</td>\n",
       "      <td>880.048794</td>\n",
       "      <td>10</td>\n",
       "    </tr>\n",
       "    <tr>\n",
       "      <th>13690</th>\n",
       "      <td>process</td>\n",
       "      <td>869.301532</td>\n",
       "      <td>11</td>\n",
       "    </tr>\n",
       "    <tr>\n",
       "      <th>8630</th>\n",
       "      <td>facil</td>\n",
       "      <td>844.671058</td>\n",
       "      <td>12</td>\n",
       "    </tr>\n",
       "    <tr>\n",
       "      <th>11175</th>\n",
       "      <td>license</td>\n",
       "      <td>793.205261</td>\n",
       "      <td>13</td>\n",
       "    </tr>\n",
       "    <tr>\n",
       "      <th>16261</th>\n",
       "      <td>thi</td>\n",
       "      <td>659.546826</td>\n",
       "      <td>14</td>\n",
       "    </tr>\n",
       "    <tr>\n",
       "      <th>8295</th>\n",
       "      <td>enclosur</td>\n",
       "      <td>631.991324</td>\n",
       "      <td>15</td>\n",
       "    </tr>\n",
       "    <tr>\n",
       "      <th>10343</th>\n",
       "      <td>inspector</td>\n",
       "      <td>612.369728</td>\n",
       "      <td>16</td>\n",
       "    </tr>\n",
       "    <tr>\n",
       "      <th>6254</th>\n",
       "      <td>care</td>\n",
       "      <td>576.534604</td>\n",
       "      <td>17</td>\n",
       "    </tr>\n",
       "    <tr>\n",
       "      <th>14119</th>\n",
       "      <td>record</td>\n",
       "      <td>561.532155</td>\n",
       "      <td>18</td>\n",
       "    </tr>\n",
       "    <tr>\n",
       "      <th>7911</th>\n",
       "      <td>dog</td>\n",
       "      <td>557.431112</td>\n",
       "      <td>19</td>\n",
       "    </tr>\n",
       "    <tr>\n",
       "      <th>17182</th>\n",
       "      <td>veterinarian</td>\n",
       "      <td>517.648332</td>\n",
       "      <td>20</td>\n",
       "    </tr>\n",
       "  </tbody>\n",
       "</table>\n",
       "</div>"
      ],
      "text/plain": [
       "               Word  TFIDF Score  rank\n",
       "17309            wa  1265.387446     1\n",
       "10339       inspect  1205.964332     2\n",
       "5266          avail  1081.845890     3\n",
       "4933           anim  1036.498730     4\n",
       "14372       respons   929.089841     5\n",
       "4541      accompani   905.256049     6\n",
       "12612        offici   890.346428     7\n",
       "5024           aphi   889.324585     8\n",
       "4665          adult   884.764852     9\n",
       "8090           dure   880.048794    10\n",
       "13690       process   869.301532    11\n",
       "8630          facil   844.671058    12\n",
       "11175       license   793.205261    13\n",
       "16261           thi   659.546826    14\n",
       "8295       enclosur   631.991324    15\n",
       "10343     inspector   612.369728    16\n",
       "6254           care   576.534604    17\n",
       "14119        record   561.532155    18\n",
       "7911            dog   557.431112    19\n",
       "17182  veterinarian   517.648332    20"
      ]
     },
     "execution_count": 21,
     "metadata": {},
     "output_type": "execute_result"
    }
   ],
   "source": [
    "top_stemmed_words_tfidf['rank'] = np.arange(1, top_stemmed_words_tfidf.shape[0]+1, 1)\n",
    "top_stemmed_words_tfidf.head(20)"
   ]
  },
  {
   "cell_type": "code",
   "execution_count": 22,
   "id": "246a4375",
   "metadata": {},
   "outputs": [
    {
     "data": {
      "text/html": [
       "<div>\n",
       "<style scoped>\n",
       "    .dataframe tbody tr th:only-of-type {\n",
       "        vertical-align: middle;\n",
       "    }\n",
       "\n",
       "    .dataframe tbody tr th {\n",
       "        vertical-align: top;\n",
       "    }\n",
       "\n",
       "    .dataframe thead th {\n",
       "        text-align: right;\n",
       "    }\n",
       "</style>\n",
       "<table border=\"1\" class=\"dataframe\">\n",
       "  <thead>\n",
       "    <tr style=\"text-align: right;\">\n",
       "      <th></th>\n",
       "      <th>Word</th>\n",
       "      <th>TFIDF Score</th>\n",
       "      <th>rank</th>\n",
       "    </tr>\n",
       "  </thead>\n",
       "  <tbody>\n",
       "    <tr>\n",
       "      <th>11969</th>\n",
       "      <td>heat</td>\n",
       "      <td>24.734898</td>\n",
       "      <td>938</td>\n",
       "    </tr>\n",
       "  </tbody>\n",
       "</table>\n",
       "</div>"
      ],
      "text/plain": [
       "       Word  TFIDF Score  rank\n",
       "11969  heat    24.734898   938"
      ]
     },
     "execution_count": 22,
     "metadata": {},
     "output_type": "execute_result"
    }
   ],
   "source": [
    "top_words_tfidf[top_words_tfidf['Word'] == 'heat']"
   ]
  },
  {
   "cell_type": "code",
   "execution_count": 23,
   "id": "34fbc037",
   "metadata": {},
   "outputs": [
    {
     "data": {
      "text/html": [
       "<div>\n",
       "<style scoped>\n",
       "    .dataframe tbody tr th:only-of-type {\n",
       "        vertical-align: middle;\n",
       "    }\n",
       "\n",
       "    .dataframe tbody tr th {\n",
       "        vertical-align: top;\n",
       "    }\n",
       "\n",
       "    .dataframe thead th {\n",
       "        text-align: right;\n",
       "    }\n",
       "</style>\n",
       "<table border=\"1\" class=\"dataframe\">\n",
       "  <thead>\n",
       "    <tr style=\"text-align: right;\">\n",
       "      <th></th>\n",
       "      <th>Word</th>\n",
       "      <th>TFIDF Score</th>\n",
       "      <th>rank</th>\n",
       "    </tr>\n",
       "  </thead>\n",
       "  <tbody>\n",
       "    <tr>\n",
       "      <th>20956</th>\n",
       "      <td>temperature</td>\n",
       "      <td>56.243076</td>\n",
       "      <td>451</td>\n",
       "    </tr>\n",
       "  </tbody>\n",
       "</table>\n",
       "</div>"
      ],
      "text/plain": [
       "              Word  TFIDF Score  rank\n",
       "20956  temperature    56.243076   451"
      ]
     },
     "execution_count": 23,
     "metadata": {},
     "output_type": "execute_result"
    }
   ],
   "source": [
    "top_words_tfidf[top_words_tfidf['Word'] == 'temperature']"
   ]
  },
  {
   "cell_type": "code",
   "execution_count": 24,
   "id": "ecc10cb1",
   "metadata": {},
   "outputs": [
    {
     "data": {
      "text/html": [
       "<div>\n",
       "<style scoped>\n",
       "    .dataframe tbody tr th:only-of-type {\n",
       "        vertical-align: middle;\n",
       "    }\n",
       "\n",
       "    .dataframe tbody tr th {\n",
       "        vertical-align: top;\n",
       "    }\n",
       "\n",
       "    .dataframe thead th {\n",
       "        text-align: right;\n",
       "    }\n",
       "</style>\n",
       "<table border=\"1\" class=\"dataframe\">\n",
       "  <thead>\n",
       "    <tr style=\"text-align: right;\">\n",
       "      <th></th>\n",
       "      <th>Word</th>\n",
       "      <th>TFIDF Score</th>\n",
       "      <th>rank</th>\n",
       "    </tr>\n",
       "  </thead>\n",
       "  <tbody>\n",
       "    <tr>\n",
       "      <th>9734</th>\n",
       "      <td>heat</td>\n",
       "      <td>32.202651</td>\n",
       "      <td>714</td>\n",
       "    </tr>\n",
       "  </tbody>\n",
       "</table>\n",
       "</div>"
      ],
      "text/plain": [
       "      Word  TFIDF Score  rank\n",
       "9734  heat    32.202651   714"
      ]
     },
     "execution_count": 24,
     "metadata": {},
     "output_type": "execute_result"
    }
   ],
   "source": [
    "top_stemmed_words_tfidf[top_stemmed_words_tfidf['Word'] == 'heat']"
   ]
  },
  {
   "cell_type": "code",
   "execution_count": 25,
   "id": "6484b5bc",
   "metadata": {},
   "outputs": [
    {
     "data": {
      "text/html": [
       "<div>\n",
       "<style scoped>\n",
       "    .dataframe tbody tr th:only-of-type {\n",
       "        vertical-align: middle;\n",
       "    }\n",
       "\n",
       "    .dataframe tbody tr th {\n",
       "        vertical-align: top;\n",
       "    }\n",
       "\n",
       "    .dataframe thead th {\n",
       "        text-align: right;\n",
       "    }\n",
       "</style>\n",
       "<table border=\"1\" class=\"dataframe\">\n",
       "  <thead>\n",
       "    <tr style=\"text-align: right;\">\n",
       "      <th></th>\n",
       "      <th>Word</th>\n",
       "      <th>TFIDF Score</th>\n",
       "      <th>rank</th>\n",
       "    </tr>\n",
       "  </thead>\n",
       "  <tbody>\n",
       "    <tr>\n",
       "      <th>16180</th>\n",
       "      <td>temperature</td>\n",
       "      <td>0.351695</td>\n",
       "      <td>8551</td>\n",
       "    </tr>\n",
       "  </tbody>\n",
       "</table>\n",
       "</div>"
      ],
      "text/plain": [
       "              Word  TFIDF Score  rank\n",
       "16180  temperature     0.351695  8551"
      ]
     },
     "execution_count": 25,
     "metadata": {},
     "output_type": "execute_result"
    }
   ],
   "source": [
    "top_stemmed_words_tfidf[top_stemmed_words_tfidf['Word'] == 'temperature']"
   ]
  },
  {
   "cell_type": "markdown",
   "id": "bb26c8f9",
   "metadata": {},
   "source": [
    "## Topic Modeling"
   ]
  },
  {
   "cell_type": "markdown",
   "id": "df8c44d1",
   "metadata": {},
   "source": [
    "Using topic modeling as an EDA tool. By clustering narratives by topic, we can see if any obvious/useful categories emerge. Listed below are new themes that emerged with increased clusters. \n",
    "\n",
    "### Narrative Themes\n",
    "\n",
    "##### 10 Clusters\n",
    "- Expired medications\n",
    "- Visible wounds/hair loss/sickness\n",
    "- Mention of \"A responsible adult was not available to accompany APHIS officials during inspection\"\n",
    "    - Can be filtered out with pdf_insp_type == 'ATTEMPTED INSPECTION'\n",
    "- Mention of \"IACUC\" (Institutional Animal Care and Use Committee)\n",
    "- Flaws in animal enclosures/physical environment\n",
    "- A written program of veterinary care is absent/outdated/incomplete\n",
    "- Importation/transportation of animals (especially by plane)\n",
    "\n",
    "##### 15 Clusters\n",
    "- Accumulation of filth; need for sanitation/disinfectant\n",
    "- Unauthorized sale/exhibition of animals\n",
    "\n",
    "##### 20 Clusters\n",
    "- Failures in storage (e.g. bedding, food)\n",
    "- Incomplete inventory/records of animals"
   ]
  },
  {
   "cell_type": "code",
   "execution_count": 26,
   "id": "51d839bb",
   "metadata": {},
   "outputs": [],
   "source": [
    "def plot_kcluster_elbow(word_list):\n",
    "    # Create the TF-IDF vectorizer\n",
    "    vectorizer = TfidfVectorizer()\n",
    "    X = vectorizer.fit_transform(word_list)\n",
    "\n",
    "    # Experiment with a range of clusters\n",
    "    max_clusters = 10\n",
    "    distortions = []\n",
    "\n",
    "    for i in range(1, max_clusters + 1):\n",
    "        kmeans = KMeans(n_clusters=i, random_state=42)\n",
    "        kmeans.fit(X)\n",
    "        distortions.append(kmeans.inertia_)\n",
    "\n",
    "    # Plot the Elbow curve\n",
    "    plt.plot(range(1, max_clusters + 1), distortions, marker='o')\n",
    "    plt.title('Elbow Method for Optimal k')\n",
    "    plt.xlabel('Number of Clusters')\n",
    "    plt.ylabel('Distortion')\n",
    "    plt.show()\n",
    "\n",
    "def show_kclusters(word_list, optimal_clusters):\n",
    "    # Create the TF-IDF vectorizer\n",
    "    vectorizer = TfidfVectorizer()\n",
    "    X = vectorizer.fit_transform(word_list)\n",
    "\n",
    "    kmeans = KMeans(n_clusters=optimal_clusters, random_state=42)\n",
    "    kmeans.fit(X)\n",
    "\n",
    "    word_list_clusters = list(zip(word_list, kmeans.labels_))\n",
    "\n",
    "    for cluster_id in range(optimal_clusters):\n",
    "        cluster_words = [word for word, label in word_list_clusters if label == cluster_id]\n",
    "        print(f\"Cluster {cluster_id + 1}: {cluster_words}\")\n",
    "        print()\n",
    "\n",
    "def topic_modeling(df, text_column, num_topics):\n",
    "    # Create a pipeline for topic modeling\n",
    "    pipeline = Pipeline([\n",
    "        ('tfidf', TfidfVectorizer()),\n",
    "        ('lda', LatentDirichletAllocation(n_components=num_topics, random_state=42))\n",
    "    ])\n",
    "\n",
    "    # Fit the pipeline on the text column\n",
    "    df['topic_cluster'] = pipeline.fit_transform(df[text_column]).argmax(axis=1)\n",
    "\n",
    "    return df"
   ]
  },
  {
   "cell_type": "code",
   "execution_count": 27,
   "id": "dd83c786",
   "metadata": {},
   "outputs": [
    {
     "name": "stderr",
     "output_type": "stream",
     "text": [
      "/Users/kchua/anaconda3/lib/python3.11/site-packages/sklearn/cluster/_kmeans.py:1412: FutureWarning: The default value of `n_init` will change from 10 to 'auto' in 1.4. Set the value of `n_init` explicitly to suppress the warning\n",
      "  super()._check_params_vs_input(X, default_n_init=10)\n",
      "/Users/kchua/anaconda3/lib/python3.11/site-packages/sklearn/cluster/_kmeans.py:1412: FutureWarning: The default value of `n_init` will change from 10 to 'auto' in 1.4. Set the value of `n_init` explicitly to suppress the warning\n",
      "  super()._check_params_vs_input(X, default_n_init=10)\n"
     ]
    },
    {
     "data": {
      "image/png": "[encoded data removed]",
      "text/plain": [
       "<Figure size 640x480 with 1 Axes>"
      ]
     },
     "metadata": {},
     "output_type": "display_data"
    }
   ],
   "source": [
    "unique_vals = inspections_citations_notnull['narrative'].unique()\n",
    "plot_kcluster_elbow(unique_vals)"
   ]
  },
  {
   "cell_type": "code",
   "execution_count": 28,
   "id": "17cea172",
   "metadata": {},
   "outputs": [
    {
     "name": "stderr",
     "output_type": "stream",
     "text": [
      "/var/folders/7b/llw41rn55vn8yn15rg03bjxh0000gn/T/ipykernel_86254/2398067158.py:45: SettingWithCopyWarning: \n",
      "A value is trying to be set on a copy of a slice from a DataFrame.\n",
      "Try using .loc[row_indexer,col_indexer] = value instead\n",
      "\n",
      "See the caveats in the documentation: https://pandas.pydata.org/pandas-docs/stable/user_guide/indexing.html#returning-a-view-versus-a-copy\n",
      "  df['topic_cluster'] = pipeline.fit_transform(df[text_column]).argmax(axis=1)\n"
     ]
    }
   ],
   "source": [
    "# Using topic modeling as EDA tool\n",
    "df = topic_modeling(inspections_citations_notnull, text_column='narrative', num_topics=10)\n",
    "\n",
    "#for cluster_id in df['topic_cluster'].unique():\n",
    "#    cluster_rows = df[df['topic_cluster'] == cluster_id]\n",
    "#    print(f\"Cluster {cluster_id}:\")\n",
    "#    print(cluster_rows['narrative'])\n",
    "#    print()"
   ]
  },
  {
   "cell_type": "code",
   "execution_count": 29,
   "id": "c9d16df0",
   "metadata": {},
   "outputs": [],
   "source": [
    "#df['topic_cluster'].value_counts()"
   ]
  },
  {
   "cell_type": "code",
   "execution_count": 30,
   "id": "688a3c58",
   "metadata": {},
   "outputs": [
    {
     "name": "stderr",
     "output_type": "stream",
     "text": [
      "/var/folders/7b/llw41rn55vn8yn15rg03bjxh0000gn/T/ipykernel_86254/2398067158.py:45: SettingWithCopyWarning: \n",
      "A value is trying to be set on a copy of a slice from a DataFrame.\n",
      "Try using .loc[row_indexer,col_indexer] = value instead\n",
      "\n",
      "See the caveats in the documentation: https://pandas.pydata.org/pandas-docs/stable/user_guide/indexing.html#returning-a-view-versus-a-copy\n",
      "  df['topic_cluster'] = pipeline.fit_transform(df[text_column]).argmax(axis=1)\n"
     ]
    }
   ],
   "source": [
    "# Repeating with higher maximum clusters to extract additional obvious groups\n",
    "df = topic_modeling(inspections_citations_notnull, text_column='narrative', num_topics=15)\n",
    "\n",
    "# Print clusters\n",
    "#for cluster_id in df['topic_cluster'].unique():\n",
    "#    cluster_rows = df[df['topic_cluster'] == cluster_id]\n",
    "#    print(f\"Cluster {cluster_id}:\")\n",
    "#    print(cluster_rows['narrative'])\n",
    "#    print()"
   ]
  },
  {
   "cell_type": "code",
   "execution_count": 31,
   "id": "e5a5eba7",
   "metadata": {},
   "outputs": [],
   "source": [
    "#df['topic_cluster'].value_counts()"
   ]
  },
  {
   "cell_type": "code",
   "execution_count": 32,
   "id": "b4300fa8",
   "metadata": {},
   "outputs": [],
   "source": [
    "#df[df['topic_cluster'] == 14]['narrative'].tolist()"
   ]
  },
  {
   "cell_type": "code",
   "execution_count": 33,
   "id": "c8f7e611",
   "metadata": {},
   "outputs": [
    {
     "name": "stderr",
     "output_type": "stream",
     "text": [
      "/var/folders/7b/llw41rn55vn8yn15rg03bjxh0000gn/T/ipykernel_86254/2398067158.py:45: SettingWithCopyWarning: \n",
      "A value is trying to be set on a copy of a slice from a DataFrame.\n",
      "Try using .loc[row_indexer,col_indexer] = value instead\n",
      "\n",
      "See the caveats in the documentation: https://pandas.pydata.org/pandas-docs/stable/user_guide/indexing.html#returning-a-view-versus-a-copy\n",
      "  df['topic_cluster'] = pipeline.fit_transform(df[text_column]).argmax(axis=1)\n"
     ]
    }
   ],
   "source": [
    "# Repeating with higher maximum clusters to extract additional obvious groups\n",
    "df = topic_modeling(inspections_citations_notnull, text_column='narrative', num_topics=20)\n",
    "\n",
    "# Print clusters\n",
    "#for cluster_id in df['topic_cluster'].unique():\n",
    "#    cluster_rows = df[df['topic_cluster'] == cluster_id]\n",
    "#    print(f\"Cluster {cluster_id}:\")\n",
    "#    print(cluster_rows['narrative'])\n",
    "#    print()"
   ]
  },
  {
   "cell_type": "code",
   "execution_count": 34,
   "id": "f807e8ba",
   "metadata": {
    "scrolled": true
   },
   "outputs": [],
   "source": [
    "#df['topic_cluster'].value_counts()"
   ]
  },
  {
   "cell_type": "code",
   "execution_count": 35,
   "id": "a399b866",
   "metadata": {},
   "outputs": [],
   "source": [
    "#df[df['topic_cluster'] == 13]['narrative'].tolist()"
   ]
  },
  {
   "cell_type": "markdown",
   "id": "3affbdb9",
   "metadata": {},
   "source": [
    "## Heat/Temperature"
   ]
  },
  {
   "cell_type": "markdown",
   "id": "c7a358be",
   "metadata": {},
   "source": [
    "Exploratory data analysis for specifically heat/temperature. \n",
    "\n",
    "### Notes \n",
    "\n",
    "- At 419 narratives, the heat/temperature flag has just 2% coverage of total narratives\n",
    "    - TFIDF values for heat and temperature are also low, not in top ~300 terms <br><br>\n",
    "\n",
    "- Mention of “heat” does not always mean the inspection revealed the animal was subject to overheating/excessive cooling.\n",
    "    - Why? “Overheating” or \"heat\" is often a sub-item in a standardized list of ways an animal should not be treated. The sentiment roughly reads (the exact phrasing changes; possibly a sentence included in some guiding inspection document): “all handling of animals should be done as carefully as possible in a manner that does not cause **overheating**, physical harm, or unnecessary discomfort.”\n",
    "        - 144 narratives contain the substring “carefully as possible in a manner that does not cause” (likely an undercount of the sub-item phenomenon)\n",
    "    - Additionally, heat/temperature can also be used to describe an outcome to prevent, for example: \"... repair the electrical outlet and then determine the capability of the unit to insure in can store food at the proper **temperature** and humidity.\"<br><br>\n",
    "\n",
    "- Filtering narratives according to mention of heat/temperature still results in diverse inspection findings/recommendations\n",
    "     - Animals suffered from overheating \n",
    "         - E.g. \"The initial corrective action was insufficient to maintain the appropriate temperature\\nfor hamsters, leading to an ambient temperature of >85 degrees for more than 12 hour\" \n",
    "        - \"On May 2, 2022, four Damaraland mole rats were found dead in their enclosures. According to facility personnel, an\\nelectric space heater that was being used to provide supplemental heat for the animals was somehow placed under the\\nmetal rack holding the enclosures resulting in the animals overheating.\"\n",
    "    - Improper sanitization procedures\n",
    "        - \"The facility could not verify that the Guinea Pig primary enclosures are being adequately sanitized. The facility currently\\nuses temperature-tapes to verify that the correct temperature (180 degrees Fahrenheit) is reached by the automated\\nwashing systems. There have been numerous failures of this system to reach the required temperatures and numerous\\nadditional weeks where the staff has failed to follow their internal procedures to test the temperatures in order to verify\\nthat the washing system is functioning properly.\\nTemperature tape readings record whether the cage wash reaches the required 180 degrees.\"\n",
    "    \n",
    "### Questions\n",
    "- What is the purpose behind identifying narratives involving heat/temperature?\n",
    "    - A frequently occuring inspection theme is flaws in animals' enclosures. Inadequate enclosures can lead to animal overheating/underheating. Should the flag focus on the outcome (overheating/underheating) or the initial failure in enclosure maintenance/construction?\n",
    "- What are more useful flags for assisting future analysis of this dataset? \n",
    "- Should flags aim for broadness/coverage? Or should flags identify very specific/rare phenomenons?"
   ]
  },
  {
   "cell_type": "code",
   "execution_count": 36,
   "id": "dffd0f28",
   "metadata": {},
   "outputs": [
    {
     "data": {
      "text/plain": [
       "21082"
      ]
     },
     "execution_count": 36,
     "metadata": {},
     "output_type": "execute_result"
    }
   ],
   "source": [
    "df['narrative'].notnull().sum()"
   ]
  },
  {
   "cell_type": "code",
   "execution_count": 37,
   "id": "31775d6f",
   "metadata": {},
   "outputs": [
    {
     "name": "stdout",
     "output_type": "stream",
     "text": [
      "424\n"
     ]
    }
   ],
   "source": [
    "print(len(df[df['narrative'].str.contains('heat | temperature')]['narrative'].tolist()))"
   ]
  },
  {
   "cell_type": "code",
   "execution_count": 38,
   "id": "6d73df25",
   "metadata": {},
   "outputs": [
    {
     "data": {
      "text/plain": [
       "2.0103636887054988"
      ]
     },
     "execution_count": 38,
     "metadata": {},
     "output_type": "execute_result"
    }
   ],
   "source": [
    "419/20842 * 100"
   ]
  },
  {
   "cell_type": "code",
   "execution_count": 39,
   "id": "983b7708",
   "metadata": {},
   "outputs": [
    {
     "data": {
      "text/plain": [
       "[\"In August 2015, a cynomolgus macaque placed under anesthesia for a study procedure was observed to have a\\nlow body temperature. In order to normalize the animal's core temperature during the procedure, a staff member\\nwas directed by a veterinarian to use a hot air source; however, the nozzle of this hot air source was inappropriately\\nplaced in a location which subsequently led to thermal injuries and later, euthanasia.\\nIt is the responsibility of the research facility to ensure that all scientists, research technicians, animal technicians,\\nand other personnel involved in animal care, treatment, and use are qualified to perform necessary or directed\\nduties. This responsibility shall be fulfilled in part through the provision of training and appropriate instruction to\\nthose personnel.\\nCorrective measures were taken, including but not limited to, retraining of all involved staff and observation of\\ntechniques by veterinary staff.\\nThis item has been corrected by the facility.\",\n",
       " \"During a Post Approval Monitoring (PAM) review for Study A conducted on August 1, 2022, the IACUC representative\\nnoticed the principal investigator was conducting a nerve injury pilot study using 12 swine. The pilot study was not\\ndescribed in the IACUC approved protocol. This pilot study included fewer weeks of post-operative monitoring and\\nadditional behavioral trials not included in the protocol. Additionally, there was little or no documentation of monitoring\\nparameters and post-operative care for the swine as required in the protocol. A corrective action plan has been developed\\nand implemented and the protocol amendment is pending IACUC review.\\nCorrect by November 30, 2022.\\nOn December 20, 2021, the IACUC noticed the Principal Investigator's annual report for ferret Study B described\\nadditional experimental procedures that included monitoring internal body temperature and initiating a righting and\\nwithdrawal reflex procedure to test the effects of study compounds on the animal. These procedures were were not\\noutlined in the protocol reviewed and approved by the IACUC.\\nCorrected at the time of inspection by corrective action plan and an IACUC approved amendment.\\nPrincipal investigators must submit proposals involving the use of animals that include the appropriateness of the species\\nand number of animals to be used, a rationale for their use, and a complete description of all procedures that will be\\nperformed. Submitting such significant changes allows the IACUC to approve procedures to ensure animals are not\\nsubject to unnecessary pain or distress.\\nThis inspection and exit interview were conducted with facility representatives.\\nThis inspection was conducted 10/11/2022 to 10/13/2022.\\nAdditional Inspectors:\\nGLORIA MCFADDEN, VETERINARY MEDICAL OFFICER n\",\n",
       " 'On July 19th, 2019, when an issue with the air conditioning system developed that compromised the ability of the\\nvivarium to maintain an appropriate ambient temperature for hamsters, animal facility staff were not made aware of\\nthe issue in a timely manner. When the appropriate individuals were notified on July 20th, initial corrective measures\\nwere taken, but their efficacy was not evaluated or monitored. The temperature continued to rise between\\nobservations, and recorded temperatures in the hamster facility on July 21st ranged from 88 – 93 degrees. The\\ninitial corrective action was insufficient to maintain the appropriate temperature for hamsters, leading to an ambient\\ntemperature of >85 degrees for more than 12 hours. Indoor housing for hamsters shall provide for the health and\\ncomfort of the animals, and the ambient temperature shall not be allowed to exceed 85 degrees.\\nTo remain corrected after July 24th, 2019.\\nThis inspection and exit interview were conducted on site with a facility representative.',\n",
       " 'On July 19th, 2019, when an issue with the air conditioning system developed that compromised the ability of the\\nvivarium to maintain an appropriate ambient temperature for hamsters, animal facility staff were not made aware of\\nthe issue in a timely manner. When the appropriate individuals were notified on July 20th, initial corrective measures\\nwere taken. The temperature continued to rise, and recorded temperatures in the hamster facility on July 21st\\nranged from 88 – 93 degrees. The initial corrective action was insufficient to maintain the appropriate temperature\\nfor hamsters, leading to an ambient temperature of >85 degrees for more than 12 hours. Indoor housing for\\nhamsters shall provide for the health and comfort of the animals, and the ambient temperature shall not be allowed\\nto exceed 85 degrees.\\nTo remain corrected after July 24th, 2019.\\nThis inspection and exit interview were conducted with facility representatives.',\n",
       " 'Item Housekeeping 3.131 c\\nAt the time of inspection it was noticed that the investigator procedure lab on the 7th floor had water stained ceiling\\ntiles.\\nFacility needs to discover the source of the leak and repair it as well as repair/replace the damaged ceiling tiles so\\nas to maintain good housekeeping practices in the area.\\nCorrect by 6//1/14\\nThe cold room used for food storage on the 14th floor had areas of mold developing as well as dirt accumulation in\\naddition a rusty, exposed electrical outlet box was discovered.\\nFacility needs to clean the cold storage room as well as repair the electrical outlet and then determine the capability\\nof the unit to insure in can store food at the proper temperature and humidity.\\nCorrect by 6/1/14\\nInspection was at both the City Center campus and the Queens Lane Campus\\nInspection took place over 2 days 4/8-9/14\\nAn exit interview took place at the end of inspection',\n",
       " 'The facility could not verify that the Guinea Pig primary enclosures are being adequately sanitized. The facility currently\\nuses temperature-tapes to verify that the correct temperature (180 degrees Fahrenheit) is reached by the automated\\nwashing systems. There have been numerous failures of this system to reach the required temperatures and numerous\\nadditional weeks where the staff has failed to follow their internal procedures to test the temperatures in order to verify\\nthat the washing system is functioning properly.\\nTemperature tape readings record whether the cage wash reaches the required 180 degrees. Records were evaluated for\\na 25-week period from January to June 2023. Although the facility’s Standard Operating Procedures (SOP) require\\ntemperature tape to be used a minimum of weekly, during the 25-week period for which cage wash temperatures were\\nevaluated, temperature tape was only used a total of 14 weeks for the Rack washer and 16 weeks for the Tunnel washer\\n(missing a total of 11 weeks and 9 weeks respectively). Of the weeks that were tested, records showed that the color\\nchange was incomplete (indicating a failure to reach temperature) a total of 7 times for the Rack washer system and an\\nadditional 4 times for the tunnel washer system showing that the systems are failing to reach sufficient temperature a\\nsignificant portion of the time. Additionally, the same SOP requires that when there is a failure of the cage washing\\nsystem to reach the appropriate temperature that staff must conduct additional temp-tape monitoring of temperature every\\nday for 7 days. For times where the color change was incomplete, the facility only recorded a portion of them as a\\n“failure.” Following an identified “failure” to reach temperature, temperatures were monitored for at most an additional 1-2\\ndays, demonstrating a lack of adherence to the facility’s internal SOPs. When asked, the facility representative states that\\nduring failures an alternate sanitization method is implemented including the use of a disinfectant (a detergent is used in a\\nprevious step). The facility representative confirmed they have no means of determining whether the alternate sanitization\\nmethods are occurring or not after these known failures to reach required temperatures. Based on the number of times\\nthe system has failed to reach the required minimum temperature and the repeated failure of staff to follow the internal\\nSOPs regarding monitoring, there are instances where cages are not being appropriately sanitized.\\nInadequate sanitization could allow for the growth of disease-causing agents that may increase the risk of health hazards\\ntowards the animals. Primary enclosures for guinea pigs shall be sanitized by washing them with hot water which is at\\nleast 180 degrees Fahrenheit or by one of the other approved methods such as live steam or a detergent followed by a\\ndisinfectant. Correct by ensuring that the primary enclosures are adequately sanitized using at least one of the three\\napproved methods. If automated systems for cage washing are used, additionally ensure that those systems remain\\nfunctional and are monitored regularly so that adjunctive or alternate methods are implemented in the event of\\nmalfunctions. Correct by 14-JULY-2023.\\nThis inspection and exit interview were conducted with the Attending Veterinarian and a facility representative.\\nn',\n",
       " 'On July 21, 2022 animal ID#R1-00009 had a procedure performed which included general anesthesia. This animal is\\nassigned to IACUC approved protocol #680. The protocol referenced an SOP for this particular procedure, however the\\nSOP did not contain guidance for anesthesia and therefore utilized the anesthetic guidelines described in the protocol.\\nThe protocol states that anesthetic monitoring would be performed every 15 minutes including core temperature and\\nrespiration. The surgical records reviewed during the inspection did not contain any temperature or respiration entries.\\nProcedures conducted using animals must be performed in accordance with IACUC approved protocols and referenced\\nSOP‘s. The facility must ensure that personnel are conducting procedures in accordance with IACUC approved\\nprotocols and SOP’s. In addition, personnel must ensure that procedures are performed in a manner which is in\\nalignment with protocol/SOP’s. The facility is correcting this issue by implementing an enhanced training program .\\nThis inspection and exit interview were conducted with the facility representatives.\\nn',\n",
       " 'Multiple changes were made to protocol 20-013 by the investigator without notifying the attending veterinarian or the\\nIACUC and allowing them to review the modifications. Protocol 20-013 was approved by the IACUC in June of 2020 and\\nuses rabbits as a model to test the efficacy of drugs against chronic lung injuries. In the approved protocol, rabbits are\\nanesthetized and an irritant is instilled into the trachea through a catheter to produce a chronic lung injury. Changes to the\\nprotocol included:\\n1) The protocol states that the rabbits will be continuously monitored post-operatively for at least four hours. It also states\\nthat the animals will be monitored continuously until they completely recover and are returned to the cage and then\\nobserved at hourly intervals until 5 pm and daily after that.\\na. The following five rabbits have no documentation showing post-operative observation after instillation of the irritant into\\nthe trachea: ID# 20-0543, 20-0547, 20-0541, 20-0545, 20-0542.\\nb. The remaining five rabbits have no documentation of post-operative observation hourly until 5 pm after becoming\\nsternal: ID# 20-0539, 20-0540, 20-0544, 20-0538, 20-0546.\\nc. The following four rabbits have no documentation of consistent post-operative daily observation: ID# 20-0547, 20-0546,\\n20-0541, 20-0545\\n2) The protocol at one point indicates that rabbits will be treated post-operatively with an antibiotic (Baytril) under the skin\\nonce a day for a total of 10 days. However, in two other parts of the protocol, it indicates that the antibiotic will be\\nadministered twice a day for 10 days post-operatively. The following three rabbits did not receive antibiotics consistently in\\naccordance with the approved protocol:\\na. ID# 20-0547 underwent surgery on 9/16/20 and received antibiotics once a day on 9/16, 9/17, and 9/26. He received\\nantibiotics twice a day on 9/21 thru 9/25. There was no record of antibiotic administration on 9/20.\\nb. ID# 20-0546 underwent surgery on 9/16/20 and received antibiotics once a day on 9/16 and 9/20 but twice a day on\\n9/21 and 9/23. However, there was no record of antibiotic administration from 9/17-9/20.\\nc. ID# 20-0545 underwent surgery on 9/16/20 and received antibiotics once a day on 9/16, 9/17, and 9/26. He received\\nantibiotics twice a day on 9/21 thru 9/25. There was no record of antibiotic administration on 9/20.\\n3) The protocol states that intra-operative monitoring of animals (heart rate and temperature) will be performed. The\\nfollowing animals have no vital signs recorded during the procedure: ID# 20-0543, 20-0539, 20-0547, 20-0540, 20-0544,\\n20-0538, 20-0541, 20-0542.\\n4) The protocol indicates that rabbits will be surgically prepped on the ventral neck prior to insertion of the intratracheal\\ncatheter using a combination of 70% ethanol and betadine repeated twice. According to the internal review performed by\\nthe facility, the investigator was only prepping the area with betadine.\\nMaking changes to a protocol without seeking IACUC review and approval does not allow the IACUC to perform adequate\\noversight into the use of animals for medical research.\\nPrior to the three rabbits used in June 2021, the PI submitted an amendment to remove the use of antibiotics, which was\\nsubsequently approved by the IACUC. Correct by 9/16/21 by allowing the IACUC to review and either approve, require\\nmodifications in, or withhold approval of proposed significant changes regarding the care and use of animals in ongoing\\nactivities.',\n",
       " 'On 19 August 2014, the intermediate handler transported a load of 380 rabbits in 190 cartons (2 rabbits per\\nenclosure). Upon arrival, 32 rabbits were noted to be dead; several others were observed by the receiving\\nindividuals to be in some degree of respiratory distress (blue discoloration, panting, and frothing at the nose were\\nobserved in an undetermined number of animals). The next day one additional rabbit also expired, which was also\\nsuspected to have been caused by the respiratory stress experienced in transit. An investigation of the\\ncircumstances of the shipment revealed that the primary enclosures used to house the rabbits were of a larger size\\nthan the intermediate handler had anticipated, so the cargo area of the truck was too small to allow adequate airflow\\nbetween cages and subsequent ventilation to the animals housed therein. The driver noted the discrepancy in the\\ndimensions of the boxes that had been ordered vs. those that had been delivered for shipment, but the animals\\nwere loaded onto the truck despite this, and the transport proceeded as planned. The driver stopped to observe the\\nanimals mid-shipment and no abnormalities were noted; however, the 32 rabbits were discovered to be dead upon\\narrival at their final destination.\\nInadequate space in the cargo space used to transport animals can have a significant impact on their ability to\\nbreathe normally. Additionally, reduced airflow can cause the ambient temperatures inside the enclosures to\\nbecome too high, even if the temperatures inside the cargo area as a whole are within range (this was the case with\\nthis shipment, as no temperature alarms were noted -(cid:19) the temperature was recorded within range throughout\\ntransit). Deficiency in airflow and adequate ventilation caused significant animal impacts, i.e., the loss of 9% of the\\nload (33 of 380 animals).\\nThe primary enclosures used to transport rabbits must be positioned in a manner that each rabbit has sufficient air\\nfor normal breathing. The intermediate handler has taken corrective measures to prevent further incidents,\\nincluding re-training all of the drivers and painting a pattern of lines on the walls of the cargo areas of the vehicles\\nused to transport animals, such that any primary enclosure must be fitted inside the areas designated by the paint\\nlines in order for there to be sufficient airflow and ventilation. The drivers have been trained and instructed not to\\naccept a shipment if these criteria are not met.\\nTo be corrected from this time forward.',\n",
       " 'Based on discussion with the facility manager and review of facility records, April 2, 2016, the ambient temperature\\nof the cold chamber, which housed hamsters being acclimatized under Protocol # 02-16-2016, reached 100.4\\ndegree Fahrenheit (38 degrees Celsius). According to facility records, thirty-five hamsters perished due to a\\nmalfunction in the cold chamber and alarm system. The alarm system failed to notify personnel when temperatures\\nfell outside the appropriate temperature ranges.\\nThe facility must ensure that the ambient temperature shall not exceed 85 degrees Fahrenheit for the health and/or\\nwell-being of these animals.\\nBased on the review of supportive documentation, the facility took effective corrective actions and implemented\\nappropriate preventive measures to address this issue. There have not been any additional incidents since the\\ncorrective actions have been undertaken.\\nAn on-site exit interview was conducted June 15, 2016 with Dr. Ashley McIntosh (VMO) and facility representative.\\nA follow-up exit interview was conducted June 16, 2016 via telephone with facility representative.']"
      ]
     },
     "execution_count": 39,
     "metadata": {},
     "output_type": "execute_result"
    }
   ],
   "source": [
    "df[df['narrative'].str.contains('heat | temperature')]['narrative'].tolist()[0:10]"
   ]
  },
  {
   "cell_type": "code",
   "execution_count": 40,
   "id": "4f5e4a62",
   "metadata": {},
   "outputs": [
    {
     "name": "stderr",
     "output_type": "stream",
     "text": [
      "/var/folders/7b/llw41rn55vn8yn15rg03bjxh0000gn/T/ipykernel_86254/3606272378.py:5: SettingWithCopyWarning: \n",
      "A value is trying to be set on a copy of a slice from a DataFrame.\n",
      "Try using .loc[row_indexer,col_indexer] = value instead\n",
      "\n",
      "See the caveats in the documentation: https://pandas.pydata.org/pandas-docs/stable/user_guide/indexing.html#returning-a-view-versus-a-copy\n",
      "  df['tokenized_text'] = df['narrative'].apply(lambda x: word_tokenize(x.lower()))\n"
     ]
    }
   ],
   "source": [
    "#df['narrative_no_nums'] = df['narrative'].str.replace(r'\\d+', '', regex=True)\n",
    "#df[df['narrative_no_nums'].str.contains('2')]['narrative_no_nums']\n",
    "\n",
    "# Tokenize the text in the 'text' column\n",
    "df['tokenized_text'] = df['narrative'].apply(lambda x: word_tokenize(x.lower()))\n",
    "\n",
    "# Train Word2Vec model\n",
    "model = Word2Vec(sentences=df['tokenized_text'].tolist(), vector_size=100, window=5, min_count=1, workers=4)"
   ]
  },
  {
   "cell_type": "code",
   "execution_count": 41,
   "id": "815c76c7",
   "metadata": {},
   "outputs": [],
   "source": [
    "# Find words related to \"heat\" or \"temperature\" or \"hot\"\n",
    "similar_heat = model.wv.most_similar('heat', topn=50)\n",
    "similar_temperature = model.wv.most_similar('temperature', topn=50)\n",
    "similar_hot = model.wv.most_similar('hot', topn=50)"
   ]
  },
  {
   "cell_type": "code",
   "execution_count": 42,
   "id": "c10c7551",
   "metadata": {},
   "outputs": [
    {
     "name": "stdout",
     "output_type": "stream",
     "text": [
      "Words related to 'hot': ['outward', 'unprotected', 'too', 'muddy', 'torn', '180', 'low', 'becomes', 'penetrating', 'protective', 'washed', 'breaking', 'deep', 'growing', 'significantly', 'exposing', 'excessively', 'catch', 'stands', 'frayed', 'larger', 'brush', 'gets', 'chicken', 'twine', 'dripping', 'touching', 'apart', 'heating', 'rusty', 'underneath', 'screw', 'barrel', 'cut', 'warm', 'smaller', 'saturated', 'dirty', 'strands', 'severely', 'cover', 'dropped', 'crippling', 'tub', 'visibly', 'diffusely', 'trapped', 'lamps', 'rubber', 'warped']\n"
     ]
    }
   ],
   "source": [
    "print(\"Words related to 'hot':\", [word for word, score in similar_hot])"
   ]
  },
  {
   "cell_type": "code",
   "execution_count": 43,
   "id": "a9f920d0",
   "metadata": {},
   "outputs": [
    {
     "name": "stdout",
     "output_type": "stream",
     "text": [
      "Words related to 'heat': ['cold', 'weather', 'rain', 'exposure', 'inclement', 'wind', 'protection', 'lamps', 'extreme', 'breaks', 'sun', 'temperatures', 'extremes', 'levels', 'wind/rain', 'ventilation', 'break', 'themselves', 'snow', 'leakage', 'entrances', 'shelter', 'elements', 'projecting', 'slipping', 'sunlight', 'systems', 'ambient', 'simultaneously', 'temperature', 'lamp', 'falling', 'heating', 'artificial', 'natural', 'unprotected', 'environments', 'air', 'becoming', 'comfortably', 'protective', 'rims', 'insulation', 'precipitation', 'obstruction', 'low', 'shade', 'structure', 'range', 'stress']\n"
     ]
    }
   ],
   "source": [
    "print(\"Words related to 'heat':\", [word for word, score in similar_heat])"
   ]
  },
  {
   "cell_type": "code",
   "execution_count": 44,
   "id": "2019aa19",
   "metadata": {},
   "outputs": [
    {
     "name": "stdout",
     "output_type": "stream",
     "text": [
      "Words related to 'temperature': ['ambient', 'temperatures', 'humidity', 'degrees', 'fahrenheit', 'f.', 'low', '85', 'air', 'cold', 'exceed', 'extremes', 'heat', '94', 'heater', '35', 'f', 'weather', '54.7', '60', '50', 'predicted', 'deg', 'ventilation', '47.5', 'kestrel', 'below', 'rise', 'levels', 'cooled', '22.6', 'heated', '36-46', 'high', 'range', 'freezing', '98.5', 'tonight', 'degree', '75-101', 'bedding', 'temperate', '41°', 'thermometer', 'climate', '45°', '85°', 'warmer', 'channel', 'atmospheric']\n"
     ]
    }
   ],
   "source": [
    "print(\"Words related to 'temperature':\", [word for word, score in similar_temperature])"
   ]
  },
  {
   "cell_type": "markdown",
   "id": "896dcaf5",
   "metadata": {},
   "source": [
    "### Heat/Temperature Topic Modeling"
   ]
  },
  {
   "cell_type": "code",
   "execution_count": 45,
   "id": "d6eb4189",
   "metadata": {},
   "outputs": [],
   "source": [
    "# Topic modeling for just narratives containing heat, temperature\n",
    "\n",
    "# Placeholder temperature/heat keywords\n",
    "temp_keywords = ['heat', 'temperature', 'humid', 'cold', 'weather', 'wind', 'rain', 'inclement', 'extremes', 'hypothermia', \n",
    "                'cooling', 'freezing', 'ambient', 'chill', 'fahrenheit', 'degrees', 'weather', 'inclement']"
   ]
  },
  {
   "cell_type": "code",
   "execution_count": 46,
   "id": "45481756",
   "metadata": {},
   "outputs": [
    {
     "name": "stderr",
     "output_type": "stream",
     "text": [
      "/var/folders/7b/llw41rn55vn8yn15rg03bjxh0000gn/T/ipykernel_86254/3886875396.py:2: SettingWithCopyWarning: \n",
      "A value is trying to be set on a copy of a slice from a DataFrame.\n",
      "Try using .loc[row_indexer,col_indexer] = value instead\n",
      "\n",
      "See the caveats in the documentation: https://pandas.pydata.org/pandas-docs/stable/user_guide/indexing.html#returning-a-view-versus-a-copy\n",
      "  inspections_citations_notnull['heat_temp_flag'] = citations['narrative'].apply(lambda x: any(word in x.lower() for word in temp_keywords))\n"
     ]
    }
   ],
   "source": [
    "# Create flag column\n",
    "inspections_citations_notnull['heat_temp_flag'] = citations['narrative'].apply(lambda x: any(word in x.lower() for word in temp_keywords))"
   ]
  },
  {
   "cell_type": "code",
   "execution_count": 47,
   "id": "8a5962be",
   "metadata": {},
   "outputs": [
    {
     "data": {
      "text/plain": [
       "heat_temp_flag\n",
       "False    0.87847\n",
       "True     0.12153\n",
       "Name: proportion, dtype: float64"
      ]
     },
     "execution_count": 47,
     "metadata": {},
     "output_type": "execute_result"
    }
   ],
   "source": [
    "inspections_citations_notnull['heat_temp_flag'].value_counts(normalize=True)"
   ]
  },
  {
   "cell_type": "code",
   "execution_count": 48,
   "id": "161df04b",
   "metadata": {},
   "outputs": [],
   "source": [
    "heat_temp_narratives = inspections_citations_notnull[inspections_citations_notnull['heat_temp_flag'] == True]"
   ]
  },
  {
   "cell_type": "code",
   "execution_count": 49,
   "id": "a701cee5",
   "metadata": {},
   "outputs": [
    {
     "name": "stderr",
     "output_type": "stream",
     "text": [
      "/var/folders/7b/llw41rn55vn8yn15rg03bjxh0000gn/T/ipykernel_86254/2398067158.py:45: SettingWithCopyWarning: \n",
      "A value is trying to be set on a copy of a slice from a DataFrame.\n",
      "Try using .loc[row_indexer,col_indexer] = value instead\n",
      "\n",
      "See the caveats in the documentation: https://pandas.pydata.org/pandas-docs/stable/user_guide/indexing.html#returning-a-view-versus-a-copy\n",
      "  df['topic_cluster'] = pipeline.fit_transform(df[text_column]).argmax(axis=1)\n"
     ]
    }
   ],
   "source": [
    "# Using topic modeling as EDA tool\n",
    "df = topic_modeling(heat_temp_narratives, text_column='narrative', num_topics=10)\n",
    "\n",
    "#for cluster_id in df['topic_cluster'].unique():\n",
    "#    cluster_rows = df[df['topic_cluster'] == cluster_id]\n",
    "#    print(f\"Cluster {cluster_id}:\")\n",
    "#    print(cluster_rows['narrative'])\n",
    "#    print()"
   ]
  },
  {
   "cell_type": "code",
   "execution_count": 50,
   "id": "cb4e086c",
   "metadata": {},
   "outputs": [
    {
     "data": {
      "text/plain": [
       "topic_cluster\n",
       "1    452\n",
       "6    226\n",
       "9    165\n",
       "3      1\n",
       "4      1\n",
       "Name: count, dtype: int64"
      ]
     },
     "execution_count": 50,
     "metadata": {},
     "output_type": "execute_result"
    }
   ],
   "source": [
    "df['topic_cluster'].value_counts()"
   ]
  },
  {
   "cell_type": "code",
   "execution_count": 51,
   "id": "5cce4070",
   "metadata": {},
   "outputs": [
    {
     "data": {
      "text/plain": [
       "[]"
      ]
     },
     "execution_count": 51,
     "metadata": {},
     "output_type": "execute_result"
    }
   ],
   "source": [
    "df[df['topic_cluster'] == 5]['narrative'].tolist()"
   ]
  },
  {
   "cell_type": "markdown",
   "id": "81eaf2f9",
   "metadata": {},
   "source": [
    "### Filtering for Critical and Direct Citations"
   ]
  },
  {
   "cell_type": "code",
   "execution_count": 52,
   "id": "87bfeabf",
   "metadata": {},
   "outputs": [
    {
     "data": {
      "text/plain": [
       "kind\n",
       "NaN         746\n",
       "Critical     58\n",
       "Direct       41\n",
       "Name: count, dtype: int64"
      ]
     },
     "execution_count": 52,
     "metadata": {},
     "output_type": "execute_result"
    }
   ],
   "source": [
    "df['kind'].value_counts(dropna=False)"
   ]
  },
  {
   "cell_type": "code",
   "execution_count": 53,
   "id": "9a561355",
   "metadata": {},
   "outputs": [
    {
     "data": {
      "text/plain": [
       "web_critical\n",
       "0    740\n",
       "1     84\n",
       "2     18\n",
       "3      2\n",
       "4      1\n",
       "Name: count, dtype: int64"
      ]
     },
     "execution_count": 53,
     "metadata": {},
     "output_type": "execute_result"
    }
   ],
   "source": [
    "# Web critical: 111 total\n",
    "df['web_critical'].value_counts(dropna=False)"
   ]
  },
  {
   "cell_type": "code",
   "execution_count": 54,
   "id": "300d6ab0",
   "metadata": {},
   "outputs": [
    {
     "data": {
      "text/plain": [
       "web_direct\n",
       "0    795\n",
       "1     39\n",
       "2      9\n",
       "3      1\n",
       "4      1\n",
       "Name: count, dtype: int64"
      ]
     },
     "execution_count": 54,
     "metadata": {},
     "output_type": "execute_result"
    }
   ],
   "source": [
    "# Web direct: 61 total\n",
    "df['web_direct'].value_counts(dropna=False)"
   ]
  },
  {
   "cell_type": "code",
   "execution_count": 55,
   "id": "1bea7eb4",
   "metadata": {},
   "outputs": [
    {
     "data": {
      "text/plain": [
       "pdf_insp_type\n",
       "ROUTINE INSPECTION       633\n",
       "ATTEMPTED INSPECTION     164\n",
       "FOCUSED INSPECTION        33\n",
       "RE-LICENSE INSPECTION     14\n",
       "NEW SITE INSPECTION        1\n",
       "Name: count, dtype: int64"
      ]
     },
     "execution_count": 55,
     "metadata": {},
     "output_type": "execute_result"
    }
   ],
   "source": [
    "df['pdf_insp_type'].value_counts(dropna=False)"
   ]
  },
  {
   "cell_type": "code",
   "execution_count": 56,
   "id": "7c65298b",
   "metadata": {},
   "outputs": [
    {
     "data": {
      "text/plain": [
       "pdf_insp_type\n",
       "ATTEMPTED INSPECTION    160\n",
       "ROUTINE INSPECTION        5\n",
       "Name: count, dtype: int64"
      ]
     },
     "execution_count": 56,
     "metadata": {},
     "output_type": "execute_result"
    }
   ],
   "source": [
    "df[df['topic_cluster'] == 9]['pdf_insp_type'].value_counts(dropna=False)"
   ]
  },
  {
   "cell_type": "code",
   "execution_count": 57,
   "id": "4611f225",
   "metadata": {},
   "outputs": [
    {
     "data": {
      "text/plain": [
       "['A review of facility records for the marmoset (microchip # 004-004-103) which died on 23 Dec 2015 following a\\nprocedure performed on 21 Dec 2015 found that the PI did not follow the approved protocol in regards to IV catheter\\nplacement and IV fluid support as well as amounts and routes of anesthetic and paralytic drugs used during the\\nprocedure. The PI did not follow the instructions of the veterinarian and the procedure continued 10 hours rather\\nthan the veterinarian recommended 2-3 hours. The animal subsequently died ~33 hours post procedure.\\nThe research facility must ensure that the attending veterinarian has the appropriate authority to ensure adequate\\nveterinary care is provided and to oversee the adequacy of other aspects of animal care and use. Failure to follow\\napproved protocols and veterinary recommendations can result in outcomes such as occurred with this animal.\\nPrior to the inspection, changes to the protocol were made to incorporate corrective measures, and new procedures\\nwere put in place to prevent a recurrence.\\nThis inspection and exit interview were conducted with facility representatives.\\nAdditional Inspectors\\nSecor Thomas, Veterinary Medical Officer',\n",
       " '***Facility personnel did not perform adequate daily observations of two sheep, ID #7070 and #8020, by failing to\\ncommunicate their health conditions to the attending veterinarian.\\nWritten daily observations provided by the facility indicate that on 06/03/18 sheep #8020 “had no interest in food.”\\nOn 06/09/18, sheep #8020 “wasn’t eating and was laying down.” On 06/10/18 he was treated for urinary calculi,\\nhowever a facility representative stated that the sheep had not been examined by or diagnosed by a veterinarian.\\nOn 06/11/18, he was observed to be down and \"didn\\'t get up this morning.\" At the 1PM observation later that day,\\nrecords indicate that “8020 died due to complications from urinary calculi.”\\nWritten daily observations provided by the facility indicate that from 06/04/18-06/25/18, ewe #7070 had been\\nvomiting almost on a daily basis. A facility representative informed the APHIS inspector that he had been feeding\\nher alfalfa pellets separately from the herd, as she was very thin and her teeth were worn down. He stated that she\\nhad not been seen by a veterinarian recently. On inspection, APHIS inspector observed that ewe #7070 was thin,\\nand her spine and hip bones were protruding. The attending veterinarian stated that neither he nor the other\\nveterinarian on staff had examined either of these sheep.\\nAdequate daily observation of all animals and direct communication with the attending veterinarian is critical to\\nensure that conditions that can adversely affect health and well-being can be diagnosed and treated in a timely\\nmanner. Injuries, diseases, and medical conditions that are not treated properly (as directed by a veterinarian) may\\nbe worsened and can lead to prolonged suffering.\\nEach research facility shall establish and maintain programs of adequate veterinary care that include daily\\nobservations of all animals to assess their health and well-being; provided, however, that daily observation of\\nanimals may be accomplished by someone other than the attending veterinarian; and provided further, that a\\nmechanism of direct and frequent communication is required so that timely and accurate information on problems of\\nanimal health, behavior, and well-being is conveyed to the attending veterinarian.\\nTo be corrected from this date forward.\\nThis inspection and exit interview were conducted with facility representatives.',\n",
       " 'Proposals to conduct an activity on animals.\\n1. Review of Protocol # 100598-0116: There was a discrepancy noted between the monitoring procedures outlined\\nin the IACUC approved protocol and the situation observed by the APHIS inspector at the time of the inspection.\\nThe protocol states that \"Rabbits are monitored following anesthesia until alert.....\" but during the inspection the\\nAPHIS inspector observed a Rabbit in its primary enclosure that was unconscious and in lateral recumbency. No\\none was in the room with the Rabbit and its medical record indicated that the animal had received an injection of an\\nanesthetic a little over 2 hours ago and an injection of an analgesic less than ½ hour ago; both of the medications\\nhad been administered by research personnel.\\nPer this Section of the Regulations, a proposal for animal use must contain a description of the procedures\\ndesigned to assure that any discomfort and pain to animals will be limited to that which is unavoidable for the\\nconduct of scientifically valuable research, including provisions for the use of analgesic, anesthetic, and tranquilizing\\ndrugs where indicated and appropriate. Research personnel are expected to follow animal use procedures as they\\nare described in the IACUC approved protocol.\\nThe IACUC needs to address the discrepancy identified for this ongoing IACUC approved research proposal.\\nCorrect by 8/21/14.',\n",
       " 'The USDA reviewed the facility\\'s records for the 5-year-old whale, Havok, during the time he was on 24-hour watch.\\nDuring the eight hours prior to his death, the staff members conducting the overnight watch documented multiple\\nobservations of abnormal behavior and did not alert the Attending Veterinarian. The frequency of these abnormal\\nbehaviors markedly increased during this time compared to what had been observed previously.\\nFrom 0000-2150 on the day prior to Havok’s death, about 40 instances of a combination of “logging,” shaking of pectoral\\nflippers, “ventral up” and rolling behaviors were noted at the facility in various time intervals. Comparatively, during\\nHavok’s last eight hours 2151-0550, the facility\\'s records noted at least 40 instances of 360 rolling, with one instance of\\nfour rolling behaviors noted at 0049 hours and five rolling behaviors noted at 0146 hours. Other abnormal behaviors\\nnoted to increase in frequency were at least 15 instances of \"ventral up” (most of note was the instance of ventral up for\\n15 seconds at 0101 hours), 3 instances of \"gaspy\" respirations beginning at 0413 hours, and 7 instances of water seen\\ncoming from his blowhole beginning at 0416 hours. There were also 10 instances of \"active bleeding” from Havok\\'s\\nrostrum recorded during the two hours prior to his death.\\nThis increased frequency of abnormal behaviors constitutes a problem; can indicate rapid deterioration of the animal’s\\nhealth and may result in prolonged distress. Although staff members were recording their observations of Havok’s\\nbehaviors, the veterinarian was not contacted during this eight-hour timeframe until Havok’s death at 0550 hours.\\nThe facility failed to provide adequate veterinary care by not using appropriate methods to prevent, control, diagnose and\\ntreat diseases during Havok’ s last eight hours.\\nCorrect from this date 10/15/21 forward.',\n",
       " 'Two protocols IACUC approved protocols under the same Principal Investigator require multiple caesarian sections in\\nfemale baboons. According to both protocols, A005 and B001, multiple experimental protocols/surgeries will be carried\\nout on each baboon over a 3-year period. Female baboons under these protocols would receive a maximum of 4 survival\\ncaesarian sections during the 3-year duration of the protocol. The protocols indicate animals will be undergoing multiple\\nmajor surgeries to reduce animal numbers but did not provide a scientific justification nor have approval from the\\nAdministrator. At the time of inspection, the facility has not sought or received approval from the Administrator for any of\\nthe animals that have undergone multiple major operative procedures on these protocols.\\nNo animal will be used in more than one major operative procedure from which it is allowed to recover, unless justified for\\nscientific reasons in writing by the principal investigator, require veterinary care and treatment, and/or in special\\ncircumstances as determined by the Administrator on individual basis.\\nTo Be Corrected By: December 23, 2021',\n",
       " 'On December 7, 2021, a rhesus macaque sustained injuries during a handling incident with two laboratory personnel.\\nThis incident was not reported to DCM Veterinary Staff. On December 9, 2021, during routine rounds DCM Veterinary\\nStaff observed this macaque to have bruising around both eyes with scleral hemorrhages. Veterinary care was provided\\nto the macaque. A sedated physical exam was performed on December 10th and bruising in the mouth was observed.\\nThe collar was removed from the macaque before it was returned to its primary enclosure.\\nThe lab was contacted by DCM Veterinary Staff on 12/09/2021. On December 10th, DCM Veterinary Staff met with the\\nlab to review the incident. At the time of the incident, laboratory staff was moving the macaque to a chair using a collar.\\nAccording to the laboratory personnel, the macaque became agitated in his chair. The macaque threw his weight against\\nhis collar which created pressure against his chained collar for an extended period. The IACUC investigation determined\\nthe laboratory staff did not know how to handle the macaque during the incident. Also, the laboratory staff did not\\nrecognize the macaque’s injuries.\\nHandling of all animals shall be done as carefully as possible in a manner that does not cause trauma, overheating,\\nexcessive cooling, behavioral stress, physical harm, or unnecessary discomfort.\\nCorrected before the time of inspection by corrective action plan: retraining all laboratory personnel, individual training for\\ninvolved laboratory staff, increased oversight from DCM Veterinary Staff and Behaviorist for all macaque users.\\nThis inspection and exit interview were conducted with Attending Veterinarian and facility representatives.\\nThis inspection was conducted from 09/20/2022 to 09/21/2022.\\nn',\n",
       " 'A research proposal for activities involving Nile rats does not contain a complete description of the proposed use of\\nanimals. The study is designed to investigate the impact of feeding experimentally manipulated diets. The research\\nproposal does not contain a complete description of the experimental diets being fed, the potential adverse effects of the\\nspecific experimental diets, or proposed responses to those potential adverse effects. This information is required for\\nIACUC review of activities involving animals. Proposals to conduct activity involving animals must contain a complete\\ndescription of the proposed use of animals.\\nTo be corrected by September 1st, 2021.',\n",
       " 'On November 4, 2022, a male macaque (#18) escaped from his primary enclosure and was bit by another macaque.\\nAccording to the animal care technician, the macaque was allowed access to all four units of the caging for additional\\nenrichment. The animal care technician did not adequately secure the door, allowing the macaque to escape. According\\nto records, the macaque (#18) stuck his hand into the cage of another macaque (#17) and attempted to grab macaque\\n#17 by the hand. Macaque #17, bit macaque #18 resulting in a laceration on the right forearm.\\nThe animal care technician was able to safely return macaque #18 to his enclosure. The Clinical Veterinarian and\\nVeterinary Technician were immediately contacted. The macaque #18 was sedated and assessed. While macaque #18\\nwas under anesthesia the laceration was repaired by the Clinical Veterinarian. The macaque received adequate\\nveterinary care, which included pain medication and antibiotics. The clinical veterinary staff monitored and managed the\\nlaceration to recovery.\\nHandling of all animals shall be done expeditiously and carefully as possible in a manner that does not cause trauma,\\noverheating, excessive cooling, behavioral stress, physical harm, or unnecessary discomfort.\\nThis was corrected before the time of inspection through requiring that each cage door is secured by either placing two\\npins and a carabiner or placing two pins and a lock.\\nThis inspection and exit interview were conducted with facility representatives.\\nEnd Section',\n",
       " 'Two non-human primates (NHPs) were transferred from an IACAC approved imaging study protocol to a holding protocol.\\nAfter the transfer to the holding protocol both NHPs were used by the Principal Investigator (PI) on the imaging study\\nprotocol. On 03-Aug-2022 the PI was asked by the LAR veterinary associate to stop using NHP A under the imaging\\nProtocol after it was used two times. This non-compliance was recognized again by the LAR veterinary associate on 08-\\nNov-2022 with another NPH (NPH B). This non-compliance was recognized again by the LAR veterinary associate on\\n08-Nov-2022, as the PI had also used NPH B two times under the imaging protocol after it had been transferred to a\\nholding protocol.\\nProposed activities and proposed significant changes in ongoing activities that have been approved by the IACUC may be\\nsubject to further appropriate review and approval by officials of the research facility. However, those officials may not\\napprove an activity involving the care and use of animals if it has not been approved by the IACUC.\\nThe facility implemented corrective actions before the time of inspection.',\n",
       " 'On 11-9-15, a technician working in the biocontainment area found a dead guinea pig on the floor of the autoclave.\\nThe technician had checked and loaded a used cage rack into the autoclave and ran it about one hour previous to\\nfinding the dead guinea pig upon opening the autoclave. The guinea pig was presumed to have been killed by the\\ncycling of the autoclave. Ensure that animal racks are empty and/or no loose guinea pigs are in the autoclave prior\\nto running it. The facility has adjusted its cage and autoclave checking procedures to help ensure that this will not\\nhappen again.\\nCorrect by: Corrected by the time of inspection.\\nExit interview conducted with the Institutional Offical, the Attending Veterinarian, Facility Manager and APHIS\\nrepresentative Kurt Hammel.',\n",
       " 'Handling. During the weekend of July 19th 2014, an investigator had begun to train several bats and separated\\nthem from the main housing area to individual wire mesh enclosures within the bat housing room. Those\\nenclosures had not been used in several months. Neither the animal care staff nor were other laboratory members\\ninformed of the change in housing for those animals therefore the animals were not fed over the weekend. Upon\\ntheir discovery, the animal care staff initiated treatment yet 3 died. The facility has instituted a plan of correction to\\nprevent further recurrence.\\nThis item has been addressed and was a self-reported incident to the USDA by the facility.\\nThe inspection was conducted on July 21-22nd 2014 followed by an exit briefing with the Program Director on July\\n22, 2014.\\nAdditional Inspectors\\nMcintosh Ashley, Veterinary Medical Officer',\n",
       " 'In October 2016 a macaque escaped from its primary enclosure when it managed to enter the primary enclosure of\\nanother NHP located directly above it and the two animals fought. Both macaques sustained injuries and were\\npromptly separated then evaluated by the clinical veterinarian. Both animals underwent surgery to repair and treat\\nthe wounds, and both made a full recovery.\\nIt was determined that the NHP was able to escape from its primary enclosure and gain entry into the other NHP’s\\nenclosure because personnel had failed to secure the 2 latches for the waste pan cover panel on the front of the\\ncage following cage change earlier in the day. This cover panel secures the waste pan that also functions as the\\ndivider between the top and bottom cages.\\nAs a result, the macaque in the lower enclosure was able to push the solid bottom waste pan forward, then subvert\\nthe locking mechanism for the floor of the top cage pushing the floor forward, and then gain entry into the top\\nenclosure. Each NHP enclosure has 13 separate locking mechanisms for a total of 26 locks for the 2 enclosures; 2\\nof the 26 locks had not been secured.\\nPer this Section of the Regulations, primary enclosures must be constructed and maintained so that they contain\\nthe non-human primates securely and prevent accidental opening of the enclosure, including opening by the animal.\\nThe research facility acted promptly to address this incident by conducting an investigation, reporting the event to\\nUSDA and OLAW, and implementing appropriate corrective actions to prevent similar incidents in the future.\\nCorrective actions included but were not limited to providing additional retraining of all staff involved in care of NHPs\\non the NHP cage change SOP following husbandry or medical procedures including confirming security of all\\nlatches, implementation of additional procedures for checking cages and when handling NHPs, and modifications to\\nenclosure latching mechanisms.\\nNo additional incidents have occurred since these corrective actions have been implemented.\\nNOTE - Inspection conducted 3/22/17 and 3/23/17. Exit briefing held 3/23/17 on-site with facility representatives.\\n*END OF REPORT*',\n",
       " 'Handling.\\n***On the morning of 8/1/17 husbandry staff found 1 bat deceased in its primary enclosure and 1 other bat was\\nexhibiting signs of serious illness; veterinary staff were immediately contacted and examined the sick animal.\\nDespite the initiation of appropriate treatment, the condition of bat deteriorated and it subsequently died. Upon\\nbeing notified and in response to this information, the IACUC and AV looked into this incident.\\nIt was determined that research staff had separated the 2 bats from the rest of the colony for an IACUC approved\\nstudy activity scheduled to take place on 7/31/17. Per the institution’s established feeding procedure for separated\\nanimals, husbandry staff prepared that day’s food ration for the 2 bats and left it for the research staff to give to the\\nanimals after the study activity was concluded. However, research staff failed to provide the prepared food to the\\nbats on 7/31/17 and the lack of food was the cause of death.\\nPer this Section of the Regulations, the handling of animals by all personnel, including research staff, should be\\ndone as carefully as possible in a manner that does not cause physical harm, behavioral stress, or unnecessary\\ndiscomfort.\\nThe research facility acted promptly to address this incident by conducting an investigation, reporting the incident to\\nOLAW and USDA, and swiftly implementing appropriate corrective actions to prevent similar incidents in the future.\\nCorrective actions included but were not limited to implementing an expanded monitoring and husbandry plan for\\nthe research laboratory and providing additional retraining of research staff on the expanded plan and the metabolic\\nneeds of this species. No additional incidents have occurred.\\nThis item has been appropriately addressed and corrected by the research facility.\\nNOTE – Inspection conducted 12/5/17 and 12/6/17. Exit briefing held 12/6/17 on-site with facility representatives.\\n*END OF REPORT*',\n",
       " 'During a review of IACUC records and facility paperwork, an incident was found involving the death of a goat\\nunintentionally involved in the facility’s Goat and Sheep Freunds 2020 Protocol. On April 3, 2019, a donor goat,\\n#4630, was inadvertently bled under the facility’s core protocol involving anti-body production in goats and sheep.\\nThe technician handling the goat, verified the tag number of the goat after removing approximately 900ml of blood\\nand immediately stopped the procedure when she realized it was the incorrect animal. The technician immediately\\nreported the incident to the facility manager. As a goat not intended for the project, the animal did not receive the\\ninitial physical exam, bloodwork, and additional testing to ensure that it met the specified health standards written in\\nthe protocol and Standard Operating Procedures (SOPs). The animal also was not given the opportunity to go\\nthrough the facility’s typical acclimation phase in which smaller volumes of blood are drawn over time before\\ncollecting the maximum blood volume. Before the bleeding occurred, the animal did not exhibit any signs of illness.\\nThat afternoon, the animal was found to have profuse diarrhea and was treated as directed by the attending\\nveterinarian. Later that evening, the animal was observed in distress by a staff member and was humanely\\neuthanized.\\nThe facility has well documented protocols and SOPs regarding blood collection procedures. The individual\\nconducting the procedure was trained and found to be proficient to perform this task by the facility prior to this event\\noccurring. The internal IACUC investigation following this incident concluded that it occurred due to human error\\n(failing to check the animal’s identification correctly as required by the SOP).\\nThe research protocol and SOP included several appropriate methods to ensure that handling of animals used\\nunder the protocol are handled in a careful manner that minimizes stress and physical harm (including pre-use\\nphysical examination, bloodwork, and fecal examination). As a result of the human error in checking identification,\\nnone of these methods were used for this animal. Large volume blood collections without adequate pre-collection\\ntesting may result in the worsening of underlying illness not obvious at the time of collection making subsequent\\ntreatment more difficult. Handling of all animals shall be done as expeditiously and carefully as possible in a\\nmanner that does not cause trauma, physical harm, or unnecessary discomfort. The unintentional bleeding of the\\ndonor goat, resulted in unnecessary physical harm and likely contributed to the death of the animal.\\nThe facility took immediate corrective actions to address the incident. Management investigated the issue,\\nsubmitted the finding to the IACUC for review, and quickly retrained all of the large animal technicians on the\\nprotocol and SOP procedures.\\nCorrect from this day forward by ensuring corrective actions are followed to prevent further occurrence of incidents.\\nThis inspection and exit interview were conducted with facility representatives.\\nAdditional Inspectors\\nRadzai Christina, Veterinary Medical Officer',\n",
       " \"On December 14, 2021, seven donkeys escaped from their enclosure in the middle of the night. One male, research\\ndonkey, #1856, escaped the enclosure, walked to the road, and was struck by a vehicle resulting in the animal's death.\\nIt is important for regulated facilities to provide appropriate animal housing to prevent escape and possible injury to the\\nanimals.\\nThe facility must be constructed and maintained as appropriate for the animals involved to protect them from injury and to\\ncontain the animals. During the inspection, the facility constructed an additional gate on the barn to prevent escapes in\\nthe future, and the IACUC is further investigating the situation.\\nCorrect by December 29, 2021.\\nThis inspection and exit interview were conducted with facility representatives.\\nEnd Section\",\n",
       " 'Multiple changes were made to protocol 20-013 by the investigator without notifying the attending veterinarian or the\\nIACUC and allowing them to review the modifications. Protocol 20-013 was approved by the IACUC in June of 2020 and\\nuses rabbits as a model to test the efficacy of drugs against chronic lung injuries. In the approved protocol, rabbits are\\nanesthetized and an irritant is instilled into the trachea through a catheter to produce a chronic lung injury. Changes to the\\nprotocol included:\\n1) The protocol states that the rabbits will be continuously monitored post-operatively for at least four hours. It also states\\nthat the animals will be monitored continuously until they completely recover and are returned to the cage and then\\nobserved at hourly intervals until 5 pm and daily after that.\\na. The following five rabbits have no documentation showing post-operative observation after instillation of the irritant into\\nthe trachea: ID# 20-0543, 20-0547, 20-0541, 20-0545, 20-0542.\\nb. The remaining five rabbits have no documentation of post-operative observation hourly until 5 pm after becoming\\nsternal: ID# 20-0539, 20-0540, 20-0544, 20-0538, 20-0546.\\nc. The following four rabbits have no documentation of consistent post-operative daily observation: ID# 20-0547, 20-0546,\\n20-0541, 20-0545\\n2) The protocol at one point indicates that rabbits will be treated post-operatively with an antibiotic (Baytril) under the skin\\nonce a day for a total of 10 days. However, in two other parts of the protocol, it indicates that the antibiotic will be\\nadministered twice a day for 10 days post-operatively. The following three rabbits did not receive antibiotics consistently in\\naccordance with the approved protocol:\\na. ID# 20-0547 underwent surgery on 9/16/20 and received antibiotics once a day on 9/16, 9/17, and 9/26. He received\\nantibiotics twice a day on 9/21 thru 9/25. There was no record of antibiotic administration on 9/20.\\nb. ID# 20-0546 underwent surgery on 9/16/20 and received antibiotics once a day on 9/16 and 9/20 but twice a day on\\n9/21 and 9/23. However, there was no record of antibiotic administration from 9/17-9/20.\\nc. ID# 20-0545 underwent surgery on 9/16/20 and received antibiotics once a day on 9/16, 9/17, and 9/26. He received\\nantibiotics twice a day on 9/21 thru 9/25. There was no record of antibiotic administration on 9/20.\\n3) The protocol states that intra-operative monitoring of animals (heart rate and temperature) will be performed. The\\nfollowing animals have no vital signs recorded during the procedure: ID# 20-0543, 20-0539, 20-0547, 20-0540, 20-0544,\\n20-0538, 20-0541, 20-0542.\\n4) The protocol indicates that rabbits will be surgically prepped on the ventral neck prior to insertion of the intratracheal\\ncatheter using a combination of 70% ethanol and betadine repeated twice. According to the internal review performed by\\nthe facility, the investigator was only prepping the area with betadine.\\nMaking changes to a protocol without seeking IACUC review and approval does not allow the IACUC to perform adequate\\noversight into the use of animals for medical research.\\nPrior to the three rabbits used in June 2021, the PI submitted an amendment to remove the use of antibiotics, which was\\nsubsequently approved by the IACUC. Correct by 9/16/21 by allowing the IACUC to review and either approve, require\\nmodifications in, or withhold approval of proposed significant changes regarding the care and use of animals in ongoing\\nactivities.',\n",
       " 'Two rabbit kits in different litters sustained rear limb injuries that were determined to be related to the nest boxes in use at\\nthat time. The Attending Veterinarian determined that the injuries warranted humane euthanasia. The nest boxes in that\\narea were immediately removed and replaced with different boxes to prevent any possible recurrence. The incident was\\nself-reported to the IACUC. The IACUC thoroughly investigated and concluded that appropriate actions were taken by\\nthe husbandry and veterinary staffs to mitigate the unanticipated incident and to prevent future occurrences. The IACUC\\nalso recorded that these nest boxes had been in regular use for more than 12 months with no prior negative incidents.\\nOLAW was notified appropriately per PHS policy. OLAW concurred with the actions taken by the university.\\nNest box issues can lead to increased pain, suffering or death to the young animals contained therein.\\nPer the regulations, indoor and outdoor housing facilities for rabbits shall be structurally sound and shall be maintained in\\ngood repair, to protect the animals from injury.\\nCorrected prior to inspection.\\nThis inspection and exit interview were conducted with facility representatives.\\nn',\n",
       " 'On July 23, 2021 a shipment of two pigs was received on a surgical trauma training protocol. On July 24, 2021 the two\\npigs should have been transferred to the departmental training protocol and utilized in a non-invasive survival training\\nprocedure. Once the training procedure was completed they would then return to the original protocol. Instead the pigs\\nremained on the surgical trauma training protocol which did not include survival training procedures. During the procedure\\none pig expired which was attributed to stress related issues by the attending veterinarian. The IACUC did not approve\\nthe use of the pigs for the survival training procedures. Any activity involving the care and use of animals on an approved\\nprotocol may not be changed by officials without further review and approval by the IACUC. Correct from this day forward.',\n",
       " 'According to facility records, lack of staff training resulted in three nonhuman primates escaping from their primary\\nenclosures and either becoming injured or causing injuries to nearby animals.\\nOn September 29th, 2022 a female rhesus macaque escaped from her primary enclosure. During the time the animal was\\nout, she injured another female rhesus macaque on the tongue and right hand. The injured animal was treated with an\\nanti-inflammatory/pain medication, antibiotics, and supportive care.\\nOn October 4th, 2022 a male rhesus macaque escaped from his primary enclosure. During the time the animal was out,\\nhe was injured on his right pinky finger, left ear tip, and right upper lip. The animal underwent surgical repair of the finger\\nand ear tip and was given medications and supportive care.\\nOn October 17th, 2022 a female rhesus macaque briefly escaped from her primary enclosure during routine removal of\\nuneaten food by an employee. During the time the animal was out, she got a small cut on her left lower jaw that was\\nclosed with tissue glue and treated with anti-inflammatory/pain medication and antibiotics.\\nThe facility determined that all 3 incidents were caused by a lack of employee training: The incidents on 09/29/22 and\\n10/03/22 occurred due to failure of employees to properly secure secondary locks on animal enclosures after cage\\nchanges; as a corrective action employees were re-trained on this task. The incident on 10/17/22 was due to failure of an\\nemployee to appropriately handle the animal during a cage change; as a corrective action the employee was re-trained on\\nthis task.\\nAnimals that are handled by inadequately trained employees may suffer from injuries or stress. Correct by March 7th,\\n2023 by ensuring that all personnel involved in animal care, treatment, and use are qualified and trained to effectively\\nperform their duties. Corrected prior to the inspection.\\nThis inspection was conducted with the Attending Veterinarian (AV) and the Clinical Veterinarian. The exit interview was\\nconducted with the AV, the Clinical Veterinarian, and the Director of Office of Animal Welfare.\\nEnd Section',\n",
       " \"Based on the large number of IACUC related and facility non-compliances on this inspection report including repeat\\nnon-compliances and based on conversations with IACUC members there is a lack of adequate training of IACUC\\nmembers. There are no documentation records regarding IACUC member training in the IACUC records office\\navailable for review. There are no IACUC approved policies or SOPs for training of new and current personnel. CITI\\ntraining is apparently available but not up to date. The facility must ensure that IACUC members are qualified\\nthrough experience and training to be able to fully assess the facility's animal program, facilities and procedures to\\ninclude program review, facility inspections, protocol review and all other IACUC functions. The facility shall ensure\\nthat all IACUC members are qualified by experience, expertise and training and maintain documentation of such.\\nCorrect by Mar. 15, 2016.\",\n",
       " 'The written narratives for Protocols 201700811 and 201900151 described a literature search for alternatives focusing on\\nthe science being studied, but the search did not address all of the painful/distressful procedures described in the\\nprotocols. Both protocols describe surgery that involves a craniotomy and the use of meloxicam for pain during/after the\\nprocedure. Both protocols also involve the use of foot shocks in behavior testing. The consideration of alternatives for\\nboth protocols did not address the craniotomy procedure and one protocol, 201900151, also did not address alternatives\\nto the foot shock procedure.\\nThe searches were therefore not adequate to determine that alternatives were not available. In order to approve proposed\\nactivities, the IACUC shall determine that the principal investigator has considered alternatives to procedures that may\\ncause more than momentary or slight pain or distress to the animals and has provided a written narrative description of\\nthe methods and sources used to determine that alternatives were not available. Correct by 6/21/23.',\n",
       " 'The following incidents occurred in 2015 at the Yemassee location which resulted in distress, injury, or death of\\nnonhuman primates.\\nOn 8-28-15 a juvenile macaque was removed from its group and treated for trauma. Then its tattoo was read\\nincorrectly and it was placed into the wrong social group. Although fighting in the group was observed that day and\\nthe new animal removed, it died of its injuries the next day. The facility stated they are retraining employees to\\ndouble check both tattoo areas on animals for identification and before returns to proper enclosures.\\nOn 2-17-15, a rhesus macaque was found down in its home cage and immediately taken to the clinic for treatment\\nfor dehydration. It was not until the next day when another animal was found to be dehydrated that it was\\ndiscovered the water line supplying the cage rack was still turned off from where the cages were pressure washed\\non 2-11-15. The five remaining animals were taken to the clinic for medical examination and treatment of\\ndehydration and all survived. Although there is a Standard Operating Procedure in place for checking water lixits,\\nthis was not followed when three different animal care technicians washed the cage rack down and did not check\\nthe water lixits. In this case, lack of following protocols and inattention led to discomfort and illness of several\\nanimals and the death of one. The facility states program wide retraining has been done and the facility is reviewing\\nand making additional programmatic changes to prevent future incidences.\\nAll animal handling needs to be done as carefully as possible in a manner that does not cause physical harm or\\nunnecessary discomfort.',\n",
       " 'The facility failed to handle a male manatee as expeditiously and carefully as possible to prevent trauma and physical\\nharm, resulting in the death of the animal. On April 29, 2023, according to the accounts from facility representatives,\\nemployees observed high intensity sexual behavior between two adult male manatees, which resulted in rectal\\npenetration of the smaller male, at approximately 10:00 am. Shortly after this interaction, employees collected a fecal\\nsample from the smaller male and confirmed the presence of fresh blood. The sexual behavior continued throughout the\\nday with periods of rest between high intensity interactions and occasional penetration. At approximately 5:15 pm, the\\nlarger male was observed penetrating the smaller male again. When the larger male swam away, the smaller male was\\nseen unresponsive at the bottom of the pool. It was confirmed that he had passed. Preliminary necropsy reports identified\\na 14.5 cm tear in his colon, and other traumatic injuries, as the likely cause of death.\\nProper handling of animals ensures that their mental and physical well-being is being provided for.\\nThe licensee must ensure that all animals are handled as expeditiously and carefully as possible in a manner that does\\nnot cause trauma, overheating, excessive cooling, behavioral stress, physical harm, or unnecessary discomfort. To be\\ncorrected from this day, April 15, 2023, forward.\\nThis inspection and exit interview were conducted with facility representatives.\\nn',\n",
       " 'Three dogs were extremely thin, but their condition had not been recognized by the facility or communicated to the\\nattending veterinarian.\\nAn adult male black Labrador dog “Preston” (microchip #956000012520826, age 1 year 10 months) was very thin. When\\nviewed from the back and side, the ribs, backbone and hip bones were clearly visible. In addition, an abdominal tuck and\\nprominent waist were observed. There was muscle loss in the forehead area. This dog’s medical record shows no new\\nentries since 05/26/22. This dog is not included in the facility’s list of dogs who are given a supplemental feeding in the\\nevening, and the employee who does supplemental feedings confirmed this dog is not on the list to receive additional\\nfood. According to facility records, the dog has lost 3.8 lbs since October: the facility document “December weights”, this\\ndog weighed 63.4 lbs, and on 10/30/22, the document “October weights” shows this dog weighed 67.2 lbs.\\nAn adult female Weimaraner dog “Star” (microchip # 98112004242291) is very thin. When viewed from the back and side,\\nthe ribs, backbone and hip bones were clearly visible. In addition, an abdominal tuck and prominent waist were observed.\\nThis dog’s medical record does not list a recent inspection with last entries for a dental prophylaxis treatment with a\\ncomplete blood count and serum biochemistry on June 17, 2022. This dog is not included in the facility’s list of dogs who\\nare supposed to receive supplemental feeding in the evening, and the employee who does supplemental feedings\\nconfirmed this dog is not on the list to receive additional food. This dog weighed 44.4 lbs according to the facility’s weight\\nlog dates 10/30/22. On the document “December weights” this dog is reported as 43 lbs.\\nAn 11-year-old adult female Vizsla dog “Shakira” (Microchip # 985112005668912) is very thin. When viewed from the\\nback and side, the ribs, backbone and hip bones were clearly visible. In addition, an abdominal tuck and prominent waist\\nwere observed. This dog’s medical record that the dog was last seen by the Attending Veterinarian in October 2022 for a\\nlump on the hind leg. This dog is not included in the facility’s list of dogs who are supposed to receive a second,\\nsupplemental feeding in the evening, and the employee who does supplemental feedings confirmed this dog is not on the\\nlist to receive additional food. Recent weight logs from the facility show that this dog has remained at around 40 lbs for the\\npast few months, but this dog has lost a large amount of muscle mass since the previous inspection.\\nDogs who are severely underweight may suffer from hunger, stress, discomfort resting on hard surfaces, difficulty\\nmaintaining body temperature, and poor absorption of vitamins. Dogs who are losing weight or losing muscle mass may\\nhave serious underlying health conditions such as parasites or cancer, which can cause the animal to experience\\ndiscomfort or disfunction of body systems.\\nCorrect by providing adequate veterinary care to ensure proper nutrition, body weight, and body condition for all dogs,\\nincluding the timely identification of dogs losing body weight, prompt communication with the AV, and follow-up with the\\nattending veterinarian when dogs do not improve after treatments or interventions.',\n",
       " 'According to the April 2015 IACUC minutes, on April 3 2015, a technician was restraining a rabbit who jumped off\\nthe exam table and as a result the rabbit had a fracture at L-7 and was euthanized. The incident was reported to\\nOLAW and the facility has taken steps to correct the situation by retraining the employees on animal restraint.\\nIt has been corrected.\\nAn exit interview was conducted with the facility representative.',\n",
       " 'In August 2016, the volume of blood collected from four nonhuman primates exceeded the amount approved by the\\nInstitutional Animal Care and Use Committee (IACUC) for collection in a one-week period of time during an 8-week\\nresearch protocol. In addition, blood draws and sedation events occurred in an animal that had been identified as\\nanemic; clinical signs of being pale and and altered respiration were noted.\\nThe facility self-reported that, while conducting a separate research protocol in December 2016, the volume of blood\\ncollected from one nonhuman primate very marginally exceeded the amount approved by the IACUC in the\\nresearch protocol. The animal showed no clinical signs of distress, the issue was promptly reported, and staff\\npolicies were reviewed.\\nThe research facility has thoroughly reviewed the circumstances surrounding these issues, and instituted corrective\\nactions. The blood collection policy was comprehensively revised to prevent any future such occurrence and facility\\nstaff have been retrained. Further, the guidelines for suggested wording for protocols was extensively revised to\\ninclude increased clarity in protocol descriptions to prevent errors due to potential ambiguity and misinterpretation.\\nIn addition, a standard operating procedure in the facility was modified to prevent a similar occurrence in the future.\\nThe source code of a computer program was modified to correct monitoring collected blood volumes so that\\nmaximum blood volume collected per time period (e.g. 7 or 14 days) are tracked using running timeframe (e.g. six\\ndays before and after the collection day) from a fixed calendar approach (e.g. Sunday through Monday).\\nAdditionally, the Institutional Animal Care and Use Committee (IACUC) reviewed the events and issued letters of\\ncounsel or reprimand to the principal investigator and the senior management member of the affected facility. The\\nIACUC conducted, and is continuing to conduct, an intensive review of the activities of that affected facility.\\nBlood draw schedules and maximum volumes of blood to be collected must be clearly delineated in the approved\\nresearch protocol. The investigative staff must adhere to the protocol and relevant facility standard operating\\nprocedures, policies or guidelines to ensure approved limits are not exceeded. Adhering to these approved limits is\\nrequired to ensure the health and well-being of the animals.\\nCorrect from this time forward.',\n",
       " 'There was an incident of diversion of a controlled substance that led to one nonhuman primate possibly receiving\\nless than the optimum dosing of an opioid analgesic during clinical treatment. After the diversion was discovered,\\nthe drug vial was analyzed and the drug was found to have been diluted. The animal did receive other pain\\nrelievers and did not appear clinically painful during that time and recovered uneventfully.\\nThe use of appropriate methods to treat diseases and injuries must be used and maintained to ensure animal\\nwelfare. The employee involved in the incident has been terminated from employment. This drug has been\\ntransferred to a central safe with limited access and is not in the lock box at the individual facilities. If an animal\\nneeds the medication, aliquots are taken out to do the treatment. The research facility had instituted corrective\\nactions prior to this inspection.\\nDuring the inspection, a controlled drug cabinet was found open and unattended with the key in the lock. The\\nresearch facility has taken corrective actions for this issue. The principal investigator of the lab with the open drug\\ncabinet has placed a reminder sign on the procedure room door where the drug cabinet is located, and reassigned\\nthe individual responsible for controlled substances in the lab. Completed as of 6/10/19.\\nIn addition, the research facility will reiterate the expectation that all researchers must keep their controlled\\nsubstances secure at all times. The Office of Animal Welfare (OAW) will also send out a communication to\\nresearchers about this expectation by 6/14/19. Additional periodic reminder communications will come through\\nOAW’s July newsletter, on-going OAW staff interactions with researchers and during IACUC semi-annual\\ninspections. Facility staff have also been instructed to report to their supervisors any drug cabinets found\\nunsecured.',\n",
       " 'On June 29, 2020 a 1-year old female pig-tailed macaque removed a feeder that was not locked by husbandry staff and\\nexited through the 3.5 x 5.75 inch feeder opening. The primate climbed onto another enclosure where a male pig-tailed\\nmacaque pulled her left arm through the 1 x 1 inch mesh enclosure. The husbandry staff were able to separate the 2\\nanimals and called veterinary staff immediately. The female primate sustained multiple injuries and had to have her left\\narm amputated.\\nIn order to protect the health and well-being of the animals, personnel should ensure all locks are in place and secure to\\nmaintain the animals in their enclosure. It is the responsibility of the research facility to provide continued training and\\ninstruction to all personnel with sufficient frequency to fulfill the research facility’s responsibilities.\\nCorrections were instituted prior to the inspection on December 1, 2020 in order to prevent recurrence.\\nThis inspection and exit interview were conducted with the facility representatives.\\nEnd Section',\n",
       " 'Sixteen rabbits were used on a protocol that had a series of general approved procedures that could be done utilizing the\\nanimals. All of these procedures and the general experimental timeline were approved on the associated IACUC protocol;\\nhowever, the specific combination of procedures was not approved.\\nEighteen antelope ground squirrels were used on a surgical protocol in which an intraperitoneal temperature sensor was\\nimplanted. The type of suture used for skin and abdominal wall closure, and the use of vetbond surgical glue on top of the\\nsutures after skin closure were not described in the IACUC approved protocol. In addition, surgical repair of a failed\\nabdominal incision was performed by the principal investigator without the procedure being authorized in the protocol. Six\\nof eighteen of these ground squirrels developed complications.\\nOn 8/14/23, a male pigtail macaque received a second minor surgical procedure to replace a telemetry implant. The\\nprotocol only describes one repair/replacement surgery as being allowed.\\nAll the procedures to which the animals are subjected must be included in a complete description of the proposed use of\\nthe animals. It is essential that this information be included in the protocol to ensure judicious and humane use of the\\nanimals.\\nCorrected prior to the inspection.',\n",
       " 'The IACUC minutes dated 10/20/2015 include discussion regarding an animal that died as a result of entrapment\\nassociated with a chain securing an enrichment device. It was found that a device with an obsolete design had been\\nused in the animal(cid:25)s primary enclosure. That device had enough unprotected chain length for an entrapment\\naccident to occur. Immediate changes to the enrichment plan were to include fastener length in the maximum chain\\nlength left unprotected by a PVC sleeve, and to make the enrichment storage area accessible to only the behavioral\\nsciences group to ensure that only approved toys and other enrichment devices are dispensed for animal use.\\nEnvironmental enrichment is an important part of housing non-human primates. Design of enrichment devices must\\ninvolve careful scrutiny for safety for use with these animals; they can cause harm if not carefully constructed and\\nmonitored with use to ensure they have not become unsafe.\\nThe facility must ensure that all enrichment devices are safely constructed and maintained in order to protect the\\nnon-human primates from injury. This NCI was corrected prior to the time of inspection.\\nA progress report on the comprehensive alopecia study was reviewed.\\nThe inspection was conducted by Drs. Gwynn Hallberg and Heather Cole on January 12-14, 2016 and was\\naccompanied by facility personnel. The exit briefing was conducted on 1/14/2016 with facility personnel.\\nAdditional Inspectors\\nCole Heather, Supervisory Animal Care Specialist',\n",
       " 'On February 16, 2018, a nonhuman primate that had received a non-major surgical procedure was not administered\\nbuprenorphine or cefazolin the morning after surgery. The protocol approved by the Institutional Animal Care and\\nUse Committee included these treatments as part of their description of procedures. During the routine post-surgical\\nassessment, a certified veterinary technician (CVT) indicated a pain score of 0 (no pain). The NHP received all\\nother treatments, including pre-operative and other post-operative medications.\\nThe corrective and preventative actions taken by the facility included using an additional cross-check reference to\\nthe medication sheets. Additional assistance to the technicians in charge of administering these medications is\\nbeing provided on days with high numbers of injections to be performed. Additionally the use of a sustained-release\\nformulation administered peri-procedurally, which would decrease the number of injections for a NHP, has been\\ninstituted.\\nAdequate pre-procedural and post-procedural care in accordance with current established veterinary medical and\\nnursing procedures are necessary for adequate care of the animals.\\nCorrected prior to this inspection.',\n",
       " 'A mini-pig, identification #1681, was found to have a fractured right hind limb following a procedure on 8/20/2014.\\nDuring the procedure, this pig repeatedly pulled its right hind limb into the restraint device (an elevated fabric sling)\\nwhich required repositioning of the animal each time. When the procedure was completed, the pig was carried by a\\ntechnician back to its primary enclosure and was noted to be limping and not wanting to bear weight on the right\\nhind limb. A veterinarian was contacted, the fracture diagnosed by radiography, and the pig was euthanized per the\\nprincipal investigator in consult with the veterinarian.\\nHandling of all animals shall be done as expeditiously and carefully as possible in a manner that does not cause\\ntrauma, behavioral stress, physical harm, or unnecessary discomfort.\\nCorrection should include continuing to implement training of personnel in handling of animals and ensuring all\\nequipment is appropriate for handling of all animals.',\n",
       " 'On 12/16/15 a dog identified as # 2510325 was accidentally exposed to a full-strength quaternary disinfectant called\\n\"Maxima 256\" during a routine kennel cleaning procedure, and suffered severe chemical burns on its skin, oral\\ncavity, and one eye.\\nThe employee involved failed to properly dilute the disinfectant prior to applying it to the kennel surfaces, and the\\ndog was able to come into contact with the disinfectant. The employee stated, at the time of the inspection, that he\\nhad been properly trained, and knew that the disinfectant needed to be diluted, but decided to apply it first, and then\\nadd water, of his own initiated.\\nThe Institutional Animal Care and Use Committee took appropriate action, suspending and retraining the employee,\\nand reviewing Standard Operating Procedures. The dog received prompt and appropriate veterinary care, and\\neventually recovered from its injuries, and was adopted as a pet into a home.\\nAll animals must be handled in a manner that does not cause physical harm. Allowing this dog access to this\\ndisinfectant resulted in serious harm. The facility must take steps to ensure that all employees follow the facility\\'s\\nstandard operating procedures and policies when handling animals.\\nTo be corrected from this time forward.',\n",
       " 'On 7/24/18 a rabbit with ID # 71434 was being handled during a dermal scoring procedure when it jumped off the\\ntable and fell five feet to the ground. It was immediately apparent that the animal had lost function of its right hind\\nlimb. It was determined that the animal had a fractured leg.\\nHandling of all animals shall be done as expeditiously and carefully as possible in a manner that does not result in\\ninjury. The facility should take steps immediately to ensure that all handling of animals is appropriate to safeguard\\nthe animals from harm. To be corrected from this time forward.',\n",
       " \"The facility completed a review of their program for humane care and use of animals and the facility's animal\\nfacilities on June 7, 2013. The program review does not identify two animal welfare incidents that occurred in April\\nand May of 2013 as significant deficiencies. According to the report submitted to the Institutional Officer (IO), no\\nmajor deficiencies were found in the Animal Care and Use Program during the review.\\nThe IACUC should submit accurate and complete reports to the IO that identifies all deficiencies found, designates\\nthem as minor or significant, and that contains a reasonable and specific plan and schedule with dates for correcting\\neach deficiency. The IO is fully responsible for compliance with the AWA by the research facility and to ensure that\\nany deficiencies noted can be adequately addressed.\\nTo be corrected immediately\",\n",
       " 'In April of 2016, the remains of one kid (goat) were found in a facility pasture used by the goats. Goats have access\\nto a pasture during the day and are brought in during the evenings.\\nThe facility representative stated that coyotes have been observed within the perimeter fence of the facility(cid:25)s\\npastures and farmland and believes the kid remains resulted from coyote predation.\\nThe facility took immediate corrective action and the remaining goats are now tended to by student farm workers\\n(SFW) while out on pasture during the day and are brought in when SFWs leave for the evening.\\nFailure to appropriately construct and/or design animal housing facilities which prohibit entry of unauthorized\\nanimals pose risks or hazards to animals at this facility.\\nHousing facilities for goats must protect the animals from injury, contain the animals securely, and restrict other\\nanimals from entering. A system should be in place and maintained to ensure this.\\nTo be corrected from this day forward\\nAn exit briefing was conducted with the facility representative.',\n",
       " 'At the time of inspection, the facility informed the inspectors of an incident, on 9/29/20, in which a nonhuman primate on\\nstudy accidentally had test article administered into it’s lungs rather than it’s stomach. Although a staff veterinarian and\\nRVT were able to examine the animal almost immediately after the incident, the animal was not able to be saved. The\\nfacility has taken appropriate action to prevent recurrence.\\nHandling of all animals shall be done as expeditiously and carefully as possible in a manner that does not cause trauma,\\noverheating, excessive cooling, behavioral stress, physical harm, or unnecessary discomfort.\\nCorrected by the time of inspection\\nThis inspection and exit interview were conducted with Facility Representatives.\\nAdditional Inspectors:\\nPAMELA SMITH, VETERINARY MEDICAL OFFICEREnd Section',\n",
       " 'On 21 November, 2022, a Siberian hamster escaped from an enclosure because the lid was not adequately secured. The\\nanimal then managed to escape from the housing room and was caught in a pest control trap located in the hallway\\noutside the room. When the animal was later found by the animal care staff, it’s condition was assessed and the decision\\nwas made to euthanize. The facility has taken appropriate corrective measures to prevent this from happening again.\\nHandling of all animals shall be done as expeditiously and carefully as possible in a manner that does not cause trauma ,\\noverheating, excessive cooling, behavioral stress, physical harm, or unnecessary discomfort.\\nCorrected at the time of inspection.\\nThis inspection and exit interview were conducted with facility representatives.\\nAdditional Inspectors:\\nKATHARINE FRANK, VETERINARY MEDICAL OFFICER n',\n",
       " 'In file for IACUC protocol numbered 15-004, there is a preliminary pathology case report for a rabbit that died during\\na surgical procedure. The history described on this report states that the animal \"became dyspneic, extubated by\\naccident.\" Reintubation was attempted and the animal died. The anesthesia monitoring log found in the rabbit\\'s\\nmedical record confirms this event.\\nHandling of all animals shall be done as expeditiously and carefully as possible in a manner that does not cause\\ntrauma or physical harm.\\nCorrect by: This day forward.\\nThis inspection and exit briefing were conducted with facility representatives.\\nAdditional inspector: William W. Snow, D.V.M., VMO',\n",
       " 'In the meeting minutes for the IACUC meeting held on April 23, 2019, the \"attending veterinarian report\" section\\nmentions that an \"unexpected event\" occurred involving bats. The attending veterinarian explained to the APHIS\\ninspector what happened to the bats. The bats were members of a breeding colony maintained by the facility. To\\nprovide environmental enrichment for the animals, shade cloth is hung on the walls of the room that houses the\\nbreeding colony. For the health and well-being of the bats, the shade cloth is taken down on a routine schedule to\\nbe cleaned and sanitized. During this incident, after being taken down and folded, the shade cloth was taken to the\\ncage wash room and left overnight to be washed the next day. When the shade cloth was unfolded the next\\nmorning to be cleaned, three perished bats were found inside the cloth. The bats are presumed to have perished\\ndue to being trapped in the folded shade cloth. Facility staff immediately reported the incident to the attending\\nveterinarian.\\nHandling of all animals shall be done as expeditiously and carefully as possible in a manner that does not cause\\ntrauma, overheating, excessive cooling, behavioral stress, physical harm, or unnecessary discomfort.\\nThe attending veterinarian investigated the incident. As a result, the facility developed new procedures and\\nretrained husbandry staff to ensure no bats are trapped in the shade cloth when it is taken down for the necessary\\ncleaning and sanitation. No more bats have been harmed during subsequent shade cloth cleanings.\\nThis item has been corrected by the registrant.\\nThis inspection focused on records and was conducted with facility personnel on January 28 - 29, 2020. The exit\\ninterview was conducted with facility personnel on January 30, 2020.',\n",
       " 'An adult English Bulldog, Thor, 8-10 years of age, was transported on HA090 from Honolulu, Air Waybill 173-35702015,\\nloading at @3:20 pm 07/27/2022, departing at @3:38 pm, and arriving deceased at @ 6:58 am at Boston Logan Airport\\non the following day, 7/28/2022. The temperature was reported to be 87.1 F at 3:00 pm at the Honolulu airport on\\n07/27/22. A necropsy was performed and the pathologist found that brachycephalic syndrome and heat stroke were the\\nlikely cause of death. A brachycephalic older dog is susceptible to the adverse health effects of increased stress and\\nrespiratory effort during travel. Animals must never be subjected to a combination of temperature, humidity and time that\\nis detrimental to the animal’s health, considering age, breed, and health status. The registrant must ensure that\\nappropriate measures are taken to alleviate the impact of climactic conditions on the animal.\\nThis inspection and exit interview were conducted with the facility representative.\\nn',\n",
       " 'The licensee has an attending veterinarian and a written Program of Veterinary Care (PVC). However, the written\\nPVC has not be updated since April 29, 2008. The PVC states de-worming will occur spring and fall. No\\nmedications were listed, no dosage, route of administration, frequency, or concentration listed on the PVC for this\\ntreatment.\\nThe licensee must consult with the attending veterinarian and develop a complete and accurate written program of\\nveterinary care that reflects the practices at this facility. The written program of veterinary care will ensure that there\\nis accurate communication between the applicant and the attending veterinarian and ensure that all routine\\nmedications and vaccines provided to the animals by the applicant are done with the direction and knowledge of the\\nattending veterinarian.\\nTo be corrected by: 15 February 2015',\n",
       " \"In August 2017 the facility self-reported the following incident to the USDA. On June 1, 2017 an adult male\\ncynomolgus macaque died unexpectedly during transport to necropsy after the conclusion of a MRI and PET scan\\nprocedure. The IACUC self-identified that there was non-compliance with the facility’s IACUC policies and a failure\\nto follow the protocol. The animal was under anesthesia during the procedure and there were gaps in physiological\\nmonitoring (i.e. Sp02, PR, RR, EtCO2, body temperature and BP) based on the records, which should have\\noccurred every 15 minutes. For example, there were no entries on anesthetic monitoring recorded between 3:47 am\\nand 4:26 am (39 minutes); there were no entries for temperature or EtCO2 from 3:47 am to 8:20 am (4 hours, 33\\nminutes); and there was a lack of physiologic monitoring recorded between 7:00 am to 8:20 am (80 minutes). Also,\\nthe animal experienced ongoing complications such as hypothermia, hypotension, wet lung sounds and fluid in the\\nendotracheal tube during the anesthetic procedure. The first documented rectal temperature near the start of the\\nprocedure at 3:47 am was recorded as 95.7 degrees F. Although a Bair Hugger had been placed on the animal\\naround 4:25am, the next recorded temperature continued to be decreased at 94.8 degrees F at 8:20 am. Although\\nthe animal’s temperature began to slowly increase after this time, the animal’s recorded SpO2 dropped to 85% at\\n9:25 am (ranging 81%-91% from 9:25 am to 11:05 am) while previously being recorded mostly in the mid to upper\\n90’s. Wet lung sounds and removal of some fluid from the endotracheal tube were first documented by the\\nlaboratory veterinary technician at 8:00 am. A veterinarian was contacted by phone by the PI approximately 6 hours\\ninto the approximately 8 hour procedure, at which time the veterinarian’s suggestions were followed. Although\\ninterventional steps were taken, including assistance from the Division of Comparative Medicine's (DCM) veterinary\\ntechnicians, and the laboratory staff felt the animal was stable, the animal’s Sp02 values continued to be low and\\nthe animal died before the planned euthanasia. The IACUC also determined that the on-call veterinary staff should\\nhave been contacted prior to when a veterinarian had been called given the ongoing complications noted\\nthroughout the procedure.\\nBy monitoring and recording physiologic parameters during anesthetic procedures at regular intervals, and as\\naccording to the protocol and facility’s policies, changes in those parameters may be identified and addressed\\nsooner. This can decrease possible negative effects on the health and well-being of the animal.\\nThe research facility acted promptly to address this incident by conducting an investigation, reporting the incident to\\nOLAW and USDA, and swiftly implementing appropriate corrective actions to prevent future occurrences. Corrective\\nactions taken include, but are not limited to, retraining of the PI and laboratory staff, requiring use of DCM’s\\nanesthesia monitoring record and a period of increased monitoring of the laboratory’s physiological records. This\\nitem has been corrected by the facility. The facility must ensure that it maintains programs of adequate veterinary\\ncare that include guidance to principal investigators and other personnel involved in the care and use of animals\\nregarding handling, immobilization, anesthesia, analgesia, tranquilization, and euthanasia at all times.\\nThe inspection was conducted on August 23-25, 2017 and an exit interview was conducted on August 25, 2017 with\\nfacility representatives.\",\n",
       " 'The facility self-reported an accident to the USDA which occurred on 6 January 2017. An adult, male cat (“Tyson”\\n#BH0550FM) was placed in a temporary holding/transport device (consisting of 4x4 stacked enclosures) while the\\nopen room he shared with multiple other cats was undergoing routine cleaning/sanitation. The cat, which was dark\\ngray, went unnoticed by the staff when the cats were placed back in the open room. The large, dark gray\\nholding/transport device was then sent to the enclosure wash. Upon completion of the cleaning cycle, the cat was\\nfound deceased in the enclosure. The respective supervisor stated employees were instructed to inspect all\\nenclosures for pets before the enclosures are sanitized, however, there was no documentation identifying that this\\nspecific training for cleaning enclosures was provided. The facility has well-documented protocols to ensure\\nemployees and contractors are qualified and properly trained to perform their duties. The facility acted promptly and\\nappropriately to address this accident. They conducted an immediate investigation and implemented immediate\\nchanges to their animal enclosure and room cleaning procedures, including adding the appropriate training\\ndocumentation. Additionally, the IACUC discussed the incident and as a result, certain Standard Operating\\nProcedures (SOP’s) were modified to ensure the accident could not be repeated. All employees involved with\\ncleaning/sanitizing pet rooms or enclosures have since received re-training on the new SOP’s and that training is\\nwell-documented. This non-compliant item was already corrected by the facility.\\nThe inspection was conducted 8-9 August 2017 and a thorough exit interview was conducted with facility personnel.',\n",
       " \"In March 2020, a vole was found alive after CO2 euthanasia was conducted. The PI's staff member failed to verify death\\nand the animal recovered. Corrective action has included retraining the staff member in proper euthanasia procedures\\nand close monitoring .\\nIn December 2020 , veterinary staff member discovered that pain medication had not been give to macaques in a timely\\nmanner . The required dosing schedule was every 12 hours and the medication had not been administered 15 hours after\\nthe last dose.. The vet staff medicated the animals and informed the PI of the issue. Corrective measures included\\nretraining PI staff in the correct timing of medication administration and continued monitoring of medication records.\\nIn April 2021, one marmoset was found out of the home enclosure at an afternoon room check . The loose marmoset had\\ncaused an injury to the finger of a marmoset in a nearby enclosure. The wound on that animal was minor but did require\\ntreatment with an anti inflammatory medication . It was found that the escape occurred when a side door was not properly\\nsecured. Corrective action has included retraining staff on cage door complexities to prevent further escapes.\\nIt shall be the responsibility of the research facility to ensure that all scientists, research technicians, animal technicians,\\nand other personnel involved in animal care, treatment, and use are qualified to perform their duties. This responsibility\\nshall be fulfilled in part through the provision of training and instruction to those personnel.\\nCORRECTED AT TIME OF THE INSPECTION\\nThe inspection and exit briefing were conducted with attending veterinarian, the clinical veterinarian and ARC manager.\\nEnd Section\",\n",
       " 'A Principal Investigator failed to communicate with the attending veterinarian in a timely manner as previously instructed\\nby IACUC regarding potential complications encountered during surgical procedures and the post-operative condition of\\nrhesus macaques. Following one such surgery, an adult male rhesus macaque (A11N156) subsequently died, although\\nthe cause of death remains inconclusive. Direct and frequent communication is required so that timely and accurate\\ninformation on problems of animal health is conveyed to the attending veterinarian. After full committee review of this\\nincident and other recent records, the IACUC has formally instructed the PI that all procedures requiring anesthesia and\\nor sedation may only be performed by the ARC veterinary staff until a qualified anesthesiologist approved by the IACUC is\\nappointed. The PI must also communicate by phone with the veterinary staff before leaving for the day when anesthesia\\nprocedures have been performed to ensure proper anesthesia recovery has occurred.\\nCorrected at time of inspection\\nThis inspection and exit interview were conducted with facility representatives.\\nEnd Section',\n",
       " 'On 6/30/2022, a Vervet (#2226) died while under anesthesia during a surgical procedure to implant a headcap.\\nAnesthesia was administered and monitored by the Attending Veterinarian (AV) and a Research Assistant (RA) during\\ninitial surgery preparation and the first hour of the surgery. At that point the AV departed leaving the RA in charge of\\nanesthesia with instructions to contact the AV if any issues arose. 25 minutes later the Vervet’s head became dislodged\\nfrom the apparatus that kept it stable during surgery. The head was quickly replaced into the apparatus. The lead surgeon\\nasked the RA to confirm the status of the endotracheal tube, and correct placement was assumed due to “frosting” or\\nappearance of vapor within the tube walls. About 15 minute later monitoring devices began to register declining blood\\noxygen levels and the pulse derived from the ECG monitor was lost. The RA believed these were possible mechanical\\nfailures and began monitoring heart rate using a stethoscope. Surgery was concluded about 1 ½ hours later and the AV\\nreturned. Once the Vervet was taken off the ventilator, there was no spontaneous respiration, and heart sounds could not\\nbe heard using the stethoscope. The Vervet was pronounced dead moments later. The facility believes that the\\nendotracheal tube may have become dislodged during surgery leading to hypoxia and eventual cardiac injury. It is the\\nopinion of both the AV and RA that the RA did not have sufficient training to properly respond to the situation.\\nThe health and wellbeing of animals, especially during complex surgical procedures requiring prolonged and properly\\nmonitored and regulated anesthesia, depends on staff that have the proper training and experience to perform their\\nduties. It is the responsibility of the research facility to ensure that all scientists, research assistants, and other personnel\\ninvolved in animal care, treatment, and use are qualified to perform their duties. The RA in this incident is no longer\\nadministering or monitoring anesthesia unsupervised and is receiving additional training.\\nThis inspection and exit interview were conducted with the attending veterinarian.\\nn',\n",
       " 'APHIS official requested via email several documents pertaining the death of a cynomolgus macaque. Requested\\ndocuments were to be furnished within 48 hours of the written request. One requested document was not received by the\\ntime specified. Each research facility shall furnish upon request and in a reasonable time frame any information\\nconcerning the business of the research facility which the APHIS official may request in connection with the provisions of\\nthe Act, the regulations and the standards in this subchapter.\\nTo be corrected by September 16th, 2022',\n",
       " 'The IACUC semiannual inspection report dated July 2016 shows a significant deficiency in the SPF nursery\\nComparative Medicine Animal Facility. The IACUC reported that 2 male baboons (1113 and 2813) were paired in a\\nprimary enclosure for at least 6 weeks without the enclosure being sanitized. The facility representative explained\\nthat the animal care staff had not been trained to transfer animals of this age to new caging in order to sanitize the\\nprimary enclosure. Indoor primary enclosures must be sanitized at least once every 2 weeks and cleaned as often\\nas necessary to prevent an excessive accumulation of dirt, debris, waste, or disease hazard using one of the\\nmethods prescribed in the Animal Welfare Act.\\nThis was corrected within 24 hours of discovery from the IACUC facility semiannual inspection.\\nAdditional Inspectors\\nCooper Natalie, Veterinary Medical Officer',\n",
       " 'On April 13, 2022, while on study, thirteen African Green monkeys (7E10214225, 7E10023418, 7E10214225,\\n933000320144521, 7E10214143, 7E10272101, 7E10272059, 7E10272053, O9855, 7E10272051, O9899, 7E10234013,\\n7E10272070) were supposed to receive glycopyrrolate by the veterinary staff after the bronchoalveolar lavage (BAL)\\nprocedure, as indicated in the IACUC-approved protocol # 2105033. Failure to follow the approved protocol’s pre- or post-\\nprocedural directions may affect the health and well-being of the animals. This is a significant change regarding the care\\nof animals in an ongoing activity that was not reviewed by the IACUC. The IACUC must ensure that all significant\\nchanges regarding the care and use of animals in ongoing activities are reviewed and approved prior to implementation.\\nAll staff involved in the matter received retraining as a corrective measure.\\nCorrect by: July 19, 2023',\n",
       " \"The IACUC office notified the IACUC chair by a memorandum (dated 6/11/15) of the death of two prairie voles from\\ndehydration which occurred on June 7th and 8th, 2015. At the time of this inspection, there were no documents\\nprovided to the APHIS official indicating that an investigation has been initiated. It is the IACUC's responsibility to\\ninvestigate reports of noncompliance regarding animal care and use received from research facility personnel to\\nassure animal welfare is addressed at this facility. The IACUC must review, and, if warranted, investigate concerns\\ninvolving the care and use of animals at the research facility resulting from complaints or reports. To be corrected\\nby: July 31, 2015.\",\n",
       " 'According to facility records dated 09/18/2022 through 09/19/2022, an adverse event occurred involving juvenile pigs\\nhoused in the same pen, culminating in the necessary euthanasia of one of the pigs. These records and IACUC minutes\\ndated September 28, 2022, indicate that four animals in \"Pen 1\" did not eat overnight and appeared thin; three of the\\nanimals were less active. It was discovered that a water hose became disconnected from a Lixit. Records indicate that,\\n\"Pigs went unknown period of time w/o water.\" Treatment was initiated immediately, and three of the four pigs did not\\ndevelop further symptoms. One pig, #131, began to display neurologic signs of salt toxicity and seizures that ultimately\\nfailed to respond to therapy, necessitating euthanasia. The cause of the disconnected hose was not determined and could\\nnot be reproduced. Corrective actions were implemented, to include retraining of the caretaker and care staff for checking\\nhose connections, normal pig behavior and disease states, and adding a second health check later in the evening, which\\nis performed by a different caretaker on alternating days.\\nFailure to ensure access to drinking water impacted the well-being of three pigs and resulted in the development of salt\\ntoxicity and subsequent euthanasia of one pig. The facility must ensure that potable water is accessible to the animals at\\nall times or at least provided as often as necessary for the health and comfort of the animals; frequency of watering shall\\nconsider age, species, condition, size and type of animal.\\nCORRECTED PRIOR TO INSPECTION\\nThis inspection and exit interview were conducted with facility representatives.\\nn',\n",
       " 'An adverse advent causing the death of a bat was reported to the IACUC chair and the attending veterinarian in\\nJuly 2015. The event was not reported to the IACUC and therefore was not included in the required 6 month update\\nto the Institutional Official. The IACUC is responsible for identifying adverse events, determining the severity of the\\nevent, developing a reasonable and specific plan and schedule for correcting the deficiency, and for reporting the\\nevent to the Institutional Official.\\nThe same adverse event occurred again in August 2016. This time the event was reported to the IACUC and an\\nIACUC subcommittee did investigate the issue. If the 2015 adverse event had been handled correctly by the\\nIACUC the August 2016 event may not have happened.\\nThe IACUC needs to ensure all matters concerning USDA covered species are reviewed during IACUC meetings.\\nTo be corrected by June 16, 2017.',\n",
       " 'A new heater system has been added to the C enclosures housing baboons. Delivery of the heat is thru a metal\\npipe that extends into the animal enclosure to the shelter used by the baboons. On 1/19/17, one male baboon\\nreceived and was treated for 2nd degree burns to his hands and feet after contacting the heater pipe while the\\nheater was operating. Additional animals are at risk of injury if they are able to contact the pipe when the heater in\\nuse. The facility has taken corrective action until the heater pipes in all C enclosures can be fitted with protective\\nbarriers to prevent animal contact with the pipe. These actions include regulating heater temperature and time\\nheater is running to prevent the metal pipe surface from becoming excessively hot. The pipes must be made\\ninaccessible to the animals when the heater is operating to protect the animals from injury.\\nCORRECT BY: 6/3/17',\n",
       " 'On 7/23/19, a female macaque injured her finger when she placed it a small hole which was part of the squeeze\\nmechanism in her primary enclosure. The facility was aware of this risk as this animal had done this previously\\nwithout injury. Corrective action was taken after the first incident and two enclosures were modified for use with this\\nanimal and her cage mate . On a cage change out day, an employee placed these animals in an unmodified\\nenclosure as there was no modified enclosure available for use. The macaque again stuck her finger into the\\nsqueeze mechanism hole and at this time her finger was injured. She received immediate veterinary care and finger\\namputation was necessary. The IACUC and the USDA were promptly notified of this event. The IACUC formed a\\nsubcommittee to investigate this incident . Correction action was taken and sixteen additional enclosures were\\nmodified to use in this area. Only modified enclosures are now available during change outs. Increased instruction\\nfor the employees working in this area has been instituted by adding additional secure signage regarding need for\\nspecial enclosures on the doors to the animal room and tagging the modified enclosures so employees are certain\\nwhich enclosures are to be used .\\nCorrected at time of the inspection .',\n",
       " \"On October 16th 2023, a shipment of ruffs (Calidris pugnax) were scheduled to travel on flights AA1310 and AA2423\\n(AWB# 00172012076) from John F Kennedy International (Queens, New York) to Dallas/Fort Worth International Airport\\n(Texas).\\nThe birds were improperly stacked in transit before the flight took off. Smaller crates containing the ruffs were stacked\\nunderneath larger crates, resulting in one crate containing 10 ruffs to tip over within a luggage transporter. The crate's lid\\nopened and the 10 ruffs were loose within the transporter. When an American Airlines representative opened the luggage\\ntransporter 2 ruffs escaped. The other 8 ruffs were retrieved and reached their final destination.\\nA primary enclosure containing a live bird must not be tossed, dropped, or tilted, and must not be stacked in a manner\\nwhich may reasonably be expected to result in its falling. The stacking in this case resulted in 2 non-recovered ruffs.\\nThis inspection and exit interview were conducted with airline and animal facility representatives.\\nn\",\n",
       " 'During USDA review of IACUC records and facility paperwork on January 29, 2020 and January 30, 2020 the\\nfollowing were found:\\nOn September 29, 2019 a Bighorn ewe identified as Dolly, and under study on an active research protocol, was\\nfound dead. Observation records and necropsy submission information show that the ewe was observed by\\nresearch personnel on September 25, 2019 to be less active than normal. On September 28, the ewe was\\nrecumbent and not displaying normal avoidance behavior when personnel entered the pen. On September 29, 2019\\nthe ewe was found dead in its pen. Diagnostic laboratory necropsy findings on the ewe included pulmonary edema,\\nmycoplasma infection, copper deficiency, aspiration pneumonia and mild suppurative hepatitis.\\nThe IACUC approved research protocol for this study states: “With our observation schedule we expect to\\nrecognize most all severely affected individuals so that they can be captured, examined, and then humanely\\neuthanized to alleviate pain and distress rather than dying of disease. For practical purposes, euthanasia will be\\nperformed when the animal becomes sufficiently weak, lethargic, or moribund that they are not able to rise and flee\\nto avoid restrain (sic) by an approaching research or animal care member.”\\nThe ewe died without the benefit of euthanasia despite observations recorded by research personnel on September\\n28, 2019 which support the ewe had reached the described endpoint for euthanasia as outlined in the approved\\nresearch protocol. This is an unapproved deviation from the IACUC approved protocol and not in compliance with 9\\nCFR 2.31 (c)(7).\\nTo ensure the well-being and humane treatment of all research animals, it is important for the IACUC to review and\\napprove any significant changes regarding the care and use of animals in ongoing research activities\\nCorrect by February 06, 2020\\nThis inspection was conducted on 29JAN2020 and 30JAN2020 with the facility Attending Veterinarian.\\nThe exit interview was conducted on 05FEB2020 with the Attending Veterinarian and the facility Research Integrity\\nand Compliance Officer.',\n",
       " 'On January 29th, 2016 an adult male goat was being transferred from the housing facility to a transport vehicle. The\\ngoat escaped its transport enclosure and ran into the woods near the facility. The facility representatives have made\\nseveral attempts to capture the animal, but have been unable to do so. Improper handling practices led to the\\nanimal escape. An animal escape can cause distress, trauma and/or physical harm to the animal. Handling\\nof all animals must be done as carefully as possible and in a manner that cannot lead to an animal escape which\\ncan\\ncause trauma, behavioral stress, physical harm or unnecessary discomfort for the animal.\\nAs a result of this incident, the facility is reviewing and altering their transport procedures, developing new large\\nanimal transport protocols, and altering the premises to prevent an escape in the future.\\nTo be corrected from this day forward.\\nThis is a focused inspection to address an animal escape.\\nInspection conducted with the Institutional Official and the Director of the Office of the IACUC.\\nAn exit briefing was conducted with the Director of the Office of the IACUC.',\n",
       " '-The licensee has an attending veterinarian (AV) and no written Program of Veterinary Care (PVC). The AV is\\nworking on a written PVC and had a deadline by the IACUC of 31 May 2015. However, no PVC is written at the time\\nof the inspection 3 months post deadline. The licensee must consult with the attending veterinarian and develop a\\ncomplete and accurate written program of veterinary care that reflects the practices at this facility. The written\\nprogram of veterinary care will ensure that there is accurate communication between the applicant and the\\nattending veterinarian and ensure that all routine medications and vaccines provided to the animals by the applicant\\nare done with the direction and knowledge of the attending veterinarian.\\nTo be corrected by: 18 September 2015.',\n",
       " '*An adult, male goat still has a large split in the wall of his outside left front hoof. Also, several goats were noted to have\\novergrown hooves characterized by turning up and curling. Abnormalities in the hoof wall and overgrown hooves can lead\\nto chronic hoof problems, conformation issues, lameness, and further pain and suffering. According to the licensee, the\\nsplit hoof had been trimmed since the time of the last inspection and the next planned date of hoof trimming is in the\\nspring. The licensee was not aware that the hoof was still split and this issue of hoof wear needs to be monitored and\\naddressed for preventative care.\\n*Two young alpacas are thin with the black alpaca having a prominent spine. The brown alpaca’s left eye had thick, white\\ndischarge and his spine and hips were prominent. According to the licensee, they had observed the thin condition of the\\nbrown alpaca approximately two weeks prior and attempted to correct by placing the food in an area out of competition\\nwith the goats. The animals continue to be thin and despite the observation of the condition, it has not been\\ncommunicated to the Attending Veterinarian.\\nThe licensee must ensure that daily observation is done on all animals to assess their health and that a mechanism of\\ndirect and frequent communication is in place so that timely and accurate information on problems of animal health is\\nconveyed to the Attending Veterinarian.',\n",
       " 'On April 25, 2016 two groups of Japanese Macaque’s were introduced. One female identified as “Yoko” was injured\\nduring the introduction and sustained more injuries overnight according to keeper records. The animal was\\nobserved to have additional injuries on April 27 and on April 28 she was observed huddling in a corner and did not\\neat her mid-day or pm diet. There were no daily observations made for this animal the next two days and on May 1,\\n2016 she had wounds apparent, her eyes were closed and she was shaking. On May 3, 2016 she was examined by\\nthe vet and humanely euthanized due to extent of her injuries. There is no indication in the records that “Yoko’s”\\ncondition was communicated to the vet in a timely manner. The facility stated that the veterinarian can access the\\ndaily keeper logs for all animals and is sent a report for these issues but there is no follow up information indicating\\nthe vet was aware of the extent of injuries. Given the number of animals at the facility and the severity of these\\ninjuries reliance on checking daily logs is not considered adequate communication. Additionally there are no records\\nfor three days when the animal was showing visible signs that she was in pain and potential distress. The facility\\nneeds to address the mechanism of direct and frequent communication so that accurate and timely information for\\nproblems on animal health and behavior is conveyed to the attending vet.\\nCorrect by: Dec 2, 2016',\n",
       " 'Item Vet Care 2.40 a 2\\nThe Attending Veterinarian (AV ) diagnosed the tiger cub with a fractured 4th metacarpal bone of the left front foot. The\\nlicensee\\'s video demonstrated that the AV recommended treating the fracture with \"confinement\" and he stated the\\nhealing process \" would take about a month.\" The video reveals the licensee allowing the tiger cub to play and run with\\nthe licensee\\'s pet dog as well as jumping on and off a coffee table. In a subsequent video, the licensee states that the\\ncub continues to limp. The licensee must follow the AV\\'s directions and must assure that the AV has appropriate authority\\nto ensure provision of adequate veterinary care .\\nCorrect from this day 2/5/2021',\n",
       " 'Section 2.132(d) Procurement of dogs, cats, and other animals: The facility purchased two female Hartmann’s\\nmountain zebra on 6/06/16 from a person who does not hold a valid USDA license. Selling wild/exotic animals to an\\nexhibitor requires a valid USDA license. Facilities with a valid USDA license are required to comply with the Animal\\nWelfare Act regulations and standards to ensure the animals receive adequate care, including veterinary care,\\nhusbandry and recordkeeping requirements. This facility was cited under this section in 2013 for leasing a reindeer\\nfor a holiday exhibit from a person who did not have a valid USDA license. No exhibitor shall knowingly obtain any\\ndog, cat or other animals from any person who is required to be licensed, but who does not hold a valid, and\\nunsuspended license. Correct by only purchasing wild/exotic animals from people with a valid USDA license.\\nCorrect from this day forward.',\n",
       " \"***On May 10, 2015 the facility noted that a young male juvenile lion, Thor, was displaying inappropriate mentation\\nand had limited mobility. According to the facility, the Attending Veterinarian was consulted regarding the condition\\nof the juvenile and examined the animal on May 10, 2015 and June 19, 2015. The veterinarian assessed the animal\\nvisually and produced a differential diagnosis of Dandy-Walker syndrome. As of July 14, 2015 the veterinarian\\nscheduled for additional diagnostics to include blood-work and a MRI. The facility management was unable to\\nproduce records regarding the veterinary treatment plan for this animal. The records that were able to be produced\\nindicated the date of the initial visual assessment by the veterinarian, the differential diagnosis of Dandy Walker\\nsyndrome, and a plan for future diagnostics. Between the time when the facility first noted issues with the animal\\nand the date of the inspection, the veterinarian had not taken any diagnostic samples from the animal to support a\\ndiagnosis. Limited records were able to be produced regarding the care of the animals at Living Treasures Animal\\nPark. During the inspection on July 14, 2015 the juvenile lion was housed in the back holding area of the enclosure\\nand remained in a resting position refusing to rise after being prompted with food. The facility offered a video\\nrecording as a representation of the juvenile(cid:25)s movement. In this recording the animal appeared to be stiff on all four\\nlimbs and reluctant to move, even for short distances. On July 15, 2015 the juvenile was in the main enclosure with\\nhis mother, the animal remained in a laying position and there were no apparent signs of injury during our\\nobservation. The facility representatives indicated that the juvenile was still very stiff in his movements, but had\\nshowed interest in playing with his mother immediately after his release into the main enclosure. He had a\\nroughened hair coat that had a moderate amount of mud along his back and on all four legs consistent with the\\nanimal(cid:25)'s movement around or through the mud within the enclosure. The documented diet for this animal includes\\n7lbs. of mixed red meat and poultry and to be supplemented with Platinum Performance: Exotic Wellness and\\nPerformance Formula. During conversation with the facility management, they stated this animal refuses to eat the\\nbones within the meat fed. This current feeding program provides very little calcium and other nutrients for the\\ngrowing animal. Upon inspection of the supplement there was a white film on the surface and the supplement was\\nheavily caked providing clear evidence that the supplement was not being consistently used. After speaking with the\\nveterinarian regarding the care of this animal, her initial assessment of the inappropriate mentation was made on\\nMay 4, 2015. In the record for that date she suspected neurologic disease, she recommended deworming and\\nantihistamine therapy. She completed a second visual assessment on June 19, 2015, when she noted weight loss\\nand recommended tranquilization for a hands on physical exam and further diagnostics. On the second visual\\nassessment, the veterinarian'(cid:25)s differential diagnoses were Dandy-Walker syndrome, vestibular disease or\\nincomplete fusion of cervical vertebra. According to the attending veterinarian, a dietary cause was not explored\\nbecause the adults were receiving the same diet and showed no signs of illness. The failure to understand that\\nyoung, growing large carnivores may have additional nutritional needs show a clear lack of adequate training and\\nveterinary care. Metabolic Bone Disease is a common disease of young big cats. This disease stems from\\ninadequate levels of calcium in the diet. During early development the animal will need an increased level of\\ncalcium in the diet to allow for bone growth. At the time of the inspection there was no evidence that the diet has the\\nproper nutritive values to maintain the animal in good health. The deficiency of adequate nutrition may have caused\\nthis animal severe animal welfare concerns. The length in time to get diagnostic information about the lion(cid:25)'s\\ncondition and the lack of attention to investigate the nutritional value of the lion(cid:25)'s diet illustrate that appropriate\\nmethods were not taken to prevent, diagnose, and treat diseases. Correct by, (1) providing a fully nutritious and\\nwholesome diet, (2) having an experienced and knowledgeable veterinarian examine, diagnostic, and treat the lion,\\n(3) have a written treatment plan available for inspection. Correct by 6 p.m.7/17/15. At the time of exit interview, the\\nfacility has started putting calcium supplements in the food, but has not developed a treatment program for the\\nanimal. Thor was transported to another U.S.D.A licensed facility on 7/17/15.\\n***A female Timber Wolf was observed to have irritated areas on the external margins of both of her ears.\\nApproximately one inch along the edges and back of the ears is both thickened, crusted over and had several spots\\nwhere blood is apparent. The affected areas are missing hair and the underlying skin is black to grey in color. These\\nchanges are commonly associated with chronic injury to the skin. The problem was exacerbated by the flies which\\nwere noted to be on the affected areas causing the wolf to shake her head and rub her ears on the rocks and\\nvegetation within the enclosure. The facility representative indicated that the areas were being treated using\\nfly-spray to decrease irritation and prevent future rubbing and scratching of the area. However; during the\\ninspection, the facility was not able to produce any documentation to support a proper diagnosis or treatment has\\nbeen made by the attending veterinarian. After discussion with the attending veterinarian, it was determined that\\napproximately one month prior to inspection the facility had been consulted to treat the Timber Wolves for a heavy\\nmite infestation. This infestation had become recurrent in warmer weathers and the veterinarian had documented\\nthe need for multiple treatments. Correct by 7/17/15 by 6 p.m.\\n***An adult female Patas monkey was noted to be non-weight bearing on the front left limb. The left shoulder and\\narm had moderate muscle loss. The facility indicated that the animal had been treated by a veterinarian and\\ndiagnosed with an elbow injury. The animal was put into a cast and prescribed pain management at the time of\\ninjury. After the cast was removed no further pain management was provided. A veterinarian has not been\\nconsulted for further assessment or treatment of this animal'(cid:25)s condition and no documentation was provided to\\nsupport any form of diagnosis or treatment. After discussion with the Attending Veterinarian, it was determined that\\nthe animal was under the care and custody of the veterinarian at the time of the arm injury. The animal was being\\ntreated at the veterinary clinic for heavy fenbendazole resistant parasite infestation. During restraint of the animal for\\ntreatment, the arm was fractured. During the Attending Veterinarian visit on July 15, 2015 further deworming of the\\nanimal and suggested enrichment based physical therapy to increase the functionality of the arm. Correct by having\\nthe animal evaluated by a knowledgeable, licensed veterinarian, developing a long-term treatment plan, and\\nmonitoring the animal(cid:25)'s development over time. Correct by 7/17/15 by 6 p.m.\\n***An adult llama in the camelid enclosure was observed to have a white opacity in the left eye. When asked, the\\nfacility representative had not noticed the issue or started any treatment with the eye. The opacity in the eye of the\\nllama could cause unnecessary discomfort, blindness or a secondary infection. This abnormality could be\\nsecondary to an underlying condition with the eye or secondary age related change. After the Attending\\nVeterinarian examined the animal it was determined that the injury was an old corneal scar. She determined no\\ntreatment was needed at this time and the prognosis of the animal was good. Correct by documenting the\\nveterinarian(cid:25)s evaluation of the abnormality. Correct by 7/17/15.\\n***An adult male Aoudad was noted to have a subcutaneous mass over his left shoulder. The mass did not appear\\nto cause the animal immediate discomfort and did not appear to be impacting or limiting his mobility. When asked,\\nthe facility representative indicated that the mass was caused by an old injury that had been previously discussed\\nwith the veterinarian. Records were not provided for the facility documenting that the issue had been addressed by\\nthe veterinarian. After discussion with the Attending Veterinarian the injury was confirmed. The veterinarian\\nindicated that the injury had abscessed and had ruptured prior to her observation. The injury may have\\nre-abscessed, leading to the mass appearance on the animal'(cid:25)s side. After a second examination by the Attending\\nVeterinarian on July 15, 2015 it was determined that the wound had re-abscessed and encapsulated. The mass\\nwould have to be removed to properly heal the injury. The mass on the adult Aoudad could be a sign of secondary\\ninfection or other disease which could lead to pain or distress for the animal. This mass should be evaluated by a\\nlicensed veterinarian and a treatment plan created to ensure the animal(cid:25)s well-being. Correct by 7/20/15.\\nThe veterinary care items described here have significant impact to animal welfare and may lead to secondary\\ndisease or worsening of the original condition. A licensed and knowledgeable veterinarian must be consulted to\\nevaluate, diagnose, and treat the current veterinary care issues. It is the facilities responsibility to ensure that\\ndocumentation of the examination, diagnosis and treatment is maintained and made available for review by APHIS\\nofficials. The veterinary care items described here have significant impact to animal welfare and may lead to\\nsecondary disease or worsening of the original condition. A licensed and knowledgeable veterinarian must be\\nconsulted to evaluate, diagnose, and treat the current veterinary care issues.\",\n",
       " \"1. At the time of the last inspection the licensee reported to the inspector that he euthanized the animals when\\nunable to treat them according to SOPs worked out with his Attending Veterinarian (AV), or if adult animals are to\\nbe culled from the breeding program. The method normally used by the licensee is via cervical dislocation in awake\\nanimals. The method of euthanasia in the written Program of Veterinary Care (PVC) is that the licensee may\\neuthanize the animals himself and this can be done without consulting the AV for individual animals. Adult\\nchinchillas at this facility weigh around 20-30 oz.\\nDuring today's inspection it was learned that the licensee had tried to contact the AV after the last inspection but he\\nhas not heard back from the AV yet so the method of euthanasia to be used at the facility has still not been\\ndiscussed.\\nCervical dislocation, when used alone, is not an approved method of humane euthanasia for this species and size\\nof animals. Generally, it is only recommended for mice, rats weighing <200 g and immature rabbits. The use of an\\ninappropriate method to euthanize animals may cause the animal additional distress or discomfort.\\nThe licensee must consult with the Attending Veterinarian to determine an appropriate method to euthanize these\\nanimals that meets current standards of veterinary care. The written Program of Veterinary Care needs to be\\nupdated to include a complete description of the method of euthanasia approved by the Attending Veterinarian that\\nis to be used for all of the animals at the facility.\\nNOTE - Exit interview held on-site 3/1/16 with Licensee.\\n*END OF REPORT*\",\n",
       " 'Upon inspection of the goat enclosure housing 4 adult female goats and 1 mature buck, there was an additional adult\\nfemale goat dead in the shelter. Daily observation of all animals on premises is essential to assess their health and well-\\nbeing. Licensee must conduct daily observations of all animals on hand so that timely and accurate information on\\nproblems can be conveyed to the attending veterinarian.',\n",
       " \"A female Pomeranian microchip #005-008-600 continues to have problems with her teeth and right ear. The upper\\nteeth remain covered in a dark hard material and her right upper first pre-molar (the tooth far back on the upper right\\nside just behind the large tooth) of the mouth is still loose to the touch. Though the licensee has been treating the\\ndog's right ear with an over the counter medication, her right ear continues to have a thick brown discharge matted\\nin the hair. Tooth problems can be painful and cause further health issues in dogs if not treated. The discharge\\nfrom the ear may be a sign of a problem in the ear and needs to be evaluated if it needs proper treatment. To\\nensure that this dog is not in pain and receives appropriate treatment have the attending veterinarian evaluate it to\\ndiagnose the ear and teeth problems and treat them per the veterinarian's instructions. Documentation of the dog's\\ndiagnosis must be kept for future inspections.\",\n",
       " 'Three elk were found dead by facility staff on 09-30-17. The animals were necropsied and the cause of death was\\ninconclusive. The facility maintains a daily observation log to account for all of the animals. The staff noted that\\n\"zero\" elk were observed between 9-5-17 and 9-30-17. This was confirmed by the Director of Resource\\nManagement. The lack of daily observation of the animals doesn\\'t allow facility staff to assess their health and\\nwell-being.\\nAssure all animals are observed daily to assess their health and well-being. Assure any problems of health,\\nbehavior, or well-being are reported to the veterinarian.\\nCorrect by: The facility has implemented multiple corrective actions in an effort to prevent future incidents.\\nThis inspection and exit interview were conducted with Director of Resource Management.',\n",
       " 'The licensee acquired 8 cougars. The licensee did not have enough enclosures to house the cougars separately.\\nThe licensee put two of the cougars that had not been previously housed in a single enclosure together and one of\\nthe cougars killed the other.\\nAnimals housed in the same primary enclosure must be compatible.\\nAny animals that are housed in the same primary enclosure must be compatible.\\nAnimals that are housed in the same primary enclosure must be compatible to prevent injury or death.\\nTo be corrected by end of business today.\\nLicensee refused to sign the inspection report.\\nA copy of the report was left at the facility.\\nThis inspection and exit interview were conducted with the licensee.\\nAdditional Inspectors\\nHammel Kurt, Veterinary Medical Officer',\n",
       " 'On November 17, 2020 a child was bitten during an encounter with the lemurs. The lemur \"Peach\" was attempting to grab\\nthe child\\'s mask and bit her on the left cheek. The child was administered first aid by the mother at the the time of the\\nincident. The facility documented the incident and quarantined the lemur. The child reportedly was taken to the hospital\\nfor treatment. The facility was unable to assure the safety of both the public and the animal. While handling the animals\\nthere shall be minimal risk of harm to the public. Safety measures should be implemented to prevent the injury of both\\nanimals and the public while exhibiting. Correct from this day forward.',\n",
       " \"In May 2021, two keepers attempted to capture a male Prevost squirrel for transport to the facility's quarantine. The main\\nkeeper that worked with the Prevost squirrel attempted to voluntarily capture the animal; however, after several\\nunsuccessful attempts the animal was hand contained and transferred into a transport cage, totaling a time span of 45\\nminutes from initial attempt to final capture. Approximately an hour or so later, a keeper checked on the squirrel in its\\ncage, and was observed, per the facility, walking around with an abnormal, drunken gait. The keeper called for assistance\\nand eventually the Bird and Mammal Curator was called. The attending veterinarian was contacted and instructed that the\\nstaff administer Pedialyte and prepare subcutaneous fluids but when the staff entered the enclosure to administer the SQ\\nfluids, the squirrel was found deceased. A necropsy report found incidental disease findings as well as evidence of stress-\\nrelated pathologic findings. Although both keepers were trained on the proper methods to capture an animal, the\\ncontinuous unsuccessful attempts to capture the squirrel over the span of approximately 45 minutes negatively impacted\\nthe health and welfare of the animal. Handling of all animals shall be done as expeditiously and carefully as possible in a\\nmanner that does not cause trauma, behavioral stress, physical harm, or unnecessary discomfort.\\nCorrect by January 31st, 2022.\\nThis inspection and exit interview were conducted with the Mammal and Bird Curator, General Curator and Director.\\nEnd Section\",\n",
       " 'On Feb 20, 2021, a keeper, while trying to shift two jaguars (a younger male and older female) - that were housed\\nseparately - between enclosures, mistakenly opened the wrong shift door. When the keeper realized the door he was\\ntrying to open was not moving, he immediately tried close the door he was inadvertently opening. The door was only\\npartly opened when the younger male jaguar squeezed through the opening and attacked the older female. The keeper,\\nalong with the help of other keepers, tried to separate the two animals mid-attack using techniques they were trained to\\nuse in such circumstances - including fire extinguishers and pepper spray. Once the animals were separated, the female\\nwas found unresponsive and died as a result of the attack.\\nImproper handling, in this case shifting, of animals can affect the well-being of the animal and even lead to injury and/or\\ndeath. Handling of all animals should be done as carefully as possible in a manner that does not cause trauma and\\nphysical harm. In response to the incident, the facility added an additional lock for shifting animals which is used as a tool\\nto have the keepers stop and confirm they are opening the right doors.\\nCorrected at time of incident',\n",
       " 'One harbor seal pup at the facility was in the process of being weaned when it passed away on September 29th, 2023.\\nThe facility incorporated varying methods to introduce the pup to fish, as well as promoted interactions between the\\nkeepers and harbor seal pup in which fish were offered. Enrichment opportunities and missing pieces of fish were noted\\nthroughout the weaning process, but several weeks went by where the seal had not received an adequate amount of food\\nto maintain good health. Though the facility’s weaning protocol referenced parameters where weight loss was expected,\\ntheir harbor seal pup experienced significant weight loss with minimal fish consumed throughout the weaning process.\\nMore aggressive attempts to intervene were not initiated until shortly before the pup passed away.\\nProviding sufficient caloric intake is imperative to growing animals that are no longer nursing from their moms.\\nSubsequently, it is critical that employees overseeing these practices are knowledgeable and aware of the appropriate\\nmeasures required to proficiently recognize the timeframes and cues in which the staff needs to intervene and directly\\nassist with additional feeding approaches, to ensure that the observations noted during weaning are within normal\\nparameters.\\nFood, when given to each marine mammal individually, must be given by an employee or attendant who has the\\nnecessary knowledge to assure that each marine mammal receives an adequate quantity of food to maintain it in good\\nhealth. Such employee or attendant is required to have the ability to recognize deviations from a normal state of good\\nhealth in each marine mammal so that food intake can be adjusted accordingly.\\nCorrect by October 30, 2023.\\nThis inspection and exit interview were conducted with the facility representatives.\\nn',\n",
       " 'The inspector arrived at the facility and was greeted by the licensee outside of one of the gates to the facility’s\\nperimeter fence. As the inspector followed behind the licensee a few steps through the perimeter fence gate he\\nimmediately noticed that a tiger was outside of its cage and free within the compound including having potential\\naccess to this gate while it was opened. The inspector immediately stepped back through the gate, ensured it was\\nclosed, and then told the licensee that the tiger must be put into its cage and secured. The licensee knew the\\napproximately 18 year old tiger, Picasso, was loose within the compound and thought it was okay because it was an\\nolder, well-tempered tiger with poor vision. The inspector clearly and firmly stated that for safety reasons all animals\\nmust be properly secured in their enclosures before the inspection could continue. The licensee acknowledged the\\ninspector and placed the tiger back in its enclosure and the inspection proceeded. Handling dangerous animals in\\nsuch a manner does not conform to the handling regulations and poses a significant risk of harm to the inspector.\\nThe licensee is responsible for ensuring the safety of the inspector at all times during the inspection process.\\nAdditionally, opening a gate along the perimeter fence without first properly securing a dangerous animal in its\\nprimary enclosure poses the risk of harm to the public and to the animal in the event of an animal escape.\\nHandling of all animals shall be done as expeditiously and carefully as possible in a manner so as to assure the\\nsafety of all persons and animals. All animals must be safely secured in their primary enclosures at all times during\\nthe inspection process.\\nCorrect for all future inspections.\\nThis inspection and exit interview were conducted with a facility representative.',\n",
       " 'At time of inspection, a bottle of expired Tramadol was stored in the drug cabinet and records showed that the pot-bellied\\npig \"Hamton\" had been administered this drug as part of a multidrug regimen for pain control for approximately 2 weeks\\nafter its expiration. Use of expired medications in animals is not an appropriate method for treatment and control of health\\nconditions. Exhibitors must use appropriate methods to prevent, control, and treat diseases and injuries in animals.\\nCorrected at time of inspection dated 03 July 2023.',\n",
       " \"A 22yo male crested capuchin with a history of hair loss and his habitat mate did not have access to the heated night\\nquarters the night of December 24, 2022. According to the facility representative, the keeper responsible for this area\\nfailed to provide access to the 2 non-human primate's heated building during closing rounds. The capuchin and his habitat\\nmate remained out on exhibit for at least 8 hours with temperatures dropping to the upper 40s and lower 50s. According\\nto the medical records, the geriatric capuchin was found deceased out on habitat during opening rounds with no issues\\nnoted for his habitat mate. Immediate corrective action has been set in place by the facility. Appropriate measures should\\nbe taken to ensure animals health and well-being during changing climatic conditions. When climatic conditions present a\\nthreat to an animal's health or well-being, appropriate measures must be taken to alleviate the impact of those conditions.\\nAn animal may never be subjected to any combination of temperature, humidity, and time that is detrimental to the\\nanimal's health or well-being, taking into consideration such factors as the animal's age, species, breed, overall health\\nstatus, and acclimation.\\nTo be corrected from this day forward.\\nThis inspection and exit interview were conducted with the facility representatives.\\nEnd Section\",\n",
       " 'Four San Joaquin kit foxes housed together burrowed under the cement pool in their enclosure. Beginning in\\nJanuary 2016 facility staff failed to observe two of the foxes for days or weeks at a time. The decomposed bodies of\\nthe two animals were found in the burrow in late May 2016. According to the daily caretaker logs one of the two\\nhadn(cid:25)t been observed for a month as of 5/18 and an unspecified, longer period of time since the other animal had\\nbeen observed.\\nIncidences of delay in reporting health concerns to the attending veterinarian were found in facility records.\\nOn 1/21/2016 staff noted a kit fox walking on three legs. The curator took radiographs of the leg and said that the\\nfox had either a bone spur or a broken toe and gave the animal an injection of a non-steroidal anti-inflammatory for\\npain. It is unclear from the records when the injury resolved and the veterinarian was not contacted.\\nOn 1/22/2016 a kit fox being treated with eye medication developed apparent inflammation of the eye and was\\nobserved pawing at the eye. The curator was notified who said to continue the eye medication. The veterinarian\\nwas not notified. The drops continued to be administered and on 2/5 one of the caretakers noted that the fox(cid:25)s eye\\nlooked enlarged and asked the curator to look at the eye. The same concern was noted on 2/7 and the curator was\\nemailed. The veterinarian saw the animal on 2/9 and prescribed medication.\\nOn 5/15/2016 staff noticed a deer with injuries from fighting including a swollen hock and broken hoof. Staff was told\\nby management to clean the wounds and administer antibiotics. The curator examined the animal the following day\\nand ordered wound cleaning and pain medication. Staff stated that the animal was very sore. On 5/17 no\\nimprovement was noted in the animal(cid:25)s walking and staff stated they were waiting for the veterinarian to return a call\\nregarding a different pain medication.\\nFailure to observe animals on a daily basis and failure to communicate promptly with the attending veterinarian can\\nbe detrimental to the health of the animals and cause unnecessary pain and distress. Daily observation of all the\\nanimals to assess their well-being and direct and frequent communication with the attending veterinarian regarding\\nhealth issues is necessary to ensure that the animals receive timely and adequate veterinary care. A system should\\nbe in place to ensure that all animals are observed daily and the attending veterinarian is notified when necessary.\\nCorrect immediately for all regulated species housed at the facility.',\n",
       " 'On Monday, August 2, 2021, the Animal Care Supervisor of the facility sent an email regarding an escape incident\\ninvolving a 6 year old male black/gray wolfdog named, “Tsume (tag #268),” a new rescue who arrived at the facility on\\nJuly 29, 2021. The escape occurred sometime after the evening rounds at 4:30 pm on July 31, 2021 and the morning\\nrounds at 8:00 am on August 1, 2021 The wolfdog escaped his enclosure by digging down to the dig guard and pulling it\\naway from the fencing allowing him to squeeze through the small opening he created. The animal’s tracks were followed\\nto one of the outer perimeter gates where he was able to squeeze underneath to escape the facility completely. Facility\\nstaff did a thorough search inside the perimeter, then proceeded to search around the areas near the sanctuary. Local\\nofficials and residents had been notified of the escape. The staff responded to all sightings; however, the exact location of\\nthe wolfdog is not known, and the facility has been unable to recover the animal. Since the incident the facility has added\\na bar to the perimeter gate so it cannot be pushed outward and filled in the ground with dirt where it eroded. The\\nenclosure where the animal escaped from is not being utilized at this time. The facility will add new reinforced dig guards,\\nand the hole filled before another animal is allowed into the enclosure. Animals escaping from primary enclosures are\\nmore vulnerable to harm from surrounding predatory animals and further injury when they are not safely contained.\\nCorrected before time of inspection.\\nThis inspection and exit briefing were conducted with the Animal Care Supervisor and Executive Director.\\nEnd Section',\n",
       " 'Currently there is a 100lb sow in North side pen 13 that was recorded as having a completely swollen, fluid filled ear\\non December 17, 2014 that was to be treated. Six days later the sow still has not received any treatment and the\\near continues to be fluid filled and stretched to the limits of weight and size for that ear flap. Upon further inspection\\nthere were two other medical issues that had not been observed by the facility Manager and had not been recorded\\nor received treatment. There is an 80lb sow that is in the finishing barn South side pen 13 with a full right ear\\nhematoma, or fluid filled ear. The sow had not been noticed with the issue until during the inspection. There is\\nanother sow approximately 100lb in the North side pen 9 that has a bloody tail stump where the tail has been bitten\\noff. During the inspection 3 other sows continued to bite and chew at her stump which continues to be bloody and\\nraw. Two of the issues had not been observed until during the inspection, while the one recorded issues still has not\\nbeen treated from 6 days prior. At this time the veterinarian has not been contacted in regards to these two health\\nissues, and no treatments have been given.\\nAny health issue that is left untreated can cause unnecessary pain and discomfort to the regulated animals. The\\nlack of response can cause a treatable condition to become chronic or fatal if left undiagnosed and treated for long\\nperiods of time depending on the original condition.\\nThe veterinarian must be contacted to properly diagnose and treat any condition that is required. The licensee must\\nmake sure all conditions are treated according to the veterinarians directions and procedures at all facilities.\\nTo be corrected by: December 24, 2014',\n",
       " 'The current program of veterinary care (PVC) created by the attending veterinarian is inadequate.\\nThe PVC states that the “Licensee may perform humane termination if recommended by licensee” and “Worming\\nproducts, vaccines, antibiotics, and other indicated medication may be purchased through Angel Veterinary Clinic as\\nneeded. and it allows the licensee to pick up “worming products, vaccines, antibiotics, and other indicated medications as\\nneeded from the veterinarian” Allowing the licensee to determine when an animal should be euthanized or what\\nmedications may be needed are not considered adequate veterinary care.\\nFailure to establish, maintain and follow a written program of veterinary care can decrease the ability to ensure optimal\\ncare of all the animals. Each dealer and exhibitor shall assure that the attending veterinarian has appropriate authority to\\nensure the provision of adequate veterinary care and to oversee the adequacy of other aspects of animal care and use.\\nIn addition, an adequate program of veterinary care must be established, maintained and followed, so that the licensee\\nhas a plan for providing adequate preventative care and treatments as necessary.\\nTO BE CORRECTED BY DECEMBER 21, 2021.',\n",
       " \"- The following medications stored in current drug storage area were past the expiration date:\\nAlbon Oral 5% solution expired 02-2012\\nGriseofluvin suspension 10 mg/ml expired 2/28/12\\nThese medications were intermingled with other pharmaceuticals that are currently being used in the facility and are\\ntherefore ready for use.\\nUse of expired medications is not be an appropriate method to prevent, control, and treat diseases and injuries\\nsince the expected results cannot be guaranteed and the animals may experience pain and distress due to\\nmistreatment, unrelieved symptoms, or due to unexpected side effects.\\nThe licensee must ensure that all medications used in the facility are not expired and labeled properly in accordance\\nwith standard veterinary practices and manufacturer's recommendations.\\nCorrected during the inspection.\",\n",
       " \"During the course of inspection, facility representatives indicated that two male Vampire bats (ID#'s: M16012 and\\nM16021) were found drowned in a bowl of water in the secondary containment area just outside of their primary enclosure\\non 5/5/2023 as a result of an employee mistakenly leaving their primary enclosure door open. Failure to be careful when\\nhandling animals can negatively impact their health and well-being, and ultimately lead to death. Handling of all animals\\nmust be done as expeditiously and carefully as possible in a manner that does not cause trauma, overheating, excessive\\ncooling, behavioral stress, physical harm, or unnecessary discomfort. The facility implemented the following corrective\\nactions as result of the incident: changes to depth and presentation of water bowl that is held in the secondary\\ncontainment area; disciplinary action for employee; and an update to the Vampire bat husbandry checklist to include\\nchecking the seal of the primary enclosure door.\\nThis inspection and exit interview were conducted with a facility representative.\\nn\",\n",
       " 'On January 28, 2014, an adult bull bison was euthanized. The attending veterinarian was not notified of the\\neuthanasia and thus was not present. The Program of Veterinary Care (PVC) specifically states in an attached\\nletter, \"Euthanasia of animals will be performed under the supervision of a local veterinarian.\"\\nNotifying the veterinarian ensures proper methods and procedures are followed during euthanasia, that a humane\\ndeath is produced by ensuring that unconsciousness is rapidly achieved, and pain and distress are minimized.\\nThe licensee must ensure the veterinarian has direct authority to provide adequate veterinary care for all animals at\\nthe facility.\\nTo be corrected by June 27, 2014.',\n",
       " 'The facility is utilizing a method of euthanasia that is listed on the Program of Veterinary Care only for emergency\\nsituations for at least 3 rabbits that were deemed to be un-needed by the facility or were used as food items for the bald\\neagle. These rabbits are exhibited outdoors during the warm months of the year. Euthanasia is defined by the Animal\\nWelfare Act as “the humane destruction of an animal accomplished by a method that produces rapid unconsciousness\\nand subsequent death without the evidence of pain or distress, or a method that utilizes anesthesia produced by an agent\\nthat causes painless loss of consciousness and subsequent death”.\\nThe Program of Veterinary Care states euthanasia can be carried out by the veterinarian or the licensee by gunshot or\\nlethal injection but does not provide any further guidance. When speaking to the Attending Veterinarian, gunshot should\\nonly be done by the park rangers and only to the bison or coyote in an emergency or any other animal that escapes and\\nposes a risk to public safety. When reading through animal records, the inspector found a note under the bald eagle’s\\nrecord stating that “two rabbits were shot and fed to the bald eagle because only 2 rabbits were wanted for the winter.”\\nWhen the inspector interviewed the facility representative that performed this euthanasia, the gunshot (.22 caliber rifle) to\\nthe head did render the rabbits unconscious immediately. The attending veterinarian did not know that this euthanasia\\ntook place, and it was not an approved method of euthanasia for rabbits. Euthanasia shall be overseen by the attending\\nveterinarian to provide adequate guidance to personnel involved to reduce the pain and suffering of the animals cared for.\\nWhen talking to a facility representative, he stated that the facility fed a live adult rabbit to the bald eagle sometime during\\nthe summer months of 2021. This took place because the eagle was evaluated by a veterinarian and the facility was\\ninstructed to provide more calories and calcium to the eagle. This event did not result in rapid unconsciousness and\\nsubsequent death with evidence of pain or distress.\\nThe facility must use euthanasia guidelines provided by the attending veterinarian and make sure that method complies\\nwith the Animal Welfare Act.\\nTo be corrected by: From this day forward.',\n",
       " 'The licensee stated she doesn’t have any current skunk litters due to the moms eating the babies. She stated the moms\\nate their babies last year due to an APHIS inspection. The licensee further alleged moms continue this cannibalistic\\nbehavior once it starts. The licensee has not consulted with the attending veterinarian regarding this year’s litters being\\neaten. Failure to have communication with the attending veterinarian regarding cannibalistic behavior and possible\\nmaternal stress does not ensure the animals are receiving adequate veterinary care. Direct and frequent communication\\nis required so that timely and accurate information on problems of animal health, behavior and well-being is conveyed to\\nthe attending veterinarian.\\nCorrect by 5/26/2023',\n",
       " 'This licensee transported a lion cub under 28 days of age to this facility. The licensee reports that the cub was born on 28\\nJune 2020. There are inconsistent dates listed on the supporting documentation for this transport. The Certificate of\\nVeterinary Inspection states a shipping date of 15 July 2020 (17 days of age). The APHIS 7020 form provided by the\\nlicensee of origin shows a disposition date of 19 July 2020 (21 days of age). However, this licensee states that the\\ntransport actually happened 24 July 2020. The lion cub would have been 26 days of age on 24 July 2020. Neonatal\\nnondomestic cats have special handing and husbandry needs and are placed in danger when they are exposed to\\nmembers of the public and/or stressful conditions, including transportation. Cubs under 4 weeks of age (28 days) do not\\nhave a developed immune system, are susceptible to a wide variety of diseases including those of domestic cats, and\\ncannot thermoregulate. The licensee must ensure that handling of all animals be done as expeditiously and carefully as\\npossible in a manner that does not cause trauma, overheating, excessive cooling, behavioral stress, physical harm, or\\nunnecessary discomfort. To be corrected by 30 April 2021.\\nThis inspection and exit interview were conducted with the facility representatives.\\nAdditional Inspectors:\\nMICHAEL TYGART, VETERINARY MEDICAL OFFICEREnd Section',\n",
       " '- In the round pen housing 3 adult and one 2 week old infant lemur the temperature in the indoor shelter was over\\n85 F. The initial temperature was 91 F taken at 1:43 PM . At 3:29 the temperature was recorded at 94F, and at 5\\nPM the temperature was 95.7 F. Two other sheltered primate enclosures were over 85 F at initial temperature\\ncheck. However, the facility was able to cool these two within the required 4 hour time frame.\\nExcessive heat in the enclosed shelter area can greatly impact the comfort and health of enclosed animals.\\nPrimates in this situation are more likely to avoid the shelter entirely. The facility must ensure it has the means and\\nability to maintain shelter temperatures between 45 and 85 F no matter the ambient temperature and weather\\nconditions.',\n",
       " 'The written program of veterinary care does not include bobcats. Bobcats are now present at the facility. It is\\nessential that these animals be included in the program of veterinary care. Veterinary recommendations for care of\\nthese animals should be included in the program. APHIS inspectors then use this information while inspecting the\\nanimals in order to determine if veterinary recommendations are being followed by the facility. This program is a\\nvaluable tool in order to ensure the continuing health and comfort of these animals. Bobcats need to be included on\\nthe program of veterinary care.\\nCorrect by: 9-21-14',\n",
       " \"The tiger known as Sher Kahn would not stand even when prodded with the facility CEO's cane. The tiger had\\nareas of hair missing from the top of both rear feet. The flesh below was bright pink. These lesions appeared to be\\nfrom the tops of the feet being drug on the ground as the animal walked. The left front foot had an overgrown claw\\nwhich extended all the way around and back into the foot pad. This condition can be extremely painful. The facility\\nCEO was not aware of these lesions. This tiger is suffering in its current condition. This tiger requires evaluation by\\nthe attending veterinarian for treatment to alleviate its pain and suffering. The facility attending veterinarian was\\nconsulted about the condition of this tiger at the conclusion of the inspection by the facility CEO.\\nThe macaque known as Huey had a small wound on the tip of its tail. This lesion was about 1/4 inch long and was\\nred and raw. Medication has been prescribed by the attending veterinarian and is on hand to use as needed for this\\ncondition. Tail wounds of this nature can spread rapidly if not treated in a timely fashion as the animal will continue\\nto pick at this area. This can lead to infection which can ultimately require tail tip amputation. Wounds must be\\ntreated promptly to avoid unnecessary pain and suffering. This monkey requires administration of the medication\\nprescribed by the attending veterinarian for this condition.\\nDocumentation of the veterinary evaluation for the tiger with treatment recommendations and treatment records for\\nboth animals must be maintained and available for review by APHIS officials.\",\n",
       " 'The meat cooler had an overwhelming odor of rotten and decaying meat. This odor makes it very hard to determine\\nif the meat items stored in this cooler are fit for animal consumption. Clean the cooler, identify the source of the\\nodor and eliminate it.\\nThe produce cooler contains spoiled produce. Deteriorating bags of lettuce, discolored oranges, softening apples\\nand another deteriorating bagged produce were present in the cooler. This produce was stored on the already\\nsorted (feed side of the cooler). Spoiled produce must be removed promptly to prevent contamination of food\\nintended to be fed to the animals. Sort and remove spoiled produce promptly. This cooler needs to be cleaned and\\nhave spoiled and deteriorating items removed in order to prevent contamination of food items that will be fed to the\\nanimals. A decaying dead rodent was noted inside a bin containing old monkey biscuits and a bag of dog food\\nwhich was being fed to the emus according to the CEO. The facility management claims to be sorting the produce\\nagain before feeding but the deteriorating and rotten condition of the produce present in the American black bear\\nand Asian black bear food receptacle boxes makes it impossible for APHIS inspectors to determine if this is true.',\n",
       " '-During the night of Friday, December 9, 2016; Lightning, a male wolf, dug under the primary wolf enclosure fencing\\nnear the seasonal water feature where some erosion had occurred. This allowed Lightning into the hoof stock pen\\ngaining access to the hoof stock gate, and worked his way into the area between the primary enclosure and the\\nperimeter fence.\\n-The primary enclosure shall be constructed and maintained in a way that is structurally sound and maintained in\\ngood repair to protect the animals from injury and to contain the animals. An adequate program of regularly\\nscheduled review and maintenance of the primary enclosure fencing shall be used to identify and quickly repair any\\narea that poses a risk of non-containment. Steps must be taken to ensure this non-compliant item does not repeat.\\n-To be corrected by: January 10, 2016',\n",
       " \"****On 2/16/2017 a Ewe delivered one dead lamb. Over the next four days this Ewe was not eating hay and very\\nlittle grain or treats. During this time period, the facility representative contacted the Attending Veterinarian who\\nrecommended treatment with antibiotic and vitamins. The ewe was found dead 2/20/2017.\\n****On 2/21/2017 the facility representative noticed another ewe attempting to give birth. He contacted the Attending\\nVeterinarian who recommended antibiotic and vitamins. About nine hours later the facility representative observed a\\nlamb's nose protruding from the vagina of the ewe. He again contacted the Attending Veterinarian who instructed\\nhim to reposition the lamb internally. The facility representative was able to deliver the lamb, but it was dead. About\\ntwenty minutes later the ewe delivered a second dead lamb. Five to six hours later the facility representative\\nobserved the ewe trying to deliver a third lamb. It was also malpositioned so the facility representative repositioned\\nthe lamb internally. He was able to deliver the lamb, but it was dead. The facility representative did not know if the\\newe passed the afterbirths. For the next three days the ewe was weak, unable to rise on it's own and would not eat\\nhay. On 2/25/2017 the ewe was found dead.\\nEven though the facility representative contacted a veterinarian and provided treatment, neither of the animals were\\nexamined and diagnosed by a veterinarian despite little or no improvement in the animals' conditions. The lack of\\nappropriate methods to prevent, control, diagnose, and treat diseases and injuries can result in ongoing illness and\\ndeath. The licensee must ensure that adequate veterinary care is provided at all times including nights, weekends\\nand holidays.\\nTO BE CORRECTED: FROM THIS POINT FORWARD\\nThis inspection and exit interview were conducted with facility representatives.\\nAdditional Inspectors\\nGraves Alicia, Animal Care Inspector\",\n",
       " 'The individual identified above was observed exhibiting animals during the Eden Prairie, MN (Staring Lake) Outdoor\\nCenter Open House event on 7 April 2018. This APHIS inspector observed 2 cougars, 1 wolf and 1 fox in primary\\nenclosures set up behind a barrier made of caution tape and orange cones allowing the public attending the open\\nhouse event to view the animals.\\nThis individual does not hold a valid USDA Class \"C\" exhibitor license. This individual had been licensed with USDA\\nas a Class “C” exhibitor however the license (41-C-0122) was revoked in 2012 and the individual was issued a\\ncease and desist order.\\nPer this Section of the Regulations, any person operating or intending to operate as an exhibitor must have a valid\\nlicense with the USDA. The possession of a valid USDA license demonstrates that the premises, vehicles,\\nequipment, and the care of the animals comply with the Regulations and Standards as set forth in the AWA to\\nensure the health and well-being of the animals.\\nUSDA regulated activities may not be conducted without a USDA license.\\nInspector spoke with the individual but did not conduct a formal exit interview.\\nEnd of report.',\n",
       " 'The two capuchin enclosures each had one elevated wooden platform which was unsealed and worn with cracks and\\nrough, ridges on the top surfaces. Surfaces which cannot be readily cleaned and sanitized such as unsealed, raw wood\\nare porous and can trap debris, bacteria, or other harmful organisms. All surfaces must be maintained on a regular basis.\\nSurfaces of housing facilities that cannot be readily cleaned or sanitized must be replaced when worn or soiled.\\nCorrect by 11/29/2021.',\n",
       " 'On March 19, 2016 a non-human primate (NHP) was injured after staff failed to secure an enclosure door. The\\nNHP, a four year old macaque, escaped from the enclosure through the unsecured door. It returned to the\\nenclosure of its own volition and staff noticed that it was lame. The NHP was diagnosed with fractures of both legs,\\nreceived prompt veterinary treatment, and has recovered from the fractures. Staff members involved in the incident\\nwere re-trained and the facility implemented additional enclosure locking practices. The facility self-reported the\\nincident to APHIS officials.\\nAnimals should be handled carefully, in such a manner that does not cause them trauma, physical harm, or\\nunnecessary discomfort. The facility should ensure that corrective actions for handling issues will prevent similar\\nproblems from occurring in the future.\\nPreviously to have been corrected immediately.\\nAccompanied by Dr. Michael Schnell.\\nAn exit briefing was conducted with a facility representative.\\nAdditional Inspectors\\nSchnell Michael, Veterinary Medical Officer',\n",
       " 'On July 27, 2017 an anesthetized rabbit on a study protocol was to be injected with a contrast medium. Following\\ninjection the rabbit immediately died. The technician realized that the stop-cock valve used for the procedure had\\nbeen turned in the wrong direction, the contrast medium had drained from the extension tubing, and air had been\\ninjected instead. The technician explained that the stop-cocks that had been used historically had a valve that\\nturned in one direction and the new stop-cocks recently purchased have a valve that turns in the opposite direction.\\nThe technician was aware of this, but stated that she turned the valve out of “muscle memory.” The facility\\ndiscarded the remaining stop-cocks that function in this manner.\\nOn August 11, 2017 an employee attempted to socialize two dogs against the recommendation of veterinary staff.\\nOne dog had a history of dog related aggression and had been removed from the facility socialization list due to the\\nrisk of dog and/or staff injury. The dogs fought, both dogs received lacerations, and one dog required sutures. Both\\ndogs recovered and one of the two dogs has been adopted as a pet. Corrective action was taken by the facility.\\nAnimals should be handled carefully, in such a manner that does not cause them trauma, physical harm, or\\nunnecessary discomfort. The facility should ensure that corrective actions for handling issues will prevent similar\\nproblems from occurring in the future.\\nThe inspection was focused on handling incidents that were self-reported to APHIS officials.\\nThis inspection and exit interview were conducted with facility representatives.\\nAdditional Inspectors\\nSmith Pamela, Veterinary Medical Officer',\n",
       " 'On Sept 1, 2022, an adverse event took place during a terminal cardiac procedure involving an anesthetized pig.\\nAccording to the approved protocol a one-time dosage of heparin is administered prior to the cardiac phase of the\\nprocedure. However, the facility noted that heparin was not administered to this pig as directed per protocol.\\nSubsequently, the pig went into cardiac arrest and was humanely euthanized without recovering from anesthesia. Failure\\nto follow the approved protocol and making unapproved changes or deviations does not allow the IACUC to review these\\nchanges as required and ensure the animals involved do no experience negative impacts to their health and well-being.\\nThe IACUC must ensure that all significant changes or deviations regarding the care and use of animals in ongoing\\nactivities are reviewed and approved. It was noted that the facility took immediate corrective action, and the protocol was\\nterminated.\\nCorrect by close of business 12/14/2023.',\n",
       " '- On January 23, 2023, research personnel inadvertently mixed up the animal medical record numbers for two rabbits on\\nan approved protocol. One rabbit underwent a procedure but did not receive its required dosage of Meloxicam as stated\\nin the protocol, however, it did receive an alternative post-operative analgesic for pain control by the Department of Lab\\nAnimal Medicine (DLAM). Another rabbit which was not subjected to the procedure, did receive a pain medication.\\nAccording to the protocol, Meloxicam (oral or SQ) will be administered once daily for 3 days postoperatively. A discussion\\nwith the veterinarian confirmed it was not given per the protocol.\\n- On February 23, 2023, there was a last-minute decision, that was approved by a DLAM veterinarian, to switch one rabbit\\nfrom a non-survival to a survival surgery, which resulted in the rabbit not receiving the pre-procedure antibiotics as\\nrequired by the protocol. According to the approved protocol, on the day prior to surgery, the rabbit will be given a\\nprophylactic dose of Orbax antibiotic. Medical records reviewed for the rabbit confirm Orbax was not administered to the\\nrabbit prior to the surgery and confirmed by the veterinarian. Medical records and discussion with the veterinarians\\nconfirm there were no post-procedural complications due to the deviation from the protocol. Immediate correction action\\nhas been implemented to prevent reoccurrence.\\nFailure to follow the protocol’s pre- or post-procedural directions may affect the health and well-being of the animals. This\\nis a significant change regarding the care of animals in an ongoing activity that was not reviewed by the IACUC. The\\nIACUC must ensure that all significant changes regarding the care and use of animals in ongoing activities are reviewed\\nand approved prior to implementation.\\nTo be corrected by close of business June 7, 2023',\n",
       " 'On Feb 19, 2023, an 8-year-old female giraffe injured her neck by tangling her ossicones in rope fencing/barrier.\\nAccording to facility representatives, present employees attempted to assist the animal, but her death was quick.\\nAccording to the Attending Veterinarian the probable cause of death was capture myopathy secondary to stress from the\\nneck injury. Indoor and outdoor housing facilities must be structurally sound and protect the animals from injury. The\\nfacility has implemented corrective actions to protect the remaining giraffes.\\nThis inspection and exit interview were conducted with facility representatives.\\nn',\n",
       " 'There was a dead piglet observed in a shed in the pig enclosure. When shown to the facility representative, he was\\nnot aware the piglet had died. There was an accumulation of mud in the upper part of the enclosure where the shed\\nwas located from recent rains. Several piglets were observed to have difficulty ambulating in the deep mud.\\nIt is possible the excessive thick mud was a factor in the piglet’s death. The facility should be observing the animals\\ndaily to be aware of any issues that may impact the health of animals and cause injury or death.\\nThe facility corrected the issue during the inspection by placing a new shed in the lower part of the enclosure where\\nthe ground was dry.\\nCORRECT BY: Corrected during the inspection.',\n",
       " 'Some of the fencing and structures in the blackbuck enclosure and the giraffe enclosure are in poor repair.\\nApproximately 15 feet of fence on the right side of the enclosure containing 15 blackbuck is bent or leaning over. The\\nfence is comprised of wooden posts and metal wire panels. A tree has fallen on the fence and in this area there were two\\nwire panels held together by a strap or tie. The edges of some of the wire panels have sharp points. There is an\\napproximately 12 foot by 12 foot wooden shelter structure in the blackbuck enclosure that has a sagging roof, and the\\nroof has become separated from the far wall.\\nThe outdoor section of the enclosure housing one adult male giraffe is made of wood posts and metal wire panels. At\\nleast 4 wooden boards within the fence are broken, and 2 more boards are falling down from the top of the fence. Two of\\nthe boards have nails sticking out of them. Numerous posts are leaning outwards.\\nAdequate structural strength and regular maintenance of fences and shelter structures is important for animal comfort,\\nhealth, and wellbeing. Animals can escape or become injured by inadequate or poorly maintained fences, and shelter\\nstructures that are falling down may fail to provide adequate shelter from the elements.\\nCorrect by maintaining facilities and enclosures that are structurally sound and in good repair to protect the animals from\\ninjury and contain the animals within.',\n",
       " 'The information below was provided to USDA Animal Care from a Los Angeles County Public Health\\nVeterinarian(LACPHV) concerning an approximately 6-month-old dog that was transported on May 14, 2019, on\\nflight SU106 Aeroflot Airlines, originating from China. Airway bill number 55500380816. The LACPH veterinarian\\nand CDC personnel were present at the Aeroflot cargo area when the dog arrived.\\nA male intact yellow retriever mix displaying neurological signs arrived to the Aeroflot airline cargo area. CDC\\npersonnel denied entry of this dog as a rabies suspect and a LACPHV issued a health order to the airline for this\\ndog to be seen at a veterinary clinic for evaluation. According to the LACPHV, they cannot rule out rabies and the\\ndog needed to be quarantined and observed. The dog’s paperwork included a health certificate and rabies\\ncertificate with no information regarding this dog’s neurologic problems.\\nLACPHV found a veterinary clinic that would be willing to see the dog and quarantine him. The cargo/ intermediate\\nhandler took the dog to an alternate veterinary hospital, but the clinic could not handle the case at that time. The\\ndog was returned back to the Aeroflot cargo area without being evaluated. The dog was taken to the Los Angeles\\nCity Shelter the following morning by the cargo/intermediate handler and has since received appropriate veterinary\\ncare.\\nAs a registered intermediate (IH), the IH must continue to provide proper care, including veterinary care if needed,\\nfeeding, and housing to any dog and maintain any dog in accordance with generally accepted professional and\\nhusbandry practices while under their care.',\n",
       " 'In the refrigerator that contains medications for the dogs there is a bottle of Penicillin that expired in November 2007\\nand a bottle of Oxytocin that expired in September of 2013. The use of expired medical material is not considered\\nto be acceptable veterinary practice and is not consistent with adequate veterinary care required by regulations\\nunder the Animal Welfare Act. Expired medications may lose their effectiveness causing the health of the dogs to\\nsuffer. The license must either properly dispose of all expired medications or segregate them in an appropriately\\nlabeled, physically separate location from non-expired medications. Licensee must ensure that all medications\\nused for the care of the dogs have not expired.\\nA male Shih Tzu (USDA tag# 10) was observed to have cloudy eyes. Closer examination revealed a brownish,\\ncrusty material surrounding the upper and lower lids of both eyes. There was a small amount of liquid discharge\\nalong the bottom of the right eye. The licensee thought that this dog was blind. This dog has not been evaluated\\nby a licensed veterinarian.\\nPoor eye health can cause pain and discomfort to the dog. This dog must be evaluated by a licensed veterinarian\\nby end of business on August 27, 2015 for an accurate diagnosis and treatment plan. The diagnosis and treatment\\nplan must be documented and available to the inspector upon request.',\n",
       " 'On May 24, 2021, during a contracted animal interaction at the facility, a guest was bitten on the left upper arm by a lion\\ncub. The guest reported that immediately after biting, the cub was apparently scared/apprehensive from any additional\\ninteraction. During public exhibition, any animal must be handled so there is minimal risk of harm to the animal and to the\\npublic, with sufficient safeguards as to assure the safety of animals and the public. When interacting with guests, the\\nhandling of animals by trained facility personnel must be done as safely/carefully and expeditiously as possible in a\\nmanner that does not cause physical harm neither to the animal or the public.\\nCorrected by the time of this inspection.',\n",
       " \"During the exit interview of this inspection the licensee was continually verbally hostile and confrontational. When\\ntrying to go over the 'Draft' inspection report, the licensee constantly interrupted with every statement and sentence\\nthat was trying to be explained. The licensee used profanity at least every 2 to 3 words and made it impossible to\\ncontinue with any conversation, let alone explanation of the draft report. During the exit there were other\\ncircumstances that came to light that required us to ask for records which was denied by the licensee. At one point\\nthe licensee began to personally attack the supervisor during the exit by name calling, at which time the inspection\\nand exit interview was stopped.\\nThe increasing anger by the licensee was noted by the raising of his voice where it was equivalent to yelling, in\\nconjunction with the insults and personal attacks by name calling; created a situation where we felt that the licensee\\nwas going to continue to escalate to the point where the situation could possibly become unsafe.\\nIt should be noted the licensee refused to give back the 'draft' inspection report and stated it was his and he had it in\\ncase anything was changed, even though the 'drafts' are just drafts for the purpose of changes if needed before the\\nend of the inspection.\\nThe verbal harassment and abuse of inspectors during an inspection creates a situation where there is no dialog or\\nlearning by the licensee on how to work within the USDA regulations. The verbal attacks and anger demonstrated\\nby the licensee interfered with the ability to conduct a complete exit interview. The level of confrontation and\\nescalating anger and personal attacks have created a hostile and unsafe environment for APHIS officials to conduct\\nfuture inspections.\\nA licensee shall not interfere with, threaten, abuse (including verbally abuse), or harass any APHIS official in the\\ncourse of carrying out his or her duties.\\nTo be corrected by: Immediately\"]"
      ]
     },
     "execution_count": 57,
     "metadata": {},
     "output_type": "execute_result"
    }
   ],
   "source": [
    "df[df['web_critical'] != 0]['narrative'].tolist()"
   ]
  },
  {
   "cell_type": "code",
   "execution_count": 58,
   "id": "93526c63",
   "metadata": {},
   "outputs": [],
   "source": [
    "critical_direct_narratives = inspections_citations_notnull[(inspections_citations_notnull['kind'].isin(['Critical', 'Direct']) |\n",
    "                                                            (inspections_citations_notnull['web_direct'] != 0) |\n",
    "                                                            (inspections_citations_notnull['web_critical'] != 0))]"
   ]
  },
  {
   "cell_type": "code",
   "execution_count": 59,
   "id": "c032e588",
   "metadata": {},
   "outputs": [
    {
     "data": {
      "text/plain": [
       "kind\n",
       "Direct      1003\n",
       "Critical     711\n",
       "Name: count, dtype: int64"
      ]
     },
     "execution_count": 59,
     "metadata": {},
     "output_type": "execute_result"
    }
   ],
   "source": [
    "critical_direct_narratives['kind'].value_counts()"
   ]
  },
  {
   "cell_type": "code",
   "execution_count": 60,
   "id": "9f247b80",
   "metadata": {},
   "outputs": [
    {
     "data": {
      "text/plain": [
       "web_critical\n",
       "0    1236\n",
       "1    1145\n",
       "2     162\n",
       "3      44\n",
       "4      14\n",
       "5       4\n",
       "6       1\n",
       "8       1\n",
       "Name: count, dtype: int64"
      ]
     },
     "execution_count": 60,
     "metadata": {},
     "output_type": "execute_result"
    }
   ],
   "source": [
    "critical_direct_narratives['web_critical'].value_counts()"
   ]
  },
  {
   "cell_type": "code",
   "execution_count": 61,
   "id": "fb51215b",
   "metadata": {},
   "outputs": [
    {
     "name": "stderr",
     "output_type": "stream",
     "text": [
      "/var/folders/7b/llw41rn55vn8yn15rg03bjxh0000gn/T/ipykernel_86254/2398067158.py:45: SettingWithCopyWarning: \n",
      "A value is trying to be set on a copy of a slice from a DataFrame.\n",
      "Try using .loc[row_indexer,col_indexer] = value instead\n",
      "\n",
      "See the caveats in the documentation: https://pandas.pydata.org/pandas-docs/stable/user_guide/indexing.html#returning-a-view-versus-a-copy\n",
      "  df['topic_cluster'] = pipeline.fit_transform(df[text_column]).argmax(axis=1)\n"
     ]
    }
   ],
   "source": [
    "# Using topic modeling as EDA tool\n",
    "df = topic_modeling(critical_direct_narratives, text_column='narrative', num_topics=10)\n",
    "\n",
    "#for cluster_id in df['topic_cluster'].unique():\n",
    "#    cluster_rows = df[df['topic_cluster'] == cluster_id]\n",
    "#    print(f\"Cluster {cluster_id}:\")\n",
    "#    print(cluster_rows['narrative'])\n",
    "#    print()"
   ]
  }
 ],
 "metadata": {
  "kernelspec": {
   "display_name": "Python 3 (ipykernel)",
   "language": "python",
   "name": "python3"
  },
  "language_info": {
   "codemirror_mode": {
    "name": "ipython",
    "version": 3
   },
   "file_extension": ".py",
   "mimetype": "text/x-python",
   "name": "python",
   "nbconvert_exporter": "python",
   "pygments_lexer": "ipython3",
   "version": "3.11.5"
  }
 },
 "nbformat": 4,
 "nbformat_minor": 5
}
