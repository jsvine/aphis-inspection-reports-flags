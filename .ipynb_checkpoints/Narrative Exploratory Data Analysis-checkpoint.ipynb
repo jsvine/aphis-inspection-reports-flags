{
 "cells": [
  {
   "cell_type": "code",
   "execution_count": 1,
   "id": "cc6fca9f",
   "metadata": {},
   "outputs": [],
   "source": [
    "import pandas as pd\n",
    "import numpy as np\n",
    "import matplotlib.pyplot as plt\n",
    "from collections import Counter\n",
    "\n",
    "import sklearn\n",
    "from sklearn.cluster import KMeans\n",
    "from sklearn.decomposition import LatentDirichletAllocation\n",
    "from sklearn.pipeline import Pipeline\n",
    "from sklearn.preprocessing import LabelEncoder\n",
    "from sklearn.feature_extraction.text import CountVectorizer, TfidfVectorizer\n",
    "\n",
    "import nltk\n",
    "from nltk.stem import PorterStemmer, WordNetLemmatizer\n",
    "from nltk.tokenize import word_tokenize\n",
    "from nltk.corpus import stopwords\n",
    "\n",
    "import gensim\n",
    "from gensim.models import Word2Vec"
   ]
  },
  {
   "cell_type": "markdown",
   "id": "f5d4151e",
   "metadata": {},
   "source": [
    "# Narrative - Exploratory Data Analysis"
   ]
  },
  {
   "cell_type": "markdown",
   "id": "93f5fb86",
   "metadata": {},
   "source": [
    "Exploratory data analysis of APHIS inspection reports data's \"narrative\" column. "
   ]
  },
  {
   "cell_type": "code",
   "execution_count": 2,
   "id": "e6d600c1",
   "metadata": {},
   "outputs": [],
   "source": [
    "combined_dir = './aphis-inspection-reports/data/combined/'"
   ]
  },
  {
   "cell_type": "code",
   "execution_count": 3,
   "id": "8a84e6db",
   "metadata": {},
   "outputs": [
    {
     "name": "stdout",
     "output_type": "stream",
     "text": [
      "(94883, 2)\n"
     ]
    },
    {
     "data": {
      "text/plain": [
       "['hash_id', 'narrative']"
      ]
     },
     "execution_count": 3,
     "metadata": {},
     "output_type": "execute_result"
    }
   ],
   "source": [
    "narratives = pd.read_csv(combined_dir + 'inspections-narratives.csv')\n",
    "print(narratives.shape)\n",
    "narratives.columns.tolist()"
   ]
  },
  {
   "cell_type": "code",
   "execution_count": 4,
   "id": "512a3a61",
   "metadata": {},
   "outputs": [
    {
     "name": "stdout",
     "output_type": "stream",
     "text": [
      "(398528, 4)\n"
     ]
    },
    {
     "data": {
      "text/plain": [
       "['hash_id', 'count', 'scientific', 'common']"
      ]
     },
     "execution_count": 4,
     "metadata": {},
     "output_type": "execute_result"
    }
   ],
   "source": [
    "species = pd.read_csv(combined_dir + 'inspections-species.csv')\n",
    "print(species.shape)\n",
    "species.columns.tolist()"
   ]
  },
  {
   "cell_type": "code",
   "execution_count": 5,
   "id": "315e00a2",
   "metadata": {},
   "outputs": [
    {
     "name": "stdout",
     "output_type": "stream",
     "text": [
      "(38749, 6)\n"
     ]
    },
    {
     "data": {
      "text/plain": [
       "['hash_id', 'code', 'kind', 'repeat', 'desc', 'narrative']"
      ]
     },
     "execution_count": 5,
     "metadata": {},
     "output_type": "execute_result"
    }
   ],
   "source": [
    "citations = pd.read_csv(combined_dir + 'inspections-citations.csv')\n",
    "print(citations.shape)\n",
    "citations.columns.tolist()"
   ]
  },
  {
   "cell_type": "code",
   "execution_count": 6,
   "id": "22a8a6e7",
   "metadata": {
    "scrolled": true
   },
   "outputs": [
    {
     "name": "stdout",
     "output_type": "stream",
     "text": [
      "(95459, 31)\n"
     ]
    },
    {
     "name": "stderr",
     "output_type": "stream",
     "text": [
      "/var/folders/7b/llw41rn55vn8yn15rg03bjxh0000gn/T/ipykernel_16232/2060818130.py:1: DtypeWarning: Columns (13) have mixed types. Specify dtype option on import or set low_memory=False.\n",
      "  inspections = pd.read_csv(combined_dir + 'inspections.csv')\n"
     ]
    },
    {
     "data": {
      "text/plain": [
       "['web_certNumber',\n",
       " 'web_certType',\n",
       " 'web_city',\n",
       " 'web_critical',\n",
       " 'web_customerNumber',\n",
       " 'web_direct',\n",
       " 'web_inspectionDate',\n",
       " 'web_legalName',\n",
       " 'web_nonCritical',\n",
       " 'web_reportLink',\n",
       " 'web_siteName',\n",
       " 'web_state',\n",
       " 'web_teachableMoments',\n",
       " 'web_zip',\n",
       " 'hash_id',\n",
       " 'discovered',\n",
       " 'pdf_insp_id',\n",
       " 'pdf_layout',\n",
       " 'pdf_customer_id',\n",
       " 'pdf_customer_name',\n",
       " 'pdf_customer_addr',\n",
       " 'pdf_certificate',\n",
       " 'pdf_site_id',\n",
       " 'pdf_site_name',\n",
       " 'pdf_insp_type',\n",
       " 'pdf_date',\n",
       " 'pdf_report_date',\n",
       " 'pdf_animals_total',\n",
       " 'doccloud_url',\n",
       " 'licenseType',\n",
       " 'customer_state']"
      ]
     },
     "execution_count": 6,
     "metadata": {},
     "output_type": "execute_result"
    }
   ],
   "source": [
    "inspections = pd.read_csv(combined_dir + 'inspections.csv')\n",
    "print(inspections.shape)\n",
    "inspections.columns.tolist()"
   ]
  },
  {
   "cell_type": "code",
   "execution_count": 7,
   "id": "4de0f971",
   "metadata": {},
   "outputs": [
    {
     "data": {
      "text/plain": [
       "(94855, 36)"
      ]
     },
     "execution_count": 7,
     "metadata": {},
     "output_type": "execute_result"
    }
   ],
   "source": [
    "# Joining inspections and citations \n",
    "inspections_citations = inspections.merge(citations, how='left', on='hash_id')\n",
    "inspections_citations = inspections_citations.drop_duplicates(subset=['hash_id'])\n",
    "inspections_citations.shape"
   ]
  },
  {
   "cell_type": "code",
   "execution_count": 8,
   "id": "f973663c",
   "metadata": {},
   "outputs": [],
   "source": [
    "# Overview of all column values\n",
    "#for i in inspections_citations.columns.tolist(): \n",
    "#   print(inspections_citations[i].value_counts())\n",
    "#   print('------------------------')\n",
    "#   print()"
   ]
  },
  {
   "cell_type": "code",
   "execution_count": 9,
   "id": "564f4f12",
   "metadata": {},
   "outputs": [
    {
     "data": {
      "text/plain": [
       "21082"
      ]
     },
     "execution_count": 9,
     "metadata": {},
     "output_type": "execute_result"
    }
   ],
   "source": [
    "inspections_citations['narrative'].notnull().sum()"
   ]
  },
  {
   "cell_type": "code",
   "execution_count": 10,
   "id": "49ae70f7",
   "metadata": {},
   "outputs": [
    {
     "data": {
      "text/plain": [
       "pdf_insp_type\n",
       "ROUTINE INSPECTION       13229\n",
       "ATTEMPTED INSPECTION      6727\n",
       "FOCUSED INSPECTION         668\n",
       "RE-LICENSE INSPECTION      417\n",
       "NEW SITE INSPECTION         41\n",
       "Name: count, dtype: int64"
      ]
     },
     "execution_count": 10,
     "metadata": {},
     "output_type": "execute_result"
    }
   ],
   "source": [
    "inspections_citations[inspections_citations['narrative'].notnull()]['pdf_insp_type'].value_counts()"
   ]
  },
  {
   "cell_type": "code",
   "execution_count": 11,
   "id": "add2e078",
   "metadata": {},
   "outputs": [
    {
     "data": {
      "text/plain": [
       "web_critical\n",
       "0    19711\n",
       "1     1145\n",
       "2      162\n",
       "3       44\n",
       "4       14\n",
       "5        4\n",
       "6        1\n",
       "8        1\n",
       "Name: count, dtype: int64"
      ]
     },
     "execution_count": 11,
     "metadata": {},
     "output_type": "execute_result"
    }
   ],
   "source": [
    "# web_critical = Number of \"critical\" noncompliant items\n",
    "inspections_citations[inspections_citations['narrative'].notnull()]['web_critical'].value_counts()"
   ]
  },
  {
   "cell_type": "code",
   "execution_count": 12,
   "id": "cce3de58",
   "metadata": {},
   "outputs": [
    {
     "data": {
      "text/plain": [
       "web_direct\n",
       "0     19705\n",
       "1      1039\n",
       "2       218\n",
       "3        61\n",
       "4        30\n",
       "5        16\n",
       "7         4\n",
       "6         4\n",
       "8         3\n",
       "9         1\n",
       "14        1\n",
       "Name: count, dtype: int64"
      ]
     },
     "execution_count": 12,
     "metadata": {},
     "output_type": "execute_result"
    }
   ],
   "source": [
    "# web_direct = Number of \"direct\" noncompliant items\n",
    "inspections_citations[inspections_citations['narrative'].notnull()]['web_direct'].value_counts()"
   ]
  },
  {
   "cell_type": "code",
   "execution_count": 13,
   "id": "50079546",
   "metadata": {},
   "outputs": [
    {
     "data": {
      "text/plain": [
       "['At the south farm, a goat was observed to jump up onto the ledge of the concrete foundation and move from pen 4\\nover to pen 5 and then back to pen 4 again. There was a panel up on the ledge in place to prevent this, however\\nthe goat could pass between the vertical supports of the panel. Also, the panel had some free ends of wire that if\\nbent out could become sharp points exposed to any goat that climbs up on the concrete ledge. Lack of proper\\ncontainment and exposure to sharp points could lead to injury or other adverse events. The facility must ensure\\nthat enclosures are structurally sound and maintained in good repair to contain the animals and protect them from\\ninjury.\\nCorrect by October 5, 2016.\\nThis inspection and exit interview were conducted with facility representatives on 9/26 thru 9/27/2016.',\n",
       " 'Two bottles of Heparin (one partially used, one unopened) and one partially used tube of Puralube eye lubrication\\nointment were found in room 140 at ATRC building that were expired (06/2017 and 05/2016 respectively). In the\\nrefrigerator in the Stallion Barn lab area, a syringe containing a white liquid was unlabeled and undated. Liquids in\\nunlabeled syringes are not identifiable and may be incorrectly administrated or improperly used. Expired\\nmedications may have compromised efficacy and potency. Use of unlabeled medication or expired drugs may be\\nharmful or lead to untowards effects or inadequate treatment. The facility needs to ensure that medications are\\nstored and labeled properly and are not being used past their expiration date. Corrected at time of inspection.\\nThis inspection and exit interview were conducted with facility representatives.\\nAdditional Inspectors\\nSecor Thomas, Veterinary Medical Officer',\n",
       " 'One expired bottle of Isoflourane (expiration date 20 Aug 2014) was found on a shelf in the procedure room. The\\nprocedure utilizing this anesthetic agent had been removed from the protocol in May 2017. Expired medications\\nmay have compromised efficacy and potency and use of such does not constitute adequate veterinary care. The\\ninstitution needs to ensure that medications are not being used past their expiration date. Expired bottle was\\ndisposed of at the end of the inspection.\\nThis inspection and exit interview were conducted with facility representative.',\n",
       " 'According to facility observational and/or health records, three adult woodrats escaped their primary enclosures. Facility\\nrepresentatives confirmed the animals escaped by chewing through the plastic. Animals #1325, #1302 and #1201 each\\nescaped from their primary enclosures and into the holding room: #1201 escaped on 11/26/2022 and again on\\n12/02/2022; #1325 escaped on 03/11/2022, 04/24/2023, 06/04/2023 and 07/27/2023; #1302 escaped on 09/11/2022,\\n10/14/2022 and 01/14/2023. Although all animals were recovered following escape, the woodrat health record states that,\\non 09/11/2022, a woodrat (#1302 \"Maddie,\" a desert woodrat) “injured feet during escape.” The inspector witnessed\\neleven woodrat enclosures in active use that were patched by tape and/or plastic at the time of inspection.\\nEnclosures that are damaged and have weak points or holes, and/or rough or sharp edges (including such as are\\nproduced from chewing) could continue to result in animal escapes and injuries. The registrant must ensure that housing\\nis constructed of such material and of such strength as appropriate for the animals involved, and that it is structurally\\nsound and maintained in good repair to protect the animals from injury and contain the animals.\\nTO BE CORRECTED BY 10/27/2023\\nThis inspection and exit interview were conducted with facility representatives.\\nn',\n",
       " \"In August 2015, a cynomolgus macaque placed under anesthesia for a study procedure was observed to have a\\nlow body temperature. In order to normalize the animal's core temperature during the procedure, a staff member\\nwas directed by a veterinarian to use a hot air source; however, the nozzle of this hot air source was inappropriately\\nplaced in a location which subsequently led to thermal injuries and later, euthanasia.\\nIt is the responsibility of the research facility to ensure that all scientists, research technicians, animal technicians,\\nand other personnel involved in animal care, treatment, and use are qualified to perform necessary or directed\\nduties. This responsibility shall be fulfilled in part through the provision of training and appropriate instruction to\\nthose personnel.\\nCorrective measures were taken, including but not limited to, retraining of all involved staff and observation of\\ntechniques by veterinary staff.\\nThis item has been corrected by the facility.\"]"
      ]
     },
     "execution_count": 13,
     "metadata": {},
     "output_type": "execute_result"
    }
   ],
   "source": [
    "inspections_citations[(inspections_citations['narrative'].notnull()) & (inspections_citations['web_direct']== 0)]['narrative'].head(5).tolist()"
   ]
  },
  {
   "cell_type": "markdown",
   "id": "0f6d5df8",
   "metadata": {},
   "source": [
    "## Word Frequencies"
   ]
  },
  {
   "cell_type": "markdown",
   "id": "46a7bbab",
   "metadata": {},
   "source": [
    "Looking at most frequently occuring words in \"narrative\" column. "
   ]
  },
  {
   "cell_type": "code",
   "execution_count": 14,
   "id": "baf769dc",
   "metadata": {},
   "outputs": [],
   "source": [
    "inspections_citations_notnull = inspections_citations[inspections_citations['narrative'].notnull()]"
   ]
  },
  {
   "cell_type": "code",
   "execution_count": 15,
   "id": "021f2725",
   "metadata": {},
   "outputs": [
    {
     "name": "stdout",
     "output_type": "stream",
     "text": [
      "Most Frequent Words:\n",
      ".: 124860\n",
      ",: 75804\n",
      "inspection: 26216\n",
      "animals: 20077\n",
      "facility: 19007\n",
      "licensee: 16390\n",
      "must: 15031\n",
      "*: 14139\n",
      "animal: 13597\n",
      "): 13000\n",
      "(: 12694\n",
      "available: 11959\n",
      "care: 11353\n",
      "veterinarian: 11149\n",
      "adult: 10349\n",
      "aphis: 9443\n",
      "veterinary: 9017\n",
      "conducted: 8474\n",
      "enclosure: 8157\n",
      "officials: 8110\n",
      "responsible: 8087\n",
      "correct: 7931\n",
      "accompany: 7794\n",
      ":: 7784\n",
      "process: 7739\n",
      "exit: 7294\n",
      "ensure: 6680\n",
      "attending: 6433\n",
      "dogs: 6346\n",
      "records: 5987\n",
      "one: 5590\n",
      "health: 5544\n",
      "dog: 5526\n",
      "program: 5466\n",
      "inspector: 5439\n",
      "interview: 5212\n",
      "enclosures: 5206\n",
      "section: 5139\n",
      "time: 5118\n",
      "shall: 4918\n",
      "left: 4873\n",
      "treatment: 4714\n",
      "corrected: 4685\n",
      "may: 4492\n",
      "two: 4045\n",
      "could: 3985\n",
      "'s: 3904\n",
      "representative: 3782\n",
      "area: 3703\n",
      "#: 3696\n"
     ]
    }
   ],
   "source": [
    "# Load NLTK stopwords\n",
    "stop_words = set(stopwords.words(\"english\"))\n",
    "\n",
    "# Combine all text from the 'text_column' into a single string\n",
    "all_text = ' '.join(inspections_citations_notnull['narrative'].apply(lambda x: x.lower()))\n",
    "\n",
    "# Tokenize the combined text\n",
    "tokens = word_tokenize(all_text)\n",
    "\n",
    "# Remove stopwords\n",
    "filtered_tokens = [word for word in tokens if word.lower() not in stop_words]\n",
    "\n",
    "# Count the frequency of each word\n",
    "word_counts = Counter(filtered_tokens)\n",
    "\n",
    "# Get the most common words\n",
    "most_common_words = word_counts.most_common()\n",
    "\n",
    "print(\"Most Frequent Words:\")\n",
    "for word, count in most_common_words[0:50]:\n",
    "    print(f\"{word}: {count}\")"
   ]
  },
  {
   "cell_type": "markdown",
   "id": "d566f815",
   "metadata": {},
   "source": [
    "## TFIDF"
   ]
  },
  {
   "cell_type": "markdown",
   "id": "72a1780d",
   "metadata": {},
   "source": [
    "Looking at most important words in \"narrative\" column based on term frequency–inverse document frequency (a measure of importance of a word to a collection of documents, adjusted for the fact that some words appear more frequently in general).  "
   ]
  },
  {
   "cell_type": "code",
   "execution_count": 16,
   "id": "d939f8a4",
   "metadata": {},
   "outputs": [],
   "source": [
    "# Function to get the most frequent words and their TF-IDF scores\n",
    "def get_top_words_tfidf(text_column, max_features=10):\n",
    "    # Count Vectorizer\n",
    "    count_vectorizer = CountVectorizer(stop_words='english')\n",
    "    count_matrix = count_vectorizer.fit_transform(text_column)\n",
    "\n",
    "    # TF-IDF Vectorizer\n",
    "    tfidf_vectorizer = TfidfVectorizer(stop_words='english')\n",
    "    tfidf_matrix = tfidf_vectorizer.fit_transform(text_column)\n",
    "\n",
    "    # Get feature names\n",
    "    feature_names = count_vectorizer.get_feature_names_out()\n",
    "\n",
    "    # Calculate TF-IDF scores\n",
    "    tfidf_scores = tfidf_matrix.sum(axis=0).A1\n",
    "\n",
    "    # Create a DataFrame with words and their TF-IDF scores\n",
    "    tfidf_df = pd.DataFrame({'Word': feature_names, 'TFIDF Score': tfidf_scores})\n",
    "\n",
    "    # Sort DataFrame by TF-IDF Score in descending order\n",
    "    tfidf_df = tfidf_df.sort_values(by='TFIDF Score', ascending=False)\n",
    "\n",
    "    # Get the top words\n",
    "    top_words = tfidf_df#.head(max_features)\n",
    "\n",
    "    return top_words"
   ]
  },
  {
   "cell_type": "code",
   "execution_count": 17,
   "id": "3836babb",
   "metadata": {},
   "outputs": [],
   "source": [
    "# Get the top words and their TF-IDF scores\n",
    "top_words_tfidf = get_top_words_tfidf(inspections_citations_notnull['narrative'])\n",
    "top_words_tfidf['rank'] = np.arange(1, top_words_tfidf.shape[0]+1, 1)"
   ]
  },
  {
   "cell_type": "code",
   "execution_count": 18,
   "id": "7264139d",
   "metadata": {},
   "outputs": [
    {
     "data": {
      "text/html": [
       "<div>\n",
       "<style scoped>\n",
       "    .dataframe tbody tr th:only-of-type {\n",
       "        vertical-align: middle;\n",
       "    }\n",
       "\n",
       "    .dataframe tbody tr th {\n",
       "        vertical-align: top;\n",
       "    }\n",
       "\n",
       "    .dataframe thead th {\n",
       "        text-align: right;\n",
       "    }\n",
       "</style>\n",
       "<table border=\"1\" class=\"dataframe\">\n",
       "  <thead>\n",
       "    <tr style=\"text-align: right;\">\n",
       "      <th></th>\n",
       "      <th>Word</th>\n",
       "      <th>TFIDF Score</th>\n",
       "      <th>rank</th>\n",
       "    </tr>\n",
       "  </thead>\n",
       "  <tbody>\n",
       "    <tr>\n",
       "      <th>12840</th>\n",
       "      <td>inspection</td>\n",
       "      <td>1147.404349</td>\n",
       "      <td>1</td>\n",
       "    </tr>\n",
       "    <tr>\n",
       "      <th>5663</th>\n",
       "      <td>available</td>\n",
       "      <td>1044.477902</td>\n",
       "      <td>2</td>\n",
       "    </tr>\n",
       "    <tr>\n",
       "      <th>4591</th>\n",
       "      <td>accompany</td>\n",
       "      <td>895.672947</td>\n",
       "      <td>3</td>\n",
       "    </tr>\n",
       "    <tr>\n",
       "      <th>18383</th>\n",
       "      <td>responsible</td>\n",
       "      <td>895.547622</td>\n",
       "      <td>4</td>\n",
       "    </tr>\n",
       "    <tr>\n",
       "      <th>5274</th>\n",
       "      <td>aphis</td>\n",
       "      <td>876.360232</td>\n",
       "      <td>5</td>\n",
       "    </tr>\n",
       "    <tr>\n",
       "      <th>4796</th>\n",
       "      <td>adult</td>\n",
       "      <td>868.827971</td>\n",
       "      <td>6</td>\n",
       "    </tr>\n",
       "    <tr>\n",
       "      <th>17263</th>\n",
       "      <td>process</td>\n",
       "      <td>858.121746</td>\n",
       "      <td>7</td>\n",
       "    </tr>\n",
       "    <tr>\n",
       "      <th>15759</th>\n",
       "      <td>officials</td>\n",
       "      <td>855.936079</td>\n",
       "      <td>8</td>\n",
       "    </tr>\n",
       "    <tr>\n",
       "      <th>10531</th>\n",
       "      <td>facility</td>\n",
       "      <td>772.490103</td>\n",
       "      <td>9</td>\n",
       "    </tr>\n",
       "    <tr>\n",
       "      <th>13951</th>\n",
       "      <td>licensee</td>\n",
       "      <td>755.972519</td>\n",
       "      <td>10</td>\n",
       "    </tr>\n",
       "    <tr>\n",
       "      <th>5172</th>\n",
       "      <td>animals</td>\n",
       "      <td>694.510376</td>\n",
       "      <td>11</td>\n",
       "    </tr>\n",
       "    <tr>\n",
       "      <th>6946</th>\n",
       "      <td>care</td>\n",
       "      <td>551.858169</td>\n",
       "      <td>12</td>\n",
       "    </tr>\n",
       "    <tr>\n",
       "      <th>5168</th>\n",
       "      <td>animal</td>\n",
       "      <td>534.438744</td>\n",
       "      <td>13</td>\n",
       "    </tr>\n",
       "    <tr>\n",
       "      <th>22288</th>\n",
       "      <td>veterinarian</td>\n",
       "      <td>492.907611</td>\n",
       "      <td>14</td>\n",
       "    </tr>\n",
       "    <tr>\n",
       "      <th>17907</th>\n",
       "      <td>records</td>\n",
       "      <td>488.912570</td>\n",
       "      <td>15</td>\n",
       "    </tr>\n",
       "    <tr>\n",
       "      <th>19137</th>\n",
       "      <td>section</td>\n",
       "      <td>464.593264</td>\n",
       "      <td>16</td>\n",
       "    </tr>\n",
       "    <tr>\n",
       "      <th>22291</th>\n",
       "      <td>veterinary</td>\n",
       "      <td>464.400409</td>\n",
       "      <td>17</td>\n",
       "    </tr>\n",
       "    <tr>\n",
       "      <th>12842</th>\n",
       "      <td>inspector</td>\n",
       "      <td>462.300627</td>\n",
       "      <td>18</td>\n",
       "    </tr>\n",
       "    <tr>\n",
       "      <th>16855</th>\n",
       "      <td>pm</td>\n",
       "      <td>420.185716</td>\n",
       "      <td>19</td>\n",
       "    </tr>\n",
       "    <tr>\n",
       "      <th>9976</th>\n",
       "      <td>enclosure</td>\n",
       "      <td>402.847940</td>\n",
       "      <td>20</td>\n",
       "    </tr>\n",
       "  </tbody>\n",
       "</table>\n",
       "</div>"
      ],
      "text/plain": [
       "               Word  TFIDF Score  rank\n",
       "12840    inspection  1147.404349     1\n",
       "5663      available  1044.477902     2\n",
       "4591      accompany   895.672947     3\n",
       "18383   responsible   895.547622     4\n",
       "5274          aphis   876.360232     5\n",
       "4796          adult   868.827971     6\n",
       "17263       process   858.121746     7\n",
       "15759     officials   855.936079     8\n",
       "10531      facility   772.490103     9\n",
       "13951      licensee   755.972519    10\n",
       "5172        animals   694.510376    11\n",
       "6946           care   551.858169    12\n",
       "5168         animal   534.438744    13\n",
       "22288  veterinarian   492.907611    14\n",
       "17907       records   488.912570    15\n",
       "19137       section   464.593264    16\n",
       "22291    veterinary   464.400409    17\n",
       "12842     inspector   462.300627    18\n",
       "16855            pm   420.185716    19\n",
       "9976      enclosure   402.847940    20"
      ]
     },
     "execution_count": 18,
     "metadata": {},
     "output_type": "execute_result"
    }
   ],
   "source": [
    "top_words_tfidf.head(20)"
   ]
  },
  {
   "cell_type": "code",
   "execution_count": 19,
   "id": "952075f5",
   "metadata": {},
   "outputs": [
    {
     "name": "stderr",
     "output_type": "stream",
     "text": [
      "/var/folders/7b/llw41rn55vn8yn15rg03bjxh0000gn/T/ipykernel_16232/3917990956.py:10: SettingWithCopyWarning: \n",
      "A value is trying to be set on a copy of a slice from a DataFrame.\n",
      "Try using .loc[row_indexer,col_indexer] = value instead\n",
      "\n",
      "See the caveats in the documentation: https://pandas.pydata.org/pandas-docs/stable/user_guide/indexing.html#returning-a-view-versus-a-copy\n",
      "  inspections_citations_notnull['stemmed_narrative'] = inspections_citations_notnull['narrative'].apply(stem_text)\n"
     ]
    }
   ],
   "source": [
    "porter_stemmer = PorterStemmer()\n",
    "\n",
    "def stem_text(text):\n",
    "    # Tokenize the text and apply stemming to each token\n",
    "    tokens = word_tokenize(text)\n",
    "    stemmed_tokens = [porter_stemmer.stem(token) for token in tokens]\n",
    "    return ' '.join(stemmed_tokens)\n",
    "\n",
    "# Apply stemming to the text column\n",
    "inspections_citations_notnull['stemmed_narrative'] = inspections_citations_notnull['narrative'].apply(stem_text)"
   ]
  },
  {
   "cell_type": "code",
   "execution_count": 20,
   "id": "313c48a4",
   "metadata": {},
   "outputs": [],
   "source": [
    "# Get the top words of stemmed_narrative and their TF-IDF scores\n",
    "top_stemmed_words_tfidf = get_top_words_tfidf(inspections_citations_notnull['stemmed_narrative'])"
   ]
  },
  {
   "cell_type": "code",
   "execution_count": 21,
   "id": "fccf21e6",
   "metadata": {},
   "outputs": [
    {
     "data": {
      "text/html": [
       "<div>\n",
       "<style scoped>\n",
       "    .dataframe tbody tr th:only-of-type {\n",
       "        vertical-align: middle;\n",
       "    }\n",
       "\n",
       "    .dataframe tbody tr th {\n",
       "        vertical-align: top;\n",
       "    }\n",
       "\n",
       "    .dataframe thead th {\n",
       "        text-align: right;\n",
       "    }\n",
       "</style>\n",
       "<table border=\"1\" class=\"dataframe\">\n",
       "  <thead>\n",
       "    <tr style=\"text-align: right;\">\n",
       "      <th></th>\n",
       "      <th>Word</th>\n",
       "      <th>TFIDF Score</th>\n",
       "      <th>rank</th>\n",
       "    </tr>\n",
       "  </thead>\n",
       "  <tbody>\n",
       "    <tr>\n",
       "      <th>17309</th>\n",
       "      <td>wa</td>\n",
       "      <td>1265.387446</td>\n",
       "      <td>1</td>\n",
       "    </tr>\n",
       "    <tr>\n",
       "      <th>10339</th>\n",
       "      <td>inspect</td>\n",
       "      <td>1205.964332</td>\n",
       "      <td>2</td>\n",
       "    </tr>\n",
       "    <tr>\n",
       "      <th>5266</th>\n",
       "      <td>avail</td>\n",
       "      <td>1081.845890</td>\n",
       "      <td>3</td>\n",
       "    </tr>\n",
       "    <tr>\n",
       "      <th>4933</th>\n",
       "      <td>anim</td>\n",
       "      <td>1036.498730</td>\n",
       "      <td>4</td>\n",
       "    </tr>\n",
       "    <tr>\n",
       "      <th>14372</th>\n",
       "      <td>respons</td>\n",
       "      <td>929.089841</td>\n",
       "      <td>5</td>\n",
       "    </tr>\n",
       "    <tr>\n",
       "      <th>4541</th>\n",
       "      <td>accompani</td>\n",
       "      <td>905.256049</td>\n",
       "      <td>6</td>\n",
       "    </tr>\n",
       "    <tr>\n",
       "      <th>12612</th>\n",
       "      <td>offici</td>\n",
       "      <td>890.346428</td>\n",
       "      <td>7</td>\n",
       "    </tr>\n",
       "    <tr>\n",
       "      <th>5024</th>\n",
       "      <td>aphi</td>\n",
       "      <td>889.324585</td>\n",
       "      <td>8</td>\n",
       "    </tr>\n",
       "    <tr>\n",
       "      <th>4665</th>\n",
       "      <td>adult</td>\n",
       "      <td>884.764852</td>\n",
       "      <td>9</td>\n",
       "    </tr>\n",
       "    <tr>\n",
       "      <th>8090</th>\n",
       "      <td>dure</td>\n",
       "      <td>880.048794</td>\n",
       "      <td>10</td>\n",
       "    </tr>\n",
       "    <tr>\n",
       "      <th>13690</th>\n",
       "      <td>process</td>\n",
       "      <td>869.301532</td>\n",
       "      <td>11</td>\n",
       "    </tr>\n",
       "    <tr>\n",
       "      <th>8630</th>\n",
       "      <td>facil</td>\n",
       "      <td>844.671058</td>\n",
       "      <td>12</td>\n",
       "    </tr>\n",
       "    <tr>\n",
       "      <th>11175</th>\n",
       "      <td>license</td>\n",
       "      <td>793.205261</td>\n",
       "      <td>13</td>\n",
       "    </tr>\n",
       "    <tr>\n",
       "      <th>16261</th>\n",
       "      <td>thi</td>\n",
       "      <td>659.546826</td>\n",
       "      <td>14</td>\n",
       "    </tr>\n",
       "    <tr>\n",
       "      <th>8295</th>\n",
       "      <td>enclosur</td>\n",
       "      <td>631.991324</td>\n",
       "      <td>15</td>\n",
       "    </tr>\n",
       "    <tr>\n",
       "      <th>10343</th>\n",
       "      <td>inspector</td>\n",
       "      <td>612.369728</td>\n",
       "      <td>16</td>\n",
       "    </tr>\n",
       "    <tr>\n",
       "      <th>6254</th>\n",
       "      <td>care</td>\n",
       "      <td>576.534604</td>\n",
       "      <td>17</td>\n",
       "    </tr>\n",
       "    <tr>\n",
       "      <th>14119</th>\n",
       "      <td>record</td>\n",
       "      <td>561.532155</td>\n",
       "      <td>18</td>\n",
       "    </tr>\n",
       "    <tr>\n",
       "      <th>7911</th>\n",
       "      <td>dog</td>\n",
       "      <td>557.431112</td>\n",
       "      <td>19</td>\n",
       "    </tr>\n",
       "    <tr>\n",
       "      <th>17182</th>\n",
       "      <td>veterinarian</td>\n",
       "      <td>517.648332</td>\n",
       "      <td>20</td>\n",
       "    </tr>\n",
       "  </tbody>\n",
       "</table>\n",
       "</div>"
      ],
      "text/plain": [
       "               Word  TFIDF Score  rank\n",
       "17309            wa  1265.387446     1\n",
       "10339       inspect  1205.964332     2\n",
       "5266          avail  1081.845890     3\n",
       "4933           anim  1036.498730     4\n",
       "14372       respons   929.089841     5\n",
       "4541      accompani   905.256049     6\n",
       "12612        offici   890.346428     7\n",
       "5024           aphi   889.324585     8\n",
       "4665          adult   884.764852     9\n",
       "8090           dure   880.048794    10\n",
       "13690       process   869.301532    11\n",
       "8630          facil   844.671058    12\n",
       "11175       license   793.205261    13\n",
       "16261           thi   659.546826    14\n",
       "8295       enclosur   631.991324    15\n",
       "10343     inspector   612.369728    16\n",
       "6254           care   576.534604    17\n",
       "14119        record   561.532155    18\n",
       "7911            dog   557.431112    19\n",
       "17182  veterinarian   517.648332    20"
      ]
     },
     "execution_count": 21,
     "metadata": {},
     "output_type": "execute_result"
    }
   ],
   "source": [
    "top_stemmed_words_tfidf['rank'] = np.arange(1, top_stemmed_words_tfidf.shape[0]+1, 1)\n",
    "top_stemmed_words_tfidf.head(20)"
   ]
  },
  {
   "cell_type": "code",
   "execution_count": 22,
   "id": "246a4375",
   "metadata": {},
   "outputs": [
    {
     "data": {
      "text/html": [
       "<div>\n",
       "<style scoped>\n",
       "    .dataframe tbody tr th:only-of-type {\n",
       "        vertical-align: middle;\n",
       "    }\n",
       "\n",
       "    .dataframe tbody tr th {\n",
       "        vertical-align: top;\n",
       "    }\n",
       "\n",
       "    .dataframe thead th {\n",
       "        text-align: right;\n",
       "    }\n",
       "</style>\n",
       "<table border=\"1\" class=\"dataframe\">\n",
       "  <thead>\n",
       "    <tr style=\"text-align: right;\">\n",
       "      <th></th>\n",
       "      <th>Word</th>\n",
       "      <th>TFIDF Score</th>\n",
       "      <th>rank</th>\n",
       "    </tr>\n",
       "  </thead>\n",
       "  <tbody>\n",
       "    <tr>\n",
       "      <th>11969</th>\n",
       "      <td>heat</td>\n",
       "      <td>24.734898</td>\n",
       "      <td>938</td>\n",
       "    </tr>\n",
       "  </tbody>\n",
       "</table>\n",
       "</div>"
      ],
      "text/plain": [
       "       Word  TFIDF Score  rank\n",
       "11969  heat    24.734898   938"
      ]
     },
     "execution_count": 22,
     "metadata": {},
     "output_type": "execute_result"
    }
   ],
   "source": [
    "top_words_tfidf[top_words_tfidf['Word'] == 'heat']"
   ]
  },
  {
   "cell_type": "code",
   "execution_count": 23,
   "id": "34fbc037",
   "metadata": {},
   "outputs": [
    {
     "data": {
      "text/html": [
       "<div>\n",
       "<style scoped>\n",
       "    .dataframe tbody tr th:only-of-type {\n",
       "        vertical-align: middle;\n",
       "    }\n",
       "\n",
       "    .dataframe tbody tr th {\n",
       "        vertical-align: top;\n",
       "    }\n",
       "\n",
       "    .dataframe thead th {\n",
       "        text-align: right;\n",
       "    }\n",
       "</style>\n",
       "<table border=\"1\" class=\"dataframe\">\n",
       "  <thead>\n",
       "    <tr style=\"text-align: right;\">\n",
       "      <th></th>\n",
       "      <th>Word</th>\n",
       "      <th>TFIDF Score</th>\n",
       "      <th>rank</th>\n",
       "    </tr>\n",
       "  </thead>\n",
       "  <tbody>\n",
       "    <tr>\n",
       "      <th>20956</th>\n",
       "      <td>temperature</td>\n",
       "      <td>56.243076</td>\n",
       "      <td>451</td>\n",
       "    </tr>\n",
       "  </tbody>\n",
       "</table>\n",
       "</div>"
      ],
      "text/plain": [
       "              Word  TFIDF Score  rank\n",
       "20956  temperature    56.243076   451"
      ]
     },
     "execution_count": 23,
     "metadata": {},
     "output_type": "execute_result"
    }
   ],
   "source": [
    "top_words_tfidf[top_words_tfidf['Word'] == 'temperature']"
   ]
  },
  {
   "cell_type": "code",
   "execution_count": 24,
   "id": "ecc10cb1",
   "metadata": {},
   "outputs": [
    {
     "data": {
      "text/html": [
       "<div>\n",
       "<style scoped>\n",
       "    .dataframe tbody tr th:only-of-type {\n",
       "        vertical-align: middle;\n",
       "    }\n",
       "\n",
       "    .dataframe tbody tr th {\n",
       "        vertical-align: top;\n",
       "    }\n",
       "\n",
       "    .dataframe thead th {\n",
       "        text-align: right;\n",
       "    }\n",
       "</style>\n",
       "<table border=\"1\" class=\"dataframe\">\n",
       "  <thead>\n",
       "    <tr style=\"text-align: right;\">\n",
       "      <th></th>\n",
       "      <th>Word</th>\n",
       "      <th>TFIDF Score</th>\n",
       "      <th>rank</th>\n",
       "    </tr>\n",
       "  </thead>\n",
       "  <tbody>\n",
       "    <tr>\n",
       "      <th>9734</th>\n",
       "      <td>heat</td>\n",
       "      <td>32.202651</td>\n",
       "      <td>714</td>\n",
       "    </tr>\n",
       "  </tbody>\n",
       "</table>\n",
       "</div>"
      ],
      "text/plain": [
       "      Word  TFIDF Score  rank\n",
       "9734  heat    32.202651   714"
      ]
     },
     "execution_count": 24,
     "metadata": {},
     "output_type": "execute_result"
    }
   ],
   "source": [
    "top_stemmed_words_tfidf[top_stemmed_words_tfidf['Word'] == 'heat']"
   ]
  },
  {
   "cell_type": "code",
   "execution_count": 25,
   "id": "6484b5bc",
   "metadata": {},
   "outputs": [
    {
     "data": {
      "text/html": [
       "<div>\n",
       "<style scoped>\n",
       "    .dataframe tbody tr th:only-of-type {\n",
       "        vertical-align: middle;\n",
       "    }\n",
       "\n",
       "    .dataframe tbody tr th {\n",
       "        vertical-align: top;\n",
       "    }\n",
       "\n",
       "    .dataframe thead th {\n",
       "        text-align: right;\n",
       "    }\n",
       "</style>\n",
       "<table border=\"1\" class=\"dataframe\">\n",
       "  <thead>\n",
       "    <tr style=\"text-align: right;\">\n",
       "      <th></th>\n",
       "      <th>Word</th>\n",
       "      <th>TFIDF Score</th>\n",
       "      <th>rank</th>\n",
       "    </tr>\n",
       "  </thead>\n",
       "  <tbody>\n",
       "    <tr>\n",
       "      <th>16180</th>\n",
       "      <td>temperature</td>\n",
       "      <td>0.351695</td>\n",
       "      <td>8551</td>\n",
       "    </tr>\n",
       "  </tbody>\n",
       "</table>\n",
       "</div>"
      ],
      "text/plain": [
       "              Word  TFIDF Score  rank\n",
       "16180  temperature     0.351695  8551"
      ]
     },
     "execution_count": 25,
     "metadata": {},
     "output_type": "execute_result"
    }
   ],
   "source": [
    "top_stemmed_words_tfidf[top_stemmed_words_tfidf['Word'] == 'temperature']"
   ]
  },
  {
   "cell_type": "markdown",
   "id": "bb26c8f9",
   "metadata": {},
   "source": [
    "## Topic Modeling"
   ]
  },
  {
   "cell_type": "markdown",
   "id": "df8c44d1",
   "metadata": {},
   "source": [
    "Using topic modeling as an EDA tool. By clustering narratives by topic, we can see if any obvious/useful categories emerge. Listed below are new themes that emerged with increased clusters. \n",
    "\n",
    "### Narrative Themes\n",
    "\n",
    "##### 10 Clusters\n",
    "- Expired medications\n",
    "- Visible wounds/hair loss/sickness\n",
    "- Mention of \"A responsible adult was not available to accompany APHIS officials during inspection\"\n",
    "    - Can be filtered out with pdf_insp_type == 'ATTEMPTED INSPECTION'\n",
    "- Mention of \"IACUC\" (Institutional Animal Care and Use Committee)\n",
    "- Flaws in animal enclosures/physical environment\n",
    "- A written program of veterinary care is absent/outdated/incomplete\n",
    "- Importation/transportation of animals (especially by plane)\n",
    "\n",
    "##### 15 Clusters\n",
    "- Accumulation of filth; need for sanitation/disinfectant\n",
    "- Unauthorized sale/exhibition of animals\n",
    "\n",
    "##### 20 Clusters\n",
    "- Failures in storage (e.g. bedding, food)\n",
    "- Incomplete inventory/records of animals"
   ]
  },
  {
   "cell_type": "code",
   "execution_count": 26,
   "id": "51d839bb",
   "metadata": {},
   "outputs": [],
   "source": [
    "def plot_kcluster_elbow(word_list):\n",
    "    # Create the TF-IDF vectorizer\n",
    "    vectorizer = TfidfVectorizer()\n",
    "    X = vectorizer.fit_transform(word_list)\n",
    "\n",
    "    # Experiment with a range of clusters\n",
    "    max_clusters = 10\n",
    "    distortions = []\n",
    "\n",
    "    for i in range(1, max_clusters + 1):\n",
    "        kmeans = KMeans(n_clusters=i, random_state=42)\n",
    "        kmeans.fit(X)\n",
    "        distortions.append(kmeans.inertia_)\n",
    "\n",
    "    # Plot the Elbow curve\n",
    "    plt.plot(range(1, max_clusters + 1), distortions, marker='o')\n",
    "    plt.title('Elbow Method for Optimal k')\n",
    "    plt.xlabel('Number of Clusters')\n",
    "    plt.ylabel('Distortion')\n",
    "    plt.show()\n",
    "\n",
    "def show_kclusters(word_list, optimal_clusters):\n",
    "    # Create the TF-IDF vectorizer\n",
    "    vectorizer = TfidfVectorizer()\n",
    "    X = vectorizer.fit_transform(word_list)\n",
    "\n",
    "    kmeans = KMeans(n_clusters=optimal_clusters, random_state=42)\n",
    "    kmeans.fit(X)\n",
    "\n",
    "    word_list_clusters = list(zip(word_list, kmeans.labels_))\n",
    "\n",
    "    for cluster_id in range(optimal_clusters):\n",
    "        cluster_words = [word for word, label in word_list_clusters if label == cluster_id]\n",
    "        print(f\"Cluster {cluster_id + 1}: {cluster_words}\")\n",
    "        print()\n",
    "\n",
    "def topic_modeling(df, text_column, num_topics):\n",
    "    # Create a pipeline for topic modeling\n",
    "    pipeline = Pipeline([\n",
    "        ('tfidf', TfidfVectorizer()),\n",
    "        ('lda', LatentDirichletAllocation(n_components=num_topics, random_state=42))\n",
    "    ])\n",
    "\n",
    "    # Fit the pipeline on the text column\n",
    "    df['topic_cluster'] = pipeline.fit_transform(df[text_column]).argmax(axis=1)\n",
    "\n",
    "    return df"
   ]
  },
  {
   "cell_type": "code",
   "execution_count": 27,
   "id": "dd83c786",
   "metadata": {},
   "outputs": [
    {
     "name": "stderr",
     "output_type": "stream",
     "text": [
      "/Users/kchua/anaconda3/lib/python3.11/site-packages/sklearn/cluster/_kmeans.py:1412: FutureWarning: The default value of `n_init` will change from 10 to 'auto' in 1.4. Set the value of `n_init` explicitly to suppress the warning\n",
      "  super()._check_params_vs_input(X, default_n_init=10)\n",
      "/Users/kchua/anaconda3/lib/python3.11/site-packages/sklearn/cluster/_kmeans.py:1412: FutureWarning: The default value of `n_init` will change from 10 to 'auto' in 1.4. Set the value of `n_init` explicitly to suppress the warning\n",
      "  super()._check_params_vs_input(X, default_n_init=10)\n"
     ]
    },
    {
     "data": {
      "image/png": "[encoded data removed]",
      "text/plain": [
       "<Figure size 640x480 with 1 Axes>"
      ]
     },
     "metadata": {},
     "output_type": "display_data"
    }
   ],
   "source": [
    "unique_vals = inspections_citations_notnull['narrative'].unique()\n",
    "plot_kcluster_elbow(unique_vals)"
   ]
  },
  {
   "cell_type": "code",
   "execution_count": null,
   "id": "17cea172",
   "metadata": {},
   "outputs": [],
   "source": [
    "# Using topic modeling as EDA tool\n",
    "df = topic_modeling(inspections_citations_notnull, text_column='narrative', num_topics=10)\n",
    "\n",
    "for cluster_id in df['topic_cluster'].unique():\n",
    "    cluster_rows = df[df['topic_cluster'] == cluster_id]\n",
    "    print(f\"Cluster {cluster_id}:\")\n",
    "    print(cluster_rows['narrative'])\n",
    "    print()"
   ]
  },
  {
   "cell_type": "code",
   "execution_count": null,
   "id": "c9d16df0",
   "metadata": {},
   "outputs": [],
   "source": [
    "df['topic_cluster'].value_counts()"
   ]
  },
  {
   "cell_type": "code",
   "execution_count": null,
   "id": "59519c46",
   "metadata": {},
   "outputs": [],
   "source": [
    "df[df['topic_cluster'] == 3]['narrative'].tolist()"
   ]
  },
  {
   "cell_type": "code",
   "execution_count": null,
   "id": "688a3c58",
   "metadata": {},
   "outputs": [],
   "source": [
    "# Repeating with higher maximum clusters to extract additional obvious groups\n",
    "df = topic_modeling(inspections_citations_notnull, text_column='narrative', num_topics=15)\n",
    "\n",
    "# Print clusters\n",
    "for cluster_id in df['topic_cluster'].unique():\n",
    "    cluster_rows = df[df['topic_cluster'] == cluster_id]\n",
    "    print(f\"Cluster {cluster_id}:\")\n",
    "    print(cluster_rows['narrative'])\n",
    "    print()"
   ]
  },
  {
   "cell_type": "code",
   "execution_count": null,
   "id": "e5a5eba7",
   "metadata": {},
   "outputs": [],
   "source": [
    "df['topic_cluster'].value_counts()"
   ]
  },
  {
   "cell_type": "code",
   "execution_count": null,
   "id": "b4300fa8",
   "metadata": {
    "scrolled": true
   },
   "outputs": [],
   "source": [
    "df[df['topic_cluster'] == 5]['narrative'].tolist()"
   ]
  },
  {
   "cell_type": "code",
   "execution_count": null,
   "id": "c8f7e611",
   "metadata": {},
   "outputs": [],
   "source": [
    "# Repeating with higher maximum clusters to extract additional obvious groups\n",
    "df = topic_modeling(inspections_citations_notnull, text_column='narrative', num_topics=20)\n",
    "\n",
    "# Print clusters\n",
    "#for cluster_id in df['topic_cluster'].unique():\n",
    "#    cluster_rows = df[df['topic_cluster'] == cluster_id]\n",
    "#    print(f\"Cluster {cluster_id}:\")\n",
    "#    print(cluster_rows['narrative'])\n",
    "#    print()"
   ]
  },
  {
   "cell_type": "code",
   "execution_count": null,
   "id": "f807e8ba",
   "metadata": {
    "scrolled": true
   },
   "outputs": [],
   "source": [
    "#df['topic_cluster'].value_counts()"
   ]
  },
  {
   "cell_type": "code",
   "execution_count": null,
   "id": "a399b866",
   "metadata": {},
   "outputs": [],
   "source": [
    "#df[df['topic_cluster'] == 13]['narrative'].tolist()"
   ]
  },
  {
   "cell_type": "markdown",
   "id": "3affbdb9",
   "metadata": {},
   "source": [
    "## Heat/Temperature"
   ]
  },
  {
   "cell_type": "markdown",
   "id": "c7a358be",
   "metadata": {},
   "source": [
    "Exploratory data analysis for specifically heat/temperature. \n",
    "\n",
    "### Notes \n",
    "\n",
    "- At 419 narratives, the heat/temperature flag has just 2% coverage of total narratives\n",
    "    - TFIDF values for heat and temperature are also low, not in top ~300 terms <br><br>\n",
    "\n",
    "- Mention of “heat” does not always mean the inspection revealed the animal was subject to overheating/excessive cooling.\n",
    "    - Why? “Overheating” or \"heat\" is often a sub-item in a standardized list of ways an animal should not be treated. The sentiment roughly reads (the exact phrasing changes; possibly a sentence included in some guiding inspection document): “all handling of animals should be done as carefully as possible in a manner that does not cause **overheating**, physical harm, or unnecessary discomfort.”\n",
    "        - 144 narratives contain the substring “carefully as possible in a manner that does not cause” (likely an undercount of the sub-item phenomenon)\n",
    "    - Additionally, heat/temperature can also be used to describe an outcome to prevent, for example: \"... repair the electrical outlet and then determine the capability of the unit to insure in can store food at the proper **temperature** and humidity.\"<br><br>\n",
    "\n",
    "- Filtering narratives according to mention of heat/temperature still results in diverse inspection findings/recommendations\n",
    "     - Animals suffered from overheating \n",
    "         - E.g. \"The initial corrective action was insufficient to maintain the appropriate temperature\\nfor hamsters, leading to an ambient temperature of >85 degrees for more than 12 hour\" \n",
    "        - \"On May 2, 2022, four Damaraland mole rats were found dead in their enclosures. According to facility personnel, an\\nelectric space heater that was being used to provide supplemental heat for the animals was somehow placed under the\\nmetal rack holding the enclosures resulting in the animals overheating.\"\n",
    "    - Improper sanitization procedures\n",
    "        - \"The facility could not verify that the Guinea Pig primary enclosures are being adequately sanitized. The facility currently\\nuses temperature-tapes to verify that the correct temperature (180 degrees Fahrenheit) is reached by the automated\\nwashing systems. There have been numerous failures of this system to reach the required temperatures and numerous\\nadditional weeks where the staff has failed to follow their internal procedures to test the temperatures in order to verify\\nthat the washing system is functioning properly.\\nTemperature tape readings record whether the cage wash reaches the required 180 degrees.\"\n",
    "    \n",
    "### Questions\n",
    "- What is the purpose behind identifying narratives involving heat/temperature?\n",
    "    - A frequently occuring inspection theme is flaws in animals' enclosures. Inadequate enclosures can lead to animal overheating/underheating. Should the flag focus on the outcome (overheating/underheating) or the initial failure in enclosure maintenance/construction?\n",
    "- What are more useful flags for assisting future analysis of this dataset? \n",
    "- Should flags aim for broadness/coverage? Or should flags identify very specific/rare phenomenons?"
   ]
  },
  {
   "cell_type": "code",
   "execution_count": null,
   "id": "dffd0f28",
   "metadata": {},
   "outputs": [],
   "source": [
    "df['narrative'].notnull().sum()"
   ]
  },
  {
   "cell_type": "code",
   "execution_count": null,
   "id": "31775d6f",
   "metadata": {},
   "outputs": [],
   "source": [
    "print(len(df[df['narrative'].str.contains('heat | temperature')]['narrative'].tolist()))"
   ]
  },
  {
   "cell_type": "code",
   "execution_count": null,
   "id": "6d73df25",
   "metadata": {},
   "outputs": [],
   "source": [
    "419/20842 * 100"
   ]
  },
  {
   "cell_type": "code",
   "execution_count": null,
   "id": "983b7708",
   "metadata": {},
   "outputs": [],
   "source": [
    "df[df['narrative'].str.contains('heat | temperature')]['narrative'].tolist()[0:10]"
   ]
  },
  {
   "cell_type": "code",
   "execution_count": null,
   "id": "4f5e4a62",
   "metadata": {},
   "outputs": [],
   "source": [
    "#df['narrative_no_nums'] = df['narrative'].str.replace(r'\\d+', '', regex=True)\n",
    "#df[df['narrative_no_nums'].str.contains('2')]['narrative_no_nums']\n",
    "\n",
    "# Tokenize the text in the 'text' column\n",
    "df['tokenized_text'] = df['narrative'].apply(lambda x: word_tokenize(x.lower()))\n",
    "\n",
    "# Train Word2Vec model\n",
    "model = Word2Vec(sentences=df['tokenized_text'].tolist(), vector_size=100, window=5, min_count=1, workers=4)"
   ]
  },
  {
   "cell_type": "code",
   "execution_count": null,
   "id": "815c76c7",
   "metadata": {},
   "outputs": [],
   "source": [
    "# Find words related to \"heat\" or \"temperature\" or \"hot\"\n",
    "similar_heat = model.wv.most_similar('heat', topn=50)\n",
    "similar_temperature = model.wv.most_similar('temperature', topn=50)\n",
    "similar_hot = model.wv.most_similar('hot', topn=50)"
   ]
  },
  {
   "cell_type": "code",
   "execution_count": null,
   "id": "c10c7551",
   "metadata": {},
   "outputs": [],
   "source": [
    "print(\"Words related to 'hot':\", [word for word, score in similar_hot])"
   ]
  },
  {
   "cell_type": "code",
   "execution_count": null,
   "id": "a9f920d0",
   "metadata": {},
   "outputs": [],
   "source": [
    "print(\"Words related to 'heat':\", [word for word, score in similar_heat])"
   ]
  },
  {
   "cell_type": "code",
   "execution_count": null,
   "id": "2019aa19",
   "metadata": {},
   "outputs": [],
   "source": [
    "print(\"Words related to 'temperature':\", [word for word, score in similar_temperature])"
   ]
  },
  {
   "cell_type": "markdown",
   "id": "896dcaf5",
   "metadata": {},
   "source": [
    "### Heat/Temperature Topic Modeling"
   ]
  },
  {
   "cell_type": "code",
   "execution_count": null,
   "id": "d6eb4189",
   "metadata": {},
   "outputs": [],
   "source": [
    "# Topic modeling for just narratives containing heat, temperature\n",
    "\n",
    "# Placeholder temperature/heat keywords\n",
    "temp_keywords = ['heat', 'temperature', 'humid', 'cold', 'weather', 'wind', 'rain', 'inclement', 'extremes', 'hypothermia', \n",
    "                'cooling', 'freezing', 'ambient', 'chill', 'fahrenheit', 'degrees', 'weather', 'inclement']"
   ]
  },
  {
   "cell_type": "code",
   "execution_count": null,
   "id": "45481756",
   "metadata": {},
   "outputs": [],
   "source": [
    "# Create flag column\n",
    "inspections_citations_notnull['heat_temp_flag'] = citations['narrative'].apply(lambda x: any(word in x.lower() for word in temp_keywords))"
   ]
  },
  {
   "cell_type": "code",
   "execution_count": null,
   "id": "8a5962be",
   "metadata": {},
   "outputs": [],
   "source": [
    "inspections_citations_notnull['heat_temp_flag'].value_counts(normalize=True)"
   ]
  },
  {
   "cell_type": "code",
   "execution_count": null,
   "id": "161df04b",
   "metadata": {},
   "outputs": [],
   "source": [
    "heat_temp_narratives = inspections_citations_notnull[inspections_citations_notnull['heat_temp_flag'] == True]"
   ]
  },
  {
   "cell_type": "code",
   "execution_count": null,
   "id": "a701cee5",
   "metadata": {},
   "outputs": [],
   "source": [
    "# Using topic modeling as EDA tool\n",
    "df = topic_modeling(heat_temp_narratives, text_column='narrative', num_topics=10)\n",
    "\n",
    "#for cluster_id in df['topic_cluster'].unique():\n",
    "#    cluster_rows = df[df['topic_cluster'] == cluster_id]\n",
    "#    print(f\"Cluster {cluster_id}:\")\n",
    "#    print(cluster_rows['narrative'])\n",
    "#    print()"
   ]
  },
  {
   "cell_type": "code",
   "execution_count": null,
   "id": "cb4e086c",
   "metadata": {},
   "outputs": [],
   "source": [
    "df['topic_cluster'].value_counts()"
   ]
  },
  {
   "cell_type": "code",
   "execution_count": null,
   "id": "5cce4070",
   "metadata": {},
   "outputs": [],
   "source": [
    "df[df['topic_cluster'] == 5]['narrative'].tolist()"
   ]
  },
  {
   "cell_type": "markdown",
   "id": "81eaf2f9",
   "metadata": {},
   "source": [
    "### Filtering for Critical and Direct Citations"
   ]
  },
  {
   "cell_type": "code",
   "execution_count": null,
   "id": "87bfeabf",
   "metadata": {},
   "outputs": [],
   "source": [
    "df['kind'].value_counts(dropna=False)"
   ]
  },
  {
   "cell_type": "code",
   "execution_count": null,
   "id": "9a561355",
   "metadata": {},
   "outputs": [],
   "source": [
    "# Web critical: 111 total\n",
    "df['web_critical'].value_counts(dropna=False)"
   ]
  },
  {
   "cell_type": "code",
   "execution_count": null,
   "id": "300d6ab0",
   "metadata": {},
   "outputs": [],
   "source": [
    "# Web direct: 61 total\n",
    "df['web_direct'].value_counts(dropna=False)"
   ]
  },
  {
   "cell_type": "code",
   "execution_count": null,
   "id": "1bea7eb4",
   "metadata": {},
   "outputs": [],
   "source": [
    "df['pdf_insp_type'].value_counts(dropna=False)"
   ]
  },
  {
   "cell_type": "code",
   "execution_count": null,
   "id": "7c65298b",
   "metadata": {},
   "outputs": [],
   "source": [
    "df[df['topic_cluster'] == 9]['pdf_insp_type'].value_counts(dropna=False)"
   ]
  },
  {
   "cell_type": "code",
   "execution_count": null,
   "id": "4611f225",
   "metadata": {},
   "outputs": [],
   "source": [
    "df[df['web_critical'] != 0]['narrative'].tolist()"
   ]
  },
  {
   "cell_type": "code",
   "execution_count": null,
   "id": "93526c63",
   "metadata": {},
   "outputs": [],
   "source": [
    "critical_direct_narratives = inspections_citations_notnull[(inspections_citations_notnull['kind'].isin(['Critical', 'Direct']) |\n",
    "                                                            (inspections_citations_notnull['web_direct'] != 0) |\n",
    "                                                            (inspections_citations_notnull['web_critical'] != 0))]"
   ]
  },
  {
   "cell_type": "code",
   "execution_count": null,
   "id": "c032e588",
   "metadata": {},
   "outputs": [],
   "source": [
    "critical_direct_narratives['kind'].value_counts()"
   ]
  },
  {
   "cell_type": "code",
   "execution_count": null,
   "id": "9f247b80",
   "metadata": {},
   "outputs": [],
   "source": [
    "critical_direct_narratives['web_critical'].value_counts()"
   ]
  },
  {
   "cell_type": "code",
   "execution_count": null,
   "id": "fb51215b",
   "metadata": {},
   "outputs": [],
   "source": [
    "# Using topic modeling as EDA tool\n",
    "df = topic_modeling(critical_direct_narratives, text_column='narrative', num_topics=10)\n",
    "\n",
    "#for cluster_id in df['topic_cluster'].unique():\n",
    "#    cluster_rows = df[df['topic_cluster'] == cluster_id]\n",
    "#    print(f\"Cluster {cluster_id}:\")\n",
    "#    print(cluster_rows['narrative'])\n",
    "#    print()"
   ]
  }
 ],
 "metadata": {
  "kernelspec": {
   "display_name": "Python 3 (ipykernel)",
   "language": "python",
   "name": "python3"
  },
  "language_info": {
   "codemirror_mode": {
    "name": "ipython",
    "version": 3
   },
   "file_extension": ".py",
   "mimetype": "text/x-python",
   "name": "python",
   "nbconvert_exporter": "python",
   "pygments_lexer": "ipython3",
   "version": "3.11.5"
  }
 },
 "nbformat": 4,
 "nbformat_minor": 5
}
