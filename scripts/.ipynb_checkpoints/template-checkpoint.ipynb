{
 "cells": [
  {
   "cell_type": "code",
   "execution_count": null,
   "id": "8862db99",
   "metadata": {},
   "outputs": [],
   "source": [
    "import pandas as pd\n",
    "import numpy as np\n",
    "import re"
   ]
  },
  {
   "cell_type": "markdown",
   "id": "be4e0254",
   "metadata": {},
   "source": [
    "# Flag for X"
   ]
  },
  {
   "cell_type": "markdown",
   "id": "4d0cd1db",
   "metadata": {},
   "source": [
    "## Motivation "
   ]
  },
  {
   "cell_type": "markdown",
   "id": "54d926b6",
   "metadata": {},
   "source": [
    "## Conditions"
   ]
  },
  {
   "cell_type": "markdown",
   "id": "47e51a62",
   "metadata": {},
   "source": [
    "## Output\n",
    "The code will create a copy of the inspections-citations CSV file in the flagged_citations folder. The file will have the following new columns:\n",
    "\n",
    "- 'flag_cond_1': indicator column for flag condition 1\n",
    "- 'flag_x': indicator column for the x flag"
   ]
  },
  {
   "cell_type": "code",
   "execution_count": null,
   "id": "3d76f868",
   "metadata": {},
   "outputs": [],
   "source": [
    "# Read in most recent aphis inspection-citations.\n",
    "combined_dir = '../aphis-inspection-reports/data/combined/'\n",
    "\n",
    "citations = pd.read_csv(combined_dir + 'inspections-citations.csv')\n",
    "citations.shape"
   ]
  },
  {
   "cell_type": "code",
   "execution_count": null,
   "id": "b673eb6c",
   "metadata": {},
   "outputs": [],
   "source": [
    "# Condition 1\n",
    "flag_keywords = [\n",
    "]\n",
    "\n",
    "citations['flag_cond_1'] = citations['narrative'].apply(lambda x: any(word in x.lower() for word in flag_keywords))\n",
    "citations['flag_cond_1'].value_counts()"
   ]
  },
  {
   "cell_type": "markdown",
   "id": "3fbf4bec",
   "metadata": {},
   "source": [
    "## Creating X Flag Column"
   ]
  },
  {
   "cell_type": "code",
   "execution_count": null,
   "id": "8064c2c6",
   "metadata": {},
   "outputs": [],
   "source": [
    "# Create flag column\n",
    "citations['flag_x'] = citations['flag_cond_1']\n",
    "citations['flag_x'].value_counts()"
   ]
  },
  {
   "cell_type": "markdown",
   "id": "6bbda93e",
   "metadata": {},
   "source": [
    "## Spot-Checking Flag"
   ]
  },
  {
   "cell_type": "code",
   "execution_count": null,
   "id": "4c2c811e",
   "metadata": {},
   "outputs": [],
   "source": [
    "# Spot-check\n",
    "citations['x_flag'].value_counts()"
   ]
  },
  {
   "cell_type": "code",
   "execution_count": null,
   "id": "2eb5c633",
   "metadata": {},
   "outputs": [],
   "source": [
    "# Spot-check\n",
    "citations[citations['x_flag'] == True]['narrative'].sample(100)"
   ]
  },
  {
   "cell_type": "code",
   "execution_count": null,
   "id": "43e93a1c",
   "metadata": {},
   "outputs": [],
   "source": [
    "# Spot-check negatives\n",
    "citations[citations['flag_x'] == False]['narrative'].sample(100)"
   ]
  },
  {
   "cell_type": "code",
   "execution_count": null,
   "id": "e42f71ee",
   "metadata": {},
   "outputs": [],
   "source": [
    "# Save citations with new flag column \n",
    "citations.to_csv('../flagged_citations/x.csv')"
   ]
  }
 ],
 "metadata": {
  "kernelspec": {
   "display_name": "Python 3 (ipykernel)",
   "language": "python",
   "name": "python3"
  },
  "language_info": {
   "codemirror_mode": {
    "name": "ipython",
    "version": 3
   },
   "file_extension": ".py",
   "mimetype": "text/x-python",
   "name": "python",
   "nbconvert_exporter": "python",
   "pygments_lexer": "ipython3",
   "version": "3.11.5"
  }
 },
 "nbformat": 4,
 "nbformat_minor": 5
}
